{
 "cells": [
  {
   "cell_type": "markdown",
   "metadata": {},
   "source": [
    "# Keras generic implementation of tweetshashtag2vec"
   ]
  },
  {
   "cell_type": "code",
   "execution_count": 7,
   "metadata": {},
   "outputs": [
    {
     "name": "stdout",
     "output_type": "stream",
     "text": [
      "[name: \"/device:CPU:0\"\n",
      "device_type: \"CPU\"\n",
      "memory_limit: 268435456\n",
      "locality {\n",
      "}\n",
      "incarnation: 7388235101743159890\n",
      "]\n"
     ]
    },
    {
     "name": "stderr",
     "output_type": "stream",
     "text": [
      "Using TensorFlow backend.\n"
     ]
    },
    {
     "name": "stdout",
     "output_type": "stream",
     "text": [
      "2.1.2\n",
      "tensorflow\n"
     ]
    }
   ],
   "source": [
    "#import tensorflow backend\n",
    "from tensorflow.python.client import device_lib\n",
    "print(device_lib.list_local_devices())\n",
    "import keras\n",
    "from keras.layers import *\n",
    "from keras.models import Sequential, Model\n",
    "from keras.optimizers import *\n",
    "from keras.preprocessing import sequence\n",
    "print(keras.__version__)\n",
    "print(keras.backend.backend())\n",
    "import numpy as np"
   ]
  },
  {
   "cell_type": "code",
   "execution_count": 3,
   "metadata": {
    "collapsed": true
   },
   "outputs": [],
   "source": [
    "#load data\n",
    "with open(\"temp/neg_sample_data.json\", \"r\", encoding=\"utf-8\") as f:\n",
    "    md_nfreq_sample = json.load(f)\n",
    "    \n",
    "with open(\"temp/tweets4classification.json\", \"r\", encoding=\"utf-8\") as f:\n",
    "    md_freq_sample = json.load(f)"
   ]
  },
  {
   "cell_type": "code",
   "execution_count": 5,
   "metadata": {},
   "outputs": [
    {
     "data": {
      "text/plain": [
       "{'hashtag_label': [],\n",
       " 'hashtags': ['cervicalhealthawarenessmonth', 'obamacar'],\n",
       " 'id': '418769437261455360',\n",
       " 'orignal_hashtags': ['#cervicalhealthawarenessmonth', '#obamacare'],\n",
       " 'raw': 'rt @ppsne: jan. is #cervicalhealthawarenessmonth. thanks to #obamacare, pap tests + the hpv vaccine are covered without a copay. http://t.c…',\n",
       " 'text': 'rt : jan. is cervicalhealthawarenessmonth. thanks to obamacare, pap tests + the hpv vaccine are covered without a copay.',\n",
       " 'words': ['rt',\n",
       "  ':',\n",
       "  'jan.',\n",
       "  'is',\n",
       "  'cervicalhealthawarenessmonth',\n",
       "  '.',\n",
       "  'thanks',\n",
       "  'to',\n",
       "  'obamacare',\n",
       "  ',',\n",
       "  'pap',\n",
       "  'tests',\n",
       "  '+',\n",
       "  'the',\n",
       "  'hpv',\n",
       "  'vaccine',\n",
       "  'are',\n",
       "  'covered',\n",
       "  'without',\n",
       "  'a',\n",
       "  'copay',\n",
       "  '.']}"
      ]
     },
     "execution_count": 5,
     "metadata": {},
     "output_type": "execute_result"
    }
   ],
   "source": [
    "md_nfreq_sample['data'][0]"
   ]
  },
  {
   "cell_type": "code",
   "execution_count": 6,
   "metadata": {},
   "outputs": [
    {
     "data": {
      "text/plain": [
       "{'hashtag_label': [1, 5],\n",
       " 'hashtags': ['hpv', 'vaccin'],\n",
       " 'id': '418263863772327936',\n",
       " 'orignal_hashtags': ['#hpv', '#vaccine'],\n",
       " 'raw': 'rt @cdcstd: #hpv vax coverage could be 93% if doctors gave hpv #vaccine each time a preteen/teen got any other vaccine&gt; http://t.co/xxryga5…',\n",
       " 'text': 'rt : hpv vax coverage could be 93% if doctors gave hpv vaccine each time a preteen / teen got any other vaccine>',\n",
       " 'words': ['rt',\n",
       "  ':',\n",
       "  'hpv',\n",
       "  'vax',\n",
       "  'coverage',\n",
       "  'could',\n",
       "  'be',\n",
       "  '93',\n",
       "  '%',\n",
       "  'if',\n",
       "  'doctors',\n",
       "  'gave',\n",
       "  'hpv',\n",
       "  'vaccine',\n",
       "  'each',\n",
       "  'time',\n",
       "  'a',\n",
       "  'preteen',\n",
       "  '/',\n",
       "  'teen',\n",
       "  'got',\n",
       "  'any',\n",
       "  'other',\n",
       "  'vaccine',\n",
       "  '>']}"
      ]
     },
     "execution_count": 6,
     "metadata": {},
     "output_type": "execute_result"
    }
   ],
   "source": [
    "md_freq_sample['data'][0]"
   ]
  },
  {
   "cell_type": "code",
   "execution_count": null,
   "metadata": {
    "collapsed": true
   },
   "outputs": [],
   "source": []
  },
  {
   "cell_type": "markdown",
   "metadata": {
    "collapsed": true
   },
   "source": [
    "# gensim implementation of tweetshashtag2vec using doc2vec api"
   ]
  },
  {
   "cell_type": "code",
   "execution_count": 1,
   "metadata": {},
   "outputs": [
    {
     "name": "stderr",
     "output_type": "stream",
     "text": [
      "E:\\conda\\lib\\site-packages\\gensim\\utils.py:860: UserWarning: detected Windows; aliasing chunkize to chunkize_serial\n",
      "  warnings.warn(\"detected Windows; aliasing chunkize to chunkize_serial\")\n"
     ]
    }
   ],
   "source": [
    "import gensim"
   ]
  },
  {
   "cell_type": "code",
   "execution_count": 16,
   "metadata": {},
   "outputs": [
    {
     "name": "stdout",
     "output_type": "stream",
     "text": [
      "1960039\n",
      "115165\n"
     ]
    },
    {
     "data": {
      "text/plain": [
       "{'hashtag_label': [1, 5],\n",
       " 'hashtags': ['hpv', 'vaccin'],\n",
       " 'id': '418263863772327936',\n",
       " 'orignal_hashtags': ['#hpv', '#vaccine'],\n",
       " 'raw': 'rt @cdcstd: #hpv vax coverage could be 93% if doctors gave hpv #vaccine each time a preteen/teen got any other vaccine&gt; http://t.co/xxryga5…',\n",
       " 'text': 'rt : hpv vax coverage could be 93% if doctors gave hpv vaccine each time a preteen / teen got any other vaccine>',\n",
       " 'words': ['rt',\n",
       "  ':',\n",
       "  'hpv',\n",
       "  'vax',\n",
       "  'coverage',\n",
       "  'could',\n",
       "  'be',\n",
       "  '93',\n",
       "  '%',\n",
       "  'if',\n",
       "  'doctors',\n",
       "  'gave',\n",
       "  'hpv',\n",
       "  'vaccine',\n",
       "  'each',\n",
       "  'time',\n",
       "  'a',\n",
       "  'preteen',\n",
       "  '/',\n",
       "  'teen',\n",
       "  'got',\n",
       "  'any',\n",
       "  'other',\n",
       "  'vaccine',\n",
       "  '>']}"
      ]
     },
     "execution_count": 16,
     "metadata": {},
     "output_type": "execute_result"
    }
   ],
   "source": [
    "#data prepare\n",
    "train_raw_data = md_freq_sample['data'] +  md_nfreq_sample['data']\n",
    "token_count = sum(len(each['words']) for each in train_raw_data)\n",
    "print(token_count)\n",
    "print(len(train_raw_data))\n",
    "train_raw_data[0]"
   ]
  },
  {
   "cell_type": "code",
   "execution_count": 17,
   "metadata": {},
   "outputs": [
    {
     "data": {
      "text/plain": [
       "TaggedDocument(words=['rt', ':', 'hpv', 'vax', 'coverage', 'could', 'be', '93', '%', 'if', 'doctors', 'gave', 'hpv', 'vaccine', 'each', 'time', 'a', 'preteen', '/', 'teen', 'got', 'any', 'other', 'vaccine', '>'], tags=['#hpv', '#vaccine'])"
      ]
     },
     "execution_count": 17,
     "metadata": {},
     "output_type": "execute_result"
    }
   ],
   "source": [
    "from gensim.models.doc2vec import TaggedDocument\n",
    "docs = [TaggedDocument(each['words'], each['orignal_hashtags']) for each in train_raw_data]\n",
    "docs[0]"
   ]
  },
  {
   "cell_type": "code",
   "execution_count": 20,
   "metadata": {},
   "outputs": [
    {
     "name": "stdout",
     "output_type": "stream",
     "text": [
      "Now training epoch 0\n",
      "Now training epoch 20\n",
      "Now training epoch 40\n",
      "Now training epoch 60\n",
      "Now training epoch 80\n"
     ]
    }
   ],
   "source": [
    "#training model\n",
    "model = gensim.models.Doc2Vec(docs, dm = 1, alpha=0.025, min_alpha=0.025, min_count=1)\n",
    "\n",
    "for epoch in range(100):\n",
    "    if epoch % 20 == 0:\n",
    "        print ('Now training epoch %s'%epoch)\n",
    "    model.train(docs, total_examples = token_count, epochs = model.iter)\n",
    "    model.alpha -= 0.002  # decrease the learning rate\n",
    "    model.min_alpha = model.alpha  # fix the learning rate, no decay"
   ]
  },
  {
   "cell_type": "code",
   "execution_count": 29,
   "metadata": {},
   "outputs": [
    {
     "name": "stdout",
     "output_type": "stream",
     "text": [
      "[('liverhealth', 0.3523634374141693), ('hillarys', 0.35067397356033325), ('usfbulls', 0.3452232778072357), ('screenis', 0.3431748151779175), ('meckbocc', 0.3351533114910126), ('linda', 0.33509790897369385), ('reliably', 0.3346606194972992), ('opposehb', 0.3339211046695709), ('curran', 0.3336401581764221), ('heath', 0.33256030082702637)]\n",
      "[ -3.93741485e-03  -1.98754738e-03  -2.70795985e-03   2.24512909e-03\n",
      "   3.73278628e-03  -2.55319849e-03   4.50297352e-03  -2.68983818e-03\n",
      "  -4.09605261e-03   1.00099901e-03   3.14083928e-03  -4.35443129e-03\n",
      "   3.29009513e-03   1.52686203e-03   3.23361019e-03   5.49465534e-04\n",
      "   4.65575280e-03  -2.86946818e-03  -2.41307425e-03  -4.73104045e-03\n",
      "  -1.65909692e-03  -1.75934541e-03   3.03406874e-03   4.34236415e-03\n",
      "   2.77704652e-03   3.93071445e-03   1.71775371e-03   4.69600409e-03\n",
      "   1.46136095e-03   3.92845552e-03  -1.66990375e-03  -3.22868675e-03\n",
      "   1.73513603e-03  -3.32616572e-03   3.40629416e-03   4.16628597e-03\n",
      "   4.51601576e-03   2.02062516e-03  -9.87849562e-05   3.30456044e-03\n",
      "  -1.92995055e-03  -9.24507971e-04   4.92575346e-04   4.79039969e-04\n",
      "   6.92064059e-04   3.90620669e-03  -4.44846833e-03  -2.14869785e-03\n",
      "   1.79951603e-03  -4.40964708e-03  -2.46526208e-03   2.19681906e-03\n",
      "   2.29029334e-03   2.20038393e-03   3.90760833e-03  -2.26566033e-03\n",
      "  -2.43355846e-03   4.87190485e-03   4.03859001e-03   2.64357054e-03\n",
      "  -3.59396869e-03   3.75780714e-04  -3.30117019e-03   8.87410890e-04\n",
      "   3.10455309e-03   4.96099424e-03   1.25278078e-03   4.84981621e-03\n",
      "   2.25004880e-03  -1.45077950e-03  -1.38203974e-03   3.43256141e-03\n",
      "   3.65587464e-03   4.64908918e-03   1.71041035e-03  -3.05091869e-03\n",
      "   5.39650733e-04  -3.03806551e-03   3.60747357e-03  -1.42495125e-03\n",
      "   1.13375147e-03   3.74110881e-03   1.31885102e-03   2.81472108e-03\n",
      "   1.79927985e-04  -4.12478624e-03  -4.41380730e-03   1.23112067e-03\n",
      "  -4.31186473e-03  -4.34572250e-03  -2.24605761e-03  -7.04453269e-04\n",
      "  -4.57748538e-03   3.40830465e-03  -2.03754380e-03  -3.34257446e-03\n",
      "   2.32248800e-03   2.28502136e-03  -3.56890116e-04  -1.56358362e-03]\n",
      "[('#vaccines', 0.9348769783973694), ('#health', 0.9329008460044861), ('#didyouknow', 0.9168163537979126), ('#vaccinate', 0.9162819981575012), ('#saludtues', 0.9122854471206665), ('#vaccineswork', 0.9110774397850037), ('#cervical', 0.9108418822288513), ('#womenshealth', 0.909029483795166), ('#girls', 0.9075198769569397), ('#warts', 0.9074824452400208)]\n",
      "[  2.62279439e+00   4.86812496e+00   2.42341447e+00  -6.55262327e+00\n",
      "  -9.16730046e-01   2.23074686e-02   3.99903512e+00   3.12264562e-01\n",
      "  -1.71490479e+00   2.07358420e-01   1.25826371e+00  -1.00905311e+00\n",
      "   2.57063365e+00  -2.81507540e+00   6.81934071e+00   4.02739191e+00\n",
      "  -2.76416159e+00  -2.17013502e+00   1.04376996e+00   3.23555493e+00\n",
      "  -7.08915353e-01   5.84708261e+00   2.21863437e+00  -3.95405030e+00\n",
      "   5.86910248e+00  -3.64666820e+00   3.52480388e+00   3.23009849e+00\n",
      "   4.04704285e+00  -2.83673763e+00   1.15829265e+00   3.08262396e+00\n",
      "  -5.47081470e+00  -6.60562813e-01  -2.97963572e+00  -5.51343739e-01\n",
      "   3.48540735e+00  -3.86048269e+00  -8.14056873e-01   2.09889030e+00\n",
      "  -1.38062611e-01   1.87255800e+00   3.06112003e+00  -1.27537715e+00\n",
      "  -2.70920753e+00  -3.29283023e+00   8.53511930e-01   1.03465281e-04\n",
      "  -6.51181400e-01  -4.59365273e+00   2.41027761e+00   1.61697555e+00\n",
      "  -2.75059891e+00  -7.14076138e+00  -4.04615021e+00   2.82443833e+00\n",
      "   1.67713356e+00  -3.32011795e+00  -2.57861018e-01  -1.74528766e+00\n",
      "   1.11697888e+00   4.69480181e+00   4.76489401e+00   2.21195653e-01\n",
      "  -6.04345083e-01   3.54792309e+00  -3.45001608e-01   7.59211659e-01\n",
      "  -1.82746327e+00  -4.76860642e-01   3.20338160e-01  -4.78961182e+00\n",
      "   1.38647330e+00   3.32110620e+00   6.62976980e+00   1.91320097e+00\n",
      "   3.15430975e+00   4.10333347e+00   3.48312914e-01  -3.58443379e+00\n",
      "   3.25857043e+00  -7.07068157e+00   1.13181603e+00   7.67549500e-02\n",
      "  -6.24962032e-01   4.25726795e+00   7.70552099e-01  -4.34368229e+00\n",
      "   7.43151617e+00  -5.45162344e+00  -2.76773214e+00   1.96710849e+00\n",
      "  -5.70601845e+00   1.38112319e+00   5.87188065e-01  -2.90370584e+00\n",
      "  -9.06442702e-02  -2.01269007e+00   2.73412704e+00   3.01727891e-01]\n"
     ]
    },
    {
     "ename": "KeyError",
     "evalue": "'hpv'",
     "output_type": "error",
     "traceback": [
      "\u001b[1;31m---------------------------------------------------------------------------\u001b[0m",
      "\u001b[1;31mKeyError\u001b[0m                                  Traceback (most recent call last)",
      "\u001b[1;32m<ipython-input-29-f9a7500e9b00>\u001b[0m in \u001b[0;36m<module>\u001b[1;34m()\u001b[0m\n\u001b[0;32m     11\u001b[0m \u001b[0mprint\u001b[0m\u001b[1;33m(\u001b[0m\u001b[0mmodel\u001b[0m\u001b[1;33m.\u001b[0m\u001b[0mdocvecs\u001b[0m\u001b[1;33m[\u001b[0m\u001b[1;34m'#hpv'\u001b[0m\u001b[1;33m]\u001b[0m\u001b[1;33m)\u001b[0m\u001b[1;33m\u001b[0m\u001b[0m\n\u001b[0;32m     12\u001b[0m \u001b[1;33m\u001b[0m\u001b[0m\n\u001b[1;32m---> 13\u001b[1;33m \u001b[0mmodel\u001b[0m\u001b[1;33m.\u001b[0m\u001b[0mdocvecs\u001b[0m\u001b[1;33m.\u001b[0m\u001b[0msimilarity\u001b[0m\u001b[1;33m(\u001b[0m\u001b[1;34m\"#hpv\"\u001b[0m\u001b[1;33m,\u001b[0m \u001b[1;34m\"hpv\"\u001b[0m\u001b[1;33m)\u001b[0m\u001b[1;33m\u001b[0m\u001b[0m\n\u001b[0m",
      "\u001b[1;32mE:\\conda\\lib\\site-packages\\gensim\\models\\doc2vec.py\u001b[0m in \u001b[0;36msimilarity\u001b[1;34m(self, d1, d2)\u001b[0m\n\u001b[0;32m    518\u001b[0m \u001b[1;33m\u001b[0m\u001b[0m\n\u001b[0;32m    519\u001b[0m         \"\"\"\n\u001b[1;32m--> 520\u001b[1;33m         \u001b[1;32mreturn\u001b[0m \u001b[0mdot\u001b[0m\u001b[1;33m(\u001b[0m\u001b[0mmatutils\u001b[0m\u001b[1;33m.\u001b[0m\u001b[0munitvec\u001b[0m\u001b[1;33m(\u001b[0m\u001b[0mself\u001b[0m\u001b[1;33m[\u001b[0m\u001b[0md1\u001b[0m\u001b[1;33m]\u001b[0m\u001b[1;33m)\u001b[0m\u001b[1;33m,\u001b[0m \u001b[0mmatutils\u001b[0m\u001b[1;33m.\u001b[0m\u001b[0munitvec\u001b[0m\u001b[1;33m(\u001b[0m\u001b[0mself\u001b[0m\u001b[1;33m[\u001b[0m\u001b[0md2\u001b[0m\u001b[1;33m]\u001b[0m\u001b[1;33m)\u001b[0m\u001b[1;33m)\u001b[0m\u001b[1;33m\u001b[0m\u001b[0m\n\u001b[0m\u001b[0;32m    521\u001b[0m \u001b[1;33m\u001b[0m\u001b[0m\n\u001b[0;32m    522\u001b[0m     \u001b[1;32mdef\u001b[0m \u001b[0mn_similarity\u001b[0m\u001b[1;33m(\u001b[0m\u001b[0mself\u001b[0m\u001b[1;33m,\u001b[0m \u001b[0mds1\u001b[0m\u001b[1;33m,\u001b[0m \u001b[0mds2\u001b[0m\u001b[1;33m)\u001b[0m\u001b[1;33m:\u001b[0m\u001b[1;33m\u001b[0m\u001b[0m\n",
      "\u001b[1;32mE:\\conda\\lib\\site-packages\\gensim\\models\\doc2vec.py\u001b[0m in \u001b[0;36m__getitem__\u001b[1;34m(self, index)\u001b[0m\n\u001b[0;32m    353\u001b[0m         \"\"\"\n\u001b[0;32m    354\u001b[0m         \u001b[1;32mif\u001b[0m \u001b[0misinstance\u001b[0m\u001b[1;33m(\u001b[0m\u001b[0mindex\u001b[0m\u001b[1;33m,\u001b[0m \u001b[0mstring_types\u001b[0m \u001b[1;33m+\u001b[0m \u001b[0minteger_types\u001b[0m \u001b[1;33m+\u001b[0m \u001b[1;33m(\u001b[0m\u001b[0minteger\u001b[0m\u001b[1;33m,\u001b[0m\u001b[1;33m)\u001b[0m\u001b[1;33m)\u001b[0m\u001b[1;33m:\u001b[0m\u001b[1;33m\u001b[0m\u001b[0m\n\u001b[1;32m--> 355\u001b[1;33m             \u001b[1;32mreturn\u001b[0m \u001b[0mself\u001b[0m\u001b[1;33m.\u001b[0m\u001b[0mdoctag_syn0\u001b[0m\u001b[1;33m[\u001b[0m\u001b[0mself\u001b[0m\u001b[1;33m.\u001b[0m\u001b[0m_int_index\u001b[0m\u001b[1;33m(\u001b[0m\u001b[0mindex\u001b[0m\u001b[1;33m)\u001b[0m\u001b[1;33m]\u001b[0m\u001b[1;33m\u001b[0m\u001b[0m\n\u001b[0m\u001b[0;32m    356\u001b[0m \u001b[1;33m\u001b[0m\u001b[0m\n\u001b[0;32m    357\u001b[0m         \u001b[1;32mreturn\u001b[0m \u001b[0mvstack\u001b[0m\u001b[1;33m(\u001b[0m\u001b[1;33m[\u001b[0m\u001b[0mself\u001b[0m\u001b[1;33m[\u001b[0m\u001b[0mi\u001b[0m\u001b[1;33m]\u001b[0m \u001b[1;32mfor\u001b[0m \u001b[0mi\u001b[0m \u001b[1;32min\u001b[0m \u001b[0mindex\u001b[0m\u001b[1;33m]\u001b[0m\u001b[1;33m)\u001b[0m\u001b[1;33m\u001b[0m\u001b[0m\n",
      "\u001b[1;32mE:\\conda\\lib\\site-packages\\gensim\\models\\doc2vec.py\u001b[0m in \u001b[0;36m_int_index\u001b[1;34m(self, index)\u001b[0m\n\u001b[0;32m    327\u001b[0m             \u001b[1;32mreturn\u001b[0m \u001b[0mindex\u001b[0m\u001b[1;33m\u001b[0m\u001b[0m\n\u001b[0;32m    328\u001b[0m         \u001b[1;32melse\u001b[0m\u001b[1;33m:\u001b[0m\u001b[1;33m\u001b[0m\u001b[0m\n\u001b[1;32m--> 329\u001b[1;33m             \u001b[1;32mreturn\u001b[0m \u001b[0mself\u001b[0m\u001b[1;33m.\u001b[0m\u001b[0mmax_rawint\u001b[0m \u001b[1;33m+\u001b[0m \u001b[1;36m1\u001b[0m \u001b[1;33m+\u001b[0m \u001b[0mself\u001b[0m\u001b[1;33m.\u001b[0m\u001b[0mdoctags\u001b[0m\u001b[1;33m[\u001b[0m\u001b[0mindex\u001b[0m\u001b[1;33m]\u001b[0m\u001b[1;33m.\u001b[0m\u001b[0moffset\u001b[0m\u001b[1;33m\u001b[0m\u001b[0m\n\u001b[0m\u001b[0;32m    330\u001b[0m \u001b[1;33m\u001b[0m\u001b[0m\n\u001b[0;32m    331\u001b[0m     \u001b[1;33m@\u001b[0m\u001b[0mdeprecated\u001b[0m\u001b[1;33m(\u001b[0m\u001b[1;34m\"Method will be removed in 4.0.0, use self.index_to_doctag instead\"\u001b[0m\u001b[1;33m)\u001b[0m\u001b[1;33m\u001b[0m\u001b[0m\n",
      "\u001b[1;31mKeyError\u001b[0m: 'hpv'"
     ]
    }
   ],
   "source": [
    "# shows the similar words\n",
    "print (model.wv.most_similar('hpv'))\n",
    " \n",
    "# shows the learnt embedding\n",
    "print (model.wv['hpv'])\n",
    " \n",
    "# shows the similar docs with tag = #hpv\n",
    "print (model.docvecs.most_similar(\"#hpv\"))\n",
    "\n",
    "#hashtag embeddings\n",
    "print(model.docvecs['#hpv'])"
   ]
  },
  {
   "cell_type": "code",
   "execution_count": null,
   "metadata": {
    "collapsed": true
   },
   "outputs": [],
   "source": []
  }
 ],
 "metadata": {
  "kernelspec": {
   "display_name": "Python 3",
   "language": "python",
   "name": "python3"
  },
  "language_info": {
   "codemirror_mode": {
    "name": "ipython",
    "version": 3
   },
   "file_extension": ".py",
   "mimetype": "text/x-python",
   "name": "python",
   "nbconvert_exporter": "python",
   "pygments_lexer": "ipython3",
   "version": "3.6.3"
  },
  "toc": {
   "nav_menu": {},
   "number_sections": true,
   "sideBar": true,
   "skip_h1_title": false,
   "toc_cell": false,
   "toc_position": {},
   "toc_section_display": "block",
   "toc_window_display": false
  }
 },
 "nbformat": 4,
 "nbformat_minor": 2
}
