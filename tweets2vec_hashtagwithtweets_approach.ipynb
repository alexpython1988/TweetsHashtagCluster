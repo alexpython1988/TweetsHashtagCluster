{
 "cells": [
  {
   "cell_type": "markdown",
   "metadata": {},
   "source": [
    "# Keras generic implementation of tweetshashtag2vec"
   ]
  },
  {
   "cell_type": "code",
   "execution_count": 1,
   "metadata": {},
   "outputs": [
    {
     "name": "stdout",
     "output_type": "stream",
     "text": [
      "[name: \"/device:CPU:0\"\n",
      "device_type: \"CPU\"\n",
      "memory_limit: 268435456\n",
      "locality {\n",
      "}\n",
      "incarnation: 17913481044391591244\n",
      "]\n",
      "2.1.2\n",
      "tensorflow\n"
     ]
    },
    {
     "name": "stderr",
     "output_type": "stream",
     "text": [
      "Using TensorFlow backend.\n"
     ]
    }
   ],
   "source": [
    "#import tensorflow backend\n",
    "from tensorflow.python.client import device_lib\n",
    "print(device_lib.list_local_devices())\n",
    "import keras\n",
    "from keras.layers import *\n",
    "from keras.models import Sequential, Model\n",
    "from keras.optimizers import *\n",
    "from keras.preprocessing import sequence\n",
    "print(keras.__version__)\n",
    "print(keras.backend.backend())\n",
    "import numpy as np"
   ]
  },
  {
   "cell_type": "code",
   "execution_count": 2,
   "metadata": {
    "collapsed": true
   },
   "outputs": [],
   "source": [
    "#load data\n",
    "with open(\"temp/neg_sample_data.json\", \"r\", encoding=\"utf-8\") as f:\n",
    "    md_nfreq_sample = json.load(f)\n",
    "    \n",
    "with open(\"temp/tweets4classification.json\", \"r\", encoding=\"utf-8\") as f:\n",
    "    md_freq_sample = json.load(f)"
   ]
  },
  {
   "cell_type": "code",
   "execution_count": 3,
   "metadata": {},
   "outputs": [
    {
     "data": {
      "text/plain": [
       "{'hashtag_label': [],\n",
       " 'hashtags': ['cervicalhealthawarenessmonth', 'obamacar'],\n",
       " 'id': '418769437261455360',\n",
       " 'orignal_hashtags': ['#cervicalhealthawarenessmonth', '#obamacare'],\n",
       " 'raw': 'rt @ppsne: jan. is #cervicalhealthawarenessmonth. thanks to #obamacare, pap tests + the hpv vaccine are covered without a copay. http://t.c…',\n",
       " 'text': 'rt : jan. is cervicalhealthawarenessmonth. thanks to obamacare, pap tests + the hpv vaccine are covered without a copay.',\n",
       " 'words': ['rt',\n",
       "  ':',\n",
       "  'jan.',\n",
       "  'is',\n",
       "  'cervicalhealthawarenessmonth',\n",
       "  '.',\n",
       "  'thanks',\n",
       "  'to',\n",
       "  'obamacare',\n",
       "  ',',\n",
       "  'pap',\n",
       "  'tests',\n",
       "  '+',\n",
       "  'the',\n",
       "  'hpv',\n",
       "  'vaccine',\n",
       "  'are',\n",
       "  'covered',\n",
       "  'without',\n",
       "  'a',\n",
       "  'copay',\n",
       "  '.']}"
      ]
     },
     "execution_count": 3,
     "metadata": {},
     "output_type": "execute_result"
    }
   ],
   "source": [
    "md_nfreq_sample['data'][0]"
   ]
  },
  {
   "cell_type": "code",
   "execution_count": 4,
   "metadata": {},
   "outputs": [
    {
     "data": {
      "text/plain": [
       "{'hashtag_label': [1, 5],\n",
       " 'hashtags': ['hpv', 'vaccin'],\n",
       " 'id': '418263863772327936',\n",
       " 'orignal_hashtags': ['#hpv', '#vaccine'],\n",
       " 'raw': 'rt @cdcstd: #hpv vax coverage could be 93% if doctors gave hpv #vaccine each time a preteen/teen got any other vaccine&gt; http://t.co/xxryga5…',\n",
       " 'text': 'rt : hpv vax coverage could be 93% if doctors gave hpv vaccine each time a preteen / teen got any other vaccine>',\n",
       " 'words': ['rt',\n",
       "  ':',\n",
       "  'hpv',\n",
       "  'vax',\n",
       "  'coverage',\n",
       "  'could',\n",
       "  'be',\n",
       "  '93',\n",
       "  '%',\n",
       "  'if',\n",
       "  'doctors',\n",
       "  'gave',\n",
       "  'hpv',\n",
       "  'vaccine',\n",
       "  'each',\n",
       "  'time',\n",
       "  'a',\n",
       "  'preteen',\n",
       "  '/',\n",
       "  'teen',\n",
       "  'got',\n",
       "  'any',\n",
       "  'other',\n",
       "  'vaccine',\n",
       "  '>']}"
      ]
     },
     "execution_count": 4,
     "metadata": {},
     "output_type": "execute_result"
    }
   ],
   "source": [
    "md_freq_sample['data'][0]"
   ]
  },
  {
   "cell_type": "markdown",
   "metadata": {
    "collapsed": true
   },
   "source": [
    "# gensim implementation of tweetshashtag2vec using doc2vec api"
   ]
  },
  {
   "cell_type": "code",
   "execution_count": 6,
   "metadata": {
    "collapsed": true
   },
   "outputs": [],
   "source": [
    "import gensim"
   ]
  },
  {
   "cell_type": "markdown",
   "metadata": {},
   "source": [
    "## train a doc2vec based on a dataset with all hashtags"
   ]
  },
  {
   "cell_type": "code",
   "execution_count": 82,
   "metadata": {},
   "outputs": [
    {
     "name": "stdout",
     "output_type": "stream",
     "text": [
      "['rt', ':', 'hpv', 'vax', 'coverage', 'could', 'be', '93', '%', 'if', 'doctors', 'gave', 'hpv', 'vaccine', 'each', 'time', 'a', 'preteen', '/', 'teen', 'got', 'any', 'other', 'vaccine', '>']\n",
      "115165\n"
     ]
    },
    {
     "data": {
      "text/plain": [
       "{'hashtag_label': [1, 5],\n",
       " 'hashtags': ['hpv', 'vaccin'],\n",
       " 'id': '418263863772327936',\n",
       " 'orignal_hashtags': ['#hpv', '#vaccine'],\n",
       " 'raw': 'rt @cdcstd: #hpv vax coverage could be 93% if doctors gave hpv #vaccine each time a preteen/teen got any other vaccine&gt; http://t.co/xxryga5…',\n",
       " 'text': 'rt : hpv vax coverage could be 93% if doctors gave hpv vaccine each time a preteen / teen got any other vaccine>',\n",
       " 'words': ['rt',\n",
       "  ':',\n",
       "  'hpv',\n",
       "  'vax',\n",
       "  'coverage',\n",
       "  'could',\n",
       "  'be',\n",
       "  '93',\n",
       "  '%',\n",
       "  'if',\n",
       "  'doctors',\n",
       "  'gave',\n",
       "  'hpv',\n",
       "  'vaccine',\n",
       "  'each',\n",
       "  'time',\n",
       "  'a',\n",
       "  'preteen',\n",
       "  '/',\n",
       "  'teen',\n",
       "  'got',\n",
       "  'any',\n",
       "  'other',\n",
       "  'vaccine',\n",
       "  '>']}"
      ]
     },
     "execution_count": 82,
     "metadata": {},
     "output_type": "execute_result"
    }
   ],
   "source": [
    "#data prepare\n",
    "train_raw_data = md_freq_sample['data'] +  md_nfreq_sample['data']\n",
    "print(train_raw_data[0]['words'])\n",
    "print(len(train_raw_data))\n",
    "train_raw_data[0]"
   ]
  },
  {
   "cell_type": "code",
   "execution_count": 83,
   "metadata": {},
   "outputs": [
    {
     "name": "stdout",
     "output_type": "stream",
     "text": [
      "1960039\n",
      "239984\n"
     ]
    },
    {
     "data": {
      "text/plain": [
       "TaggedDocument(words=['new', 'concerns', 'about', 'the', 'human', 'papillomavirus', 'vaccine'], tags=['#vaccine'])"
      ]
     },
     "execution_count": 83,
     "metadata": {},
     "output_type": "execute_result"
    }
   ],
   "source": [
    "from gensim.models.doc2vec import TaggedDocument\n",
    "docs = [TaggedDocument(each['words'], each['orignal_hashtags']) for each in train_raw_data]\n",
    "words_count = sum(len(each[0]) for each in docs)\n",
    "tags_count = sum(len(each[1]) for each in docs)\n",
    "print(words_count)\n",
    "print(tags_count)\n",
    "np.random.shuffle(docs)\n",
    "docs[0]"
   ]
  },
  {
   "cell_type": "code",
   "execution_count": 84,
   "metadata": {},
   "outputs": [
    {
     "ename": "KeyboardInterrupt",
     "evalue": "",
     "output_type": "error",
     "traceback": [
      "\u001b[1;31m---------------------------------------------------------------------------\u001b[0m",
      "\u001b[1;31mKeyboardInterrupt\u001b[0m                         Traceback (most recent call last)",
      "\u001b[1;32m<timed exec>\u001b[0m in \u001b[0;36m<module>\u001b[1;34m()\u001b[0m\n",
      "\u001b[1;32mE:\\conda\\lib\\site-packages\\gensim\\models\\word2vec.py\u001b[0m in \u001b[0;36mtrain\u001b[1;34m(self, sentences, total_examples, total_words, epochs, start_alpha, end_alpha, word_count, queue_factor, report_delay, compute_loss)\u001b[0m\n\u001b[0;32m   1074\u001b[0m \u001b[1;33m\u001b[0m\u001b[0m\n\u001b[0;32m   1075\u001b[0m         \u001b[1;32mwhile\u001b[0m \u001b[0munfinished_worker_count\u001b[0m \u001b[1;33m>\u001b[0m \u001b[1;36m0\u001b[0m\u001b[1;33m:\u001b[0m\u001b[1;33m\u001b[0m\u001b[0m\n\u001b[1;32m-> 1076\u001b[1;33m             \u001b[0mreport\u001b[0m \u001b[1;33m=\u001b[0m \u001b[0mprogress_queue\u001b[0m\u001b[1;33m.\u001b[0m\u001b[0mget\u001b[0m\u001b[1;33m(\u001b[0m\u001b[1;33m)\u001b[0m  \u001b[1;31m# blocks if workers too slow\u001b[0m\u001b[1;33m\u001b[0m\u001b[0m\n\u001b[0m\u001b[0;32m   1077\u001b[0m             \u001b[1;32mif\u001b[0m \u001b[0mreport\u001b[0m \u001b[1;32mis\u001b[0m \u001b[1;32mNone\u001b[0m\u001b[1;33m:\u001b[0m  \u001b[1;31m# a thread reporting that it finished\u001b[0m\u001b[1;33m\u001b[0m\u001b[0m\n\u001b[0;32m   1078\u001b[0m                 \u001b[0munfinished_worker_count\u001b[0m \u001b[1;33m-=\u001b[0m \u001b[1;36m1\u001b[0m\u001b[1;33m\u001b[0m\u001b[0m\n",
      "\u001b[1;32mE:\\conda\\lib\\queue.py\u001b[0m in \u001b[0;36mget\u001b[1;34m(self, block, timeout)\u001b[0m\n\u001b[0;32m    162\u001b[0m             \u001b[1;32melif\u001b[0m \u001b[0mtimeout\u001b[0m \u001b[1;32mis\u001b[0m \u001b[1;32mNone\u001b[0m\u001b[1;33m:\u001b[0m\u001b[1;33m\u001b[0m\u001b[0m\n\u001b[0;32m    163\u001b[0m                 \u001b[1;32mwhile\u001b[0m \u001b[1;32mnot\u001b[0m \u001b[0mself\u001b[0m\u001b[1;33m.\u001b[0m\u001b[0m_qsize\u001b[0m\u001b[1;33m(\u001b[0m\u001b[1;33m)\u001b[0m\u001b[1;33m:\u001b[0m\u001b[1;33m\u001b[0m\u001b[0m\n\u001b[1;32m--> 164\u001b[1;33m                     \u001b[0mself\u001b[0m\u001b[1;33m.\u001b[0m\u001b[0mnot_empty\u001b[0m\u001b[1;33m.\u001b[0m\u001b[0mwait\u001b[0m\u001b[1;33m(\u001b[0m\u001b[1;33m)\u001b[0m\u001b[1;33m\u001b[0m\u001b[0m\n\u001b[0m\u001b[0;32m    165\u001b[0m             \u001b[1;32melif\u001b[0m \u001b[0mtimeout\u001b[0m \u001b[1;33m<\u001b[0m \u001b[1;36m0\u001b[0m\u001b[1;33m:\u001b[0m\u001b[1;33m\u001b[0m\u001b[0m\n\u001b[0;32m    166\u001b[0m                 \u001b[1;32mraise\u001b[0m \u001b[0mValueError\u001b[0m\u001b[1;33m(\u001b[0m\u001b[1;34m\"'timeout' must be a non-negative number\"\u001b[0m\u001b[1;33m)\u001b[0m\u001b[1;33m\u001b[0m\u001b[0m\n",
      "\u001b[1;32mE:\\conda\\lib\\threading.py\u001b[0m in \u001b[0;36mwait\u001b[1;34m(self, timeout)\u001b[0m\n\u001b[0;32m    293\u001b[0m         \u001b[1;32mtry\u001b[0m\u001b[1;33m:\u001b[0m    \u001b[1;31m# restore state no matter what (e.g., KeyboardInterrupt)\u001b[0m\u001b[1;33m\u001b[0m\u001b[0m\n\u001b[0;32m    294\u001b[0m             \u001b[1;32mif\u001b[0m \u001b[0mtimeout\u001b[0m \u001b[1;32mis\u001b[0m \u001b[1;32mNone\u001b[0m\u001b[1;33m:\u001b[0m\u001b[1;33m\u001b[0m\u001b[0m\n\u001b[1;32m--> 295\u001b[1;33m                 \u001b[0mwaiter\u001b[0m\u001b[1;33m.\u001b[0m\u001b[0macquire\u001b[0m\u001b[1;33m(\u001b[0m\u001b[1;33m)\u001b[0m\u001b[1;33m\u001b[0m\u001b[0m\n\u001b[0m\u001b[0;32m    296\u001b[0m                 \u001b[0mgotit\u001b[0m \u001b[1;33m=\u001b[0m \u001b[1;32mTrue\u001b[0m\u001b[1;33m\u001b[0m\u001b[0m\n\u001b[0;32m    297\u001b[0m             \u001b[1;32melse\u001b[0m\u001b[1;33m:\u001b[0m\u001b[1;33m\u001b[0m\u001b[0m\n",
      "\u001b[1;31mKeyboardInterrupt\u001b[0m: "
     ]
    }
   ],
   "source": [
    "%%time \n",
    "#training model manully tune alpha\n",
    "import multiprocessing\n",
    "#using PV-DM w/ concatenation - window=5 (both sides) \n",
    "model = gensim.models.doc2vec.Doc2Vec(dm=1, dm_concat=1, size=100, window=5, negative=5, hs=0, alpha=0.025, min_alpha=0.025, workers=multiprocessing.cpu_count(), iter = 50)\n",
    "model.build_vocab(docs)\n",
    "\n",
    "for epoch in range(100):\n",
    "    if epoch % 10 == 0:\n",
    "        print ('Now training epoch %s'%epoch)\n",
    "    model.train(docs, total_examples = words_count, epochs = model.iter)\n",
    "    model.alpha -= 0.002  # decrease the learning rate\n",
    "    model.min_alpha = model.alpha  # fix the learning rate, no decay"
   ]
  },
  {
   "cell_type": "code",
   "execution_count": 85,
   "metadata": {},
   "outputs": [
    {
     "ename": "KeyboardInterrupt",
     "evalue": "",
     "output_type": "error",
     "traceback": [
      "\u001b[1;31m---------------------------------------------------------------------------\u001b[0m",
      "\u001b[1;31mKeyboardInterrupt\u001b[0m                         Traceback (most recent call last)",
      "\u001b[1;32m<timed exec>\u001b[0m in \u001b[0;36m<module>\u001b[1;34m()\u001b[0m\n",
      "\u001b[1;32mE:\\conda\\lib\\site-packages\\gensim\\models\\word2vec.py\u001b[0m in \u001b[0;36mtrain\u001b[1;34m(self, sentences, total_examples, total_words, epochs, start_alpha, end_alpha, word_count, queue_factor, report_delay, compute_loss)\u001b[0m\n\u001b[0;32m   1074\u001b[0m \u001b[1;33m\u001b[0m\u001b[0m\n\u001b[0;32m   1075\u001b[0m         \u001b[1;32mwhile\u001b[0m \u001b[0munfinished_worker_count\u001b[0m \u001b[1;33m>\u001b[0m \u001b[1;36m0\u001b[0m\u001b[1;33m:\u001b[0m\u001b[1;33m\u001b[0m\u001b[0m\n\u001b[1;32m-> 1076\u001b[1;33m             \u001b[0mreport\u001b[0m \u001b[1;33m=\u001b[0m \u001b[0mprogress_queue\u001b[0m\u001b[1;33m.\u001b[0m\u001b[0mget\u001b[0m\u001b[1;33m(\u001b[0m\u001b[1;33m)\u001b[0m  \u001b[1;31m# blocks if workers too slow\u001b[0m\u001b[1;33m\u001b[0m\u001b[0m\n\u001b[0m\u001b[0;32m   1077\u001b[0m             \u001b[1;32mif\u001b[0m \u001b[0mreport\u001b[0m \u001b[1;32mis\u001b[0m \u001b[1;32mNone\u001b[0m\u001b[1;33m:\u001b[0m  \u001b[1;31m# a thread reporting that it finished\u001b[0m\u001b[1;33m\u001b[0m\u001b[0m\n\u001b[0;32m   1078\u001b[0m                 \u001b[0munfinished_worker_count\u001b[0m \u001b[1;33m-=\u001b[0m \u001b[1;36m1\u001b[0m\u001b[1;33m\u001b[0m\u001b[0m\n",
      "\u001b[1;32mE:\\conda\\lib\\queue.py\u001b[0m in \u001b[0;36mget\u001b[1;34m(self, block, timeout)\u001b[0m\n\u001b[0;32m    162\u001b[0m             \u001b[1;32melif\u001b[0m \u001b[0mtimeout\u001b[0m \u001b[1;32mis\u001b[0m \u001b[1;32mNone\u001b[0m\u001b[1;33m:\u001b[0m\u001b[1;33m\u001b[0m\u001b[0m\n\u001b[0;32m    163\u001b[0m                 \u001b[1;32mwhile\u001b[0m \u001b[1;32mnot\u001b[0m \u001b[0mself\u001b[0m\u001b[1;33m.\u001b[0m\u001b[0m_qsize\u001b[0m\u001b[1;33m(\u001b[0m\u001b[1;33m)\u001b[0m\u001b[1;33m:\u001b[0m\u001b[1;33m\u001b[0m\u001b[0m\n\u001b[1;32m--> 164\u001b[1;33m                     \u001b[0mself\u001b[0m\u001b[1;33m.\u001b[0m\u001b[0mnot_empty\u001b[0m\u001b[1;33m.\u001b[0m\u001b[0mwait\u001b[0m\u001b[1;33m(\u001b[0m\u001b[1;33m)\u001b[0m\u001b[1;33m\u001b[0m\u001b[0m\n\u001b[0m\u001b[0;32m    165\u001b[0m             \u001b[1;32melif\u001b[0m \u001b[0mtimeout\u001b[0m \u001b[1;33m<\u001b[0m \u001b[1;36m0\u001b[0m\u001b[1;33m:\u001b[0m\u001b[1;33m\u001b[0m\u001b[0m\n\u001b[0;32m    166\u001b[0m                 \u001b[1;32mraise\u001b[0m \u001b[0mValueError\u001b[0m\u001b[1;33m(\u001b[0m\u001b[1;34m\"'timeout' must be a non-negative number\"\u001b[0m\u001b[1;33m)\u001b[0m\u001b[1;33m\u001b[0m\u001b[0m\n",
      "\u001b[1;32mE:\\conda\\lib\\threading.py\u001b[0m in \u001b[0;36mwait\u001b[1;34m(self, timeout)\u001b[0m\n\u001b[0;32m    293\u001b[0m         \u001b[1;32mtry\u001b[0m\u001b[1;33m:\u001b[0m    \u001b[1;31m# restore state no matter what (e.g., KeyboardInterrupt)\u001b[0m\u001b[1;33m\u001b[0m\u001b[0m\n\u001b[0;32m    294\u001b[0m             \u001b[1;32mif\u001b[0m \u001b[0mtimeout\u001b[0m \u001b[1;32mis\u001b[0m \u001b[1;32mNone\u001b[0m\u001b[1;33m:\u001b[0m\u001b[1;33m\u001b[0m\u001b[0m\n\u001b[1;32m--> 295\u001b[1;33m                 \u001b[0mwaiter\u001b[0m\u001b[1;33m.\u001b[0m\u001b[0macquire\u001b[0m\u001b[1;33m(\u001b[0m\u001b[1;33m)\u001b[0m\u001b[1;33m\u001b[0m\u001b[0m\n\u001b[0m\u001b[0;32m    296\u001b[0m                 \u001b[0mgotit\u001b[0m \u001b[1;33m=\u001b[0m \u001b[1;32mTrue\u001b[0m\u001b[1;33m\u001b[0m\u001b[0m\n\u001b[0;32m    297\u001b[0m             \u001b[1;32melse\u001b[0m\u001b[1;33m:\u001b[0m\u001b[1;33m\u001b[0m\u001b[0m\n",
      "\u001b[1;31mKeyboardInterrupt\u001b[0m: "
     ]
    }
   ],
   "source": [
    "%%time\n",
    "#training model\n",
    "model2 = gensim.models.doc2vec.Doc2Vec(dm=0, dbow_words=1, size=100, alpha=0.025, min_alpha=0.025, min_count=1, workers=multiprocessing.cpu_count(), iter=100, window = 30)\n",
    "model2.build_vocab(docs)\n",
    "model2.train(docs, total_examples = words_count, epochs = model.iter)"
   ]
  },
  {
   "cell_type": "code",
   "execution_count": 86,
   "metadata": {},
   "outputs": [
    {
     "name": "stdout",
     "output_type": "stream",
     "text": [
      "[('agenda-driven', 11.459138870239258), ('ssmear', 10.960464477539062), ('donotmakeexcuses', 10.914814949035645), ('billgatesfoundation', 10.402748107910156), ('122,844', 9.931833267211914), ('hpvfirst', 9.367964744567871), ('thinkcurefightscancer', 8.569284439086914), ('gymsm', 8.376276016235352), ('hinduwomen', 7.613397121429443), ('repostwhiz', 7.118128299713135)]\n",
      "\n",
      "[ 0.11264648 -0.21668991  0.13107809 -0.9405598   0.15381834 -0.05187678\n",
      "  0.20910028 -0.02861865 -0.01222217 -0.18312216 -0.39389199  0.58489096\n",
      "  0.47533345  0.0807405  -0.19685933 -0.26060975  0.22280709  0.43311453\n",
      " -0.15438248  0.06454793 -0.07205147 -0.19594242  0.11337518  0.27306393\n",
      "  0.24934128  0.30060491 -0.31004781 -0.44996673  0.20935149  0.16052416\n",
      " -0.56223422  0.45934319 -0.01562869 -0.64408451  0.1227384   0.14081834\n",
      "  0.31652755  0.38460553  0.69540685 -0.015424   -0.10904443 -0.17931001\n",
      "  0.39052817 -0.15917586 -0.47400111 -0.37571183  0.07580312  0.38070074\n",
      " -0.13670345 -0.04284313  0.41090503  0.49555984 -0.00507291 -0.60615003\n",
      " -0.37387109  0.06769127 -0.18477812  0.30215773  0.6958186   0.3164658\n",
      "  0.01350437 -0.09355671 -0.3888157   0.15819277  0.1435708  -0.39480191\n",
      "  0.40184015 -0.40564954 -0.23123385  0.56811017  0.17980155  0.06864652\n",
      "  0.02849112  0.1138097   0.0028057  -0.0952822   1.07723546 -0.05307023\n",
      " -0.29191253 -0.10191519  0.1549086   0.11833382  0.26446083  0.31750202\n",
      " -0.00229997 -0.1976258   0.01208429 -0.03586812 -0.23116677  0.29850018\n",
      " -0.5079484  -0.11387695  0.07176077  0.1789667   0.11184587 -0.37572548\n",
      "  0.30109221 -0.06173036 -0.02689931 -0.17076246]\n",
      "\n",
      "[('#nocure', 14.107959747314453), ('#arhp', 13.0497465133667), ('#actslikecancer', 12.37769889831543), ('#canturntocancer', 10.447076797485352), ('#500pxrtg', 7.1990251541137695), ('#usnews', 7.128289222717285), ('#learnthe', 0.7922521233558655), ('#hpvpittsburgh', 0.7802518010139465), ('#terrible', 0.7634658813476562), ('#moms', 0.7609498500823975)]\n",
      "[('#arhp', 14.529041290283203), ('#nocure', 13.670003890991211), ('#canturntocancer', 12.07981014251709), ('#actslikecancer', 12.02824592590332), ('#usnews', 8.746623992919922), ('#500pxrtg', 7.104475021362305), ('#mhealth', 0.8325937390327454), ('#aap15', 0.8230459094047546), ('#vaccinations', 0.8200396299362183), ('#teenhealth', 0.8186849355697632)]\n",
      "[('#actslikecancer', 14.266782760620117), ('#nocure', 14.112834930419922), ('#arhp', 12.712106704711914), ('#canturntocancer', 11.514291763305664), ('#usnews', 7.870904445648193), ('#500pxrtg', 7.25301456451416), ('#terrible', 0.8439865708351135), ('#antivax', 0.8232737183570862), ('#children', 0.7740671634674072), ('#wakeupamerica', 0.7725077271461487)]\n",
      "\n",
      "[-0.40816718 -0.13558538  0.38078851 -0.67263526  0.17136231 -0.29721212\n",
      " -0.64901978  0.08681125  0.52767712  0.13716923 -0.18656433  0.45844173\n",
      "  0.4259111   0.12454456 -0.23626354 -0.22258739 -0.06741185  0.21162184\n",
      "  0.25033107  0.52444667  0.16589338 -0.34425795  0.4292098   0.12868521\n",
      "  0.81366742 -0.11846163 -0.69462657 -0.29217765  0.12035681  0.03284126\n",
      " -0.57373697  0.75929153  0.29454887 -0.1461892   0.00659599 -0.17418019\n",
      "  0.10811044 -0.0865053   0.80600673 -0.36828801  0.29223201 -0.38595667\n",
      "  0.23475774 -0.0365179  -0.75167149 -0.49647629 -0.34481418  0.74101675\n",
      "  0.01547785  0.51809448  0.10223583  0.11631168 -0.05578512 -0.53824425\n",
      " -0.23779446 -0.04928087  0.17349103  0.49850839  0.41541672  0.50621527\n",
      "  0.00967258  0.09634923  0.31496358  0.10832018  0.16028666 -0.4924649\n",
      "  0.2070768  -0.5482344   0.04334258  0.22164205  0.11881821 -0.03337533\n",
      "  0.29904607 -0.44814229 -0.18236752  0.09433728  0.6781342  -0.27083373\n",
      "  0.04619651 -0.05909958 -0.29512981  0.20622204 -0.42163613  0.52383167\n",
      "  0.37560046  0.23731513  0.01646108 -0.52553016  0.00884174  0.41670391\n",
      " -0.70243067 -0.12782866  0.38355294  0.84794348  0.11919311 -0.19675377\n",
      "  0.39597288  0.27981699 -0.35893726  0.48232859]\n"
     ]
    }
   ],
   "source": [
    "# shows the similar words\n",
    "print (model.wv.most_similar('vaccine'))\n",
    "print() \n",
    "# shows the learnt embedding\n",
    "print (model.wv['cancer'])\n",
    "print() \n",
    "# shows the similar docs with tag = #hpv\n",
    "print (model.docvecs.most_similar(\"#vaccine\"))\n",
    "print (model.docvecs.most_similar(\"#vaccination\"))\n",
    "print (model.docvecs.most_similar(\"#vaccines\"))\n",
    "print() \n",
    "#hashtag embeddings\n",
    "print(model.docvecs['#cervical'])"
   ]
  },
  {
   "cell_type": "code",
   "execution_count": 87,
   "metadata": {},
   "outputs": [
    {
     "name": "stderr",
     "output_type": "stream",
     "text": [
      "E:\\conda\\lib\\site-packages\\ipykernel_launcher.py:3: DeprecationWarning: Call to deprecated `most_similar` (Method will be removed in 4.0.0, use self.wv.most_similar() instead).\n",
      "  This is separate from the ipykernel package so we can avoid doing imports until\n"
     ]
    },
    {
     "data": {
      "text/plain": [
       "[('tag', '#nocure', 13.237060546875),\n",
       " ('tag', '#arhp', 13.116081237792969),\n",
       " ('tag', '#actslikecancer', 13.039281845092773),\n",
       " ('word', 'ssmear', 12.815620422363281),\n",
       " ('word', 'agenda-driven', 12.494791984558105),\n",
       " ('word', 'donotmakeexcuses', 11.706401824951172),\n",
       " ('tag', '#canturntocancer', 11.06768798828125),\n",
       " ('word', '122,844', 10.25916862487793),\n",
       " ('word', 'hpvfirst', 10.030200004577637),\n",
       " ('word', 'thinkcurefightscancer', 9.484886169433594),\n",
       " ('word', 'gymsm', 9.359027862548828),\n",
       " ('word', 'billgatesfoundation', 9.23710823059082),\n",
       " ('word', 'hinduwomen', 8.3189697265625),\n",
       " ('tag', '#usnews', 7.730393886566162),\n",
       " ('word', 'gene-editing', 7.472973823547363),\n",
       " ('word', 'rar', 7.298567771911621),\n",
       " ('word', 'repostwhiz', 7.176763534545898),\n",
       " ('tag', '#500pxrtg', 7.152878761291504),\n",
       " ('word', 'ahem', 7.11164665222168),\n",
       " ('word', \"'india\", 5.6226806640625)]"
      ]
     },
     "execution_count": 87,
     "metadata": {},
     "output_type": "execute_result"
    }
   ],
   "source": [
    "#assess model\n",
    "origin = model.docvecs['#hpv'] \n",
    "word_sims = [('word', word, score) for word, score in model.most_similar([origin],topn=20)]\n",
    "tag_sims = [('tag', tag, score) for tag, score in model.docvecs.most_similar([origin],topn=20)]\n",
    "results = sorted((tag_sims + word_sims),key=lambda tup: -tup[2])\n",
    "results[:20]"
   ]
  },
  {
   "cell_type": "code",
   "execution_count": 88,
   "metadata": {},
   "outputs": [
    {
     "name": "stdout",
     "output_type": "stream",
     "text": [
      "[['#acip', '#hpv', '#vaccine', '#vaccin'], ['#gardasil', '#vaccine']]\n",
      "[['rt', ':', 'good', 'news', 'for', 'everyone', ':', 'cdc', 'acip', 'approved', 'a', '2-dose', 'schedule', ',', '6', 'months', 'apart', ',', 'for', 'hpv', 'vaccine', 'for', '9-14', 'year', 'olds', '.', 'vaccin'], ['rt', ':', 'dr.', 'harper', ':', 'gardasil', 'was', 'fast-tracked', 'vaccine', ',', 'so', 'we', 'do', \"n't\", 'know', 'long-term', 'side', 'effects']]\n"
     ]
    }
   ],
   "source": [
    "#another evaluation\n",
    "test_set = np.random.choice(train_raw_data, int(len(train_raw_data)*0.2))\n",
    "test_tag = [each['orignal_hashtags'] for each in test_set]\n",
    "test_seq = [each['words'] for each in test_set]\n",
    "print(test_tag[:2])\n",
    "print(test_seq[:2])"
   ]
  },
  {
   "cell_type": "code",
   "execution_count": 89,
   "metadata": {},
   "outputs": [
    {
     "name": "stdout",
     "output_type": "stream",
     "text": [
      "rt : good news for everyone: cdc acip approved a 2-dose schedule, 6 months apart, for hpv vaccine for 9-14 year olds. vaccin\n",
      "['#acip', '#hpv', '#vaccine', '#vaccin']\n"
     ]
    },
    {
     "data": {
      "text/plain": [
       "[('#actslikecancer', 18.694869995117188),\n",
       " ('#nocure', 16.895462036132812),\n",
       " ('#arhp', 16.645540237426758),\n",
       " ('#canturntocancer', 16.18458366394043),\n",
       " ('#usnews', 10.804193496704102),\n",
       " ('#500pxrtg', 8.893560409545898),\n",
       " ('#terrible', 0.9951874017715454),\n",
       " ('#acip', 0.8571861386299133),\n",
       " ('#sucks', 0.8467624187469482),\n",
       " ('#therebelpatient', 0.8244351148605347)]"
      ]
     },
     "execution_count": 89,
     "metadata": {},
     "output_type": "execute_result"
    }
   ],
   "source": [
    "print(test_set[0]['text'])\n",
    "inferred_vec = model.infer_vector(test_set[0]['words'])\n",
    "print(test_set[0]['orignal_hashtags'])\n",
    "model.docvecs.most_similar([inferred_vec])"
   ]
  },
  {
   "cell_type": "code",
   "execution_count": 90,
   "metadata": {},
   "outputs": [
    {
     "name": "stdout",
     "output_type": "stream",
     "text": [
      "tweet >> \n",
      " rt : good news for everyone: cdc acip approved a 2-dose schedule, 6 months apart, for hpv vaccine for 9-14 year olds. vaccin\n",
      "hashtags of tweet >>\n",
      " ['#acip', '#hpv', '#vaccine', '#vaccin']\n",
      "predicated hashtags based on tweet >>\n",
      " [('#actslikecancer', 18.50225257873535), ('#nocure', 16.6639347076416), ('#arhp', 16.425540924072266), ('#canturntocancer', 15.531455993652344), ('#usnews', 10.321876525878906)]\n",
      "the top 5 second level infer hashtags >>\n",
      " [('#nocure', 27.818897247314453), ('#canturntocancer', 26.703472137451172), ('#arhp', 24.8717041015625), ('#usnews', 15.32882022857666), ('#500pxrtg', 13.759662628173828)]\n",
      "\n",
      "tweet >> \n",
      " rt : dr. harper: gardasil was fast-tracked vaccine, so we don't know long-term side effects\n",
      "hashtags of tweet >>\n",
      " ['#gardasil', '#vaccine']\n",
      "predicated hashtags based on tweet >>\n",
      " [('#actslikecancer', 19.759796142578125), ('#nocure', 19.584598541259766), ('#arhp', 17.96923065185547), ('#canturntocancer', 17.141000747680664), ('#usnews', 9.855619430541992)]\n",
      "the top 5 second level infer hashtags >>\n",
      " [('#nocure', 27.818897247314453), ('#canturntocancer', 26.703472137451172), ('#arhp', 24.8717041015625), ('#usnews', 15.32882022857666), ('#500pxrtg', 13.759662628173828)]\n",
      "\n",
      "tweet >> \n",
      " nearly half of american men and women under 60 are infected with hpv. health womenshealth\n",
      "hashtags of tweet >>\n",
      " ['#health', '#womenshealth']\n",
      "predicated hashtags based on tweet >>\n",
      " [('#actslikecancer', 19.66044807434082), ('#canturntocancer', 19.18215560913086), ('#nocure', 18.96772003173828), ('#arhp', 17.78553009033203), ('#usnews', 11.348215103149414)]\n",
      "the top 5 second level infer hashtags >>\n",
      " [('#nocure', 27.818897247314453), ('#canturntocancer', 26.703472137451172), ('#arhp', 24.8717041015625), ('#usnews', 15.32882022857666), ('#500pxrtg', 13.759662628173828)]\n",
      "\n",
      "tweet >> \n",
      " rt : in just a decade, hpv rates dropped 64% in teen girls: calling all pediatricians  vaccineswork\n",
      "hashtags of tweet >>\n",
      " ['#vaccineswork']\n",
      "predicated hashtags based on tweet >>\n",
      " [('#nocure', 18.965301513671875), ('#arhp', 17.526020050048828), ('#actslikecancer', 16.74285125732422), ('#canturntocancer', 16.561283111572266), ('#usnews', 12.274867057800293)]\n",
      "the top 5 second level infer hashtags >>\n",
      " [('#actslikecancer', 29.583784103393555), ('#canturntocancer', 26.776844024658203), ('#arhp', 25.245407104492188), ('#usnews', 16.216407775878906), ('#500pxrtg', 14.296573638916016)]\n",
      "\n",
      "tweet >> \n",
      " a timely statement on hpv vaccine from  & other cancer centers  vaccines save lives - period!\n",
      "hashtags of tweet >>\n",
      " ['#vaccine', '#cancer']\n",
      "predicated hashtags based on tweet >>\n",
      " [('#actslikecancer', 22.248706817626953), ('#nocure', 21.551776885986328), ('#canturntocancer', 20.075489044189453), ('#arhp', 19.409900665283203), ('#usnews', 12.387545585632324)]\n",
      "the top 5 second level infer hashtags >>\n",
      " [('#nocure', 27.818897247314453), ('#canturntocancer', 26.703472137451172), ('#arhp', 24.8717041015625), ('#usnews', 15.32882022857666), ('#500pxrtg', 13.759662628173828)]\n",
      "\n",
      "tweet >> \n",
      " rt : hpv vaccine is cancer prevention! protect yourself or your kids today<\n",
      "hashtags of tweet >>\n",
      " ['#hpv', '#vaccine', '#cancer']\n",
      "predicated hashtags based on tweet >>\n",
      " [('#actslikecancer', 21.787242889404297), ('#canturntocancer', 20.500919342041016), ('#nocure', 20.293867111206055), ('#arhp', 19.243297576904297), ('#usnews', 11.181862831115723)]\n",
      "the top 5 second level infer hashtags >>\n",
      " [('#nocure', 27.818897247314453), ('#canturntocancer', 26.703472137451172), ('#arhp', 24.8717041015625), ('#usnews', 15.32882022857666), ('#500pxrtg', 13.759662628173828)]\n",
      "\n",
      "tweet >> \n",
      " hpv news: hpv infection rates plummet after vaccine with china the next frontier pathogenposse\n",
      "hashtags of tweet >>\n",
      " ['#pathogenposse']\n",
      "predicated hashtags based on tweet >>\n",
      " [('#canturntocancer', 19.447528839111328), ('#actslikecancer', 19.40757942199707), ('#nocure', 18.99127960205078), ('#arhp', 18.628921508789062), ('#usnews', 12.446096420288086)]\n",
      "the top 5 second level infer hashtags >>\n",
      " [('#actslikecancer', 29.197917938232422), ('#nocure', 27.531490325927734), ('#arhp', 25.06515121459961), ('#usnews', 15.678217887878418), ('#500pxrtg', 13.672446250915527)]\n",
      "\n",
      "tweet >> \n",
      " rt : dyk? cervical cancer is the 3rd most common female cancer. here are some top advances for 2016.\n",
      "hashtags of tweet >>\n",
      " ['#dyk', '#cancer']\n",
      "predicated hashtags based on tweet >>\n",
      " [('#actslikecancer', 23.07777214050293), ('#canturntocancer', 21.213825225830078), ('#nocure', 21.14812469482422), ('#arhp', 19.66202163696289), ('#usnews', 11.033963203430176)]\n",
      "the top 5 second level infer hashtags >>\n",
      " [('#nocure', 27.818897247314453), ('#canturntocancer', 26.703472137451172), ('#arhp', 24.8717041015625), ('#usnews', 15.32882022857666), ('#500pxrtg', 13.759662628173828)]\n",
      "\n",
      "tweet >> \n",
      " rt : hpv vaccine doesn't only protect against cervical cancers. dr. wong explains benefits for head / neck cancers. hncsm h\n",
      "hashtags of tweet >>\n",
      " ['#hpv', '#hncsm']\n",
      "predicated hashtags based on tweet >>\n",
      " [('#actslikecancer', 17.994861602783203), ('#canturntocancer', 17.420883178710938), ('#nocure', 17.344043731689453), ('#arhp', 16.597442626953125), ('#usnews', 10.453754425048828)]\n",
      "the top 5 second level infer hashtags >>\n",
      " [('#nocure', 27.818897247314453), ('#canturntocancer', 26.703472137451172), ('#arhp', 24.8717041015625), ('#usnews', 15.32882022857666), ('#500pxrtg', 13.759662628173828)]\n",
      "\n",
      "tweet >> \n",
      " rt : hpv vaccination could reduce global deaths from cervical cancer by as much as two-thirds. 2shots2stopcancer\n",
      "hashtags of tweet >>\n",
      " ['#2shots2stopcancer']\n",
      "predicated hashtags based on tweet >>\n",
      " [('#actslikecancer', 18.680522918701172), ('#nocure', 18.28388786315918), ('#arhp', 17.58814239501953), ('#canturntocancer', 17.28781509399414), ('#usnews', 11.38102912902832)]\n",
      "the top 5 second level infer hashtags >>\n",
      " [('#nocure', 27.818897247314453), ('#canturntocancer', 26.703472137451172), ('#arhp', 24.8717041015625), ('#usnews', 15.32882022857666), ('#500pxrtg', 13.759662628173828)]\n",
      "\n"
     ]
    }
   ],
   "source": [
    "for i, each in enumerate(test_set):\n",
    "    if i < 10:\n",
    "        inferred_vec = model.infer_vector(each['words'])\n",
    "        print(\"tweet >> \\n {}\".format(each['text']))\n",
    "        print(\"hashtags of tweet >>\\n {}\".format(each['orignal_hashtags']))\n",
    "        inferred_res = model.docvecs.most_similar([inferred_vec], topn=5)\n",
    "        print(\"predicated hashtags based on tweet >>\\n {}\".format(inferred_res))\n",
    "        print(\"the top 5 second level infer hashtags >>\\n {}\".format(model.docvecs.most_similar(inferred_res[0][0], topn=5)))\n",
    "        print()"
   ]
  },
  {
   "cell_type": "markdown",
   "metadata": {},
   "source": [
    "## train a t2v model with a dataset containing only tweets with top 11 freq hashtags "
   ]
  },
  {
   "cell_type": "code",
   "execution_count": 78,
   "metadata": {},
   "outputs": [
    {
     "data": {
      "text/plain": [
       "TaggedDocument(words=['hpv', 'vax', 'does', 'not', 'provide', 'herd', 'immunity', 'for', 'unvaccinated', 'women', 'or', 'cross-protection', 'for', 'nonvaccine', 'hpv', 'types', '[', 'a', ']'], tags=['hpv'])"
      ]
     },
     "execution_count": 78,
     "metadata": {},
     "output_type": "execute_result"
    }
   ],
   "source": [
    "docs_1 = [TaggedDocument(each['words'], each['hashtags']) for each in md_freq_sample['data']]\n",
    "np.random.shuffle(docs_1)\n",
    "docs_1[0]"
   ]
  },
  {
   "cell_type": "code",
   "execution_count": 79,
   "metadata": {},
   "outputs": [
    {
     "name": "stdout",
     "output_type": "stream",
     "text": [
      "Wall time: 1h 6min 46s\n"
     ]
    }
   ],
   "source": [
    "%%time\n",
    "#using skip-gram model\n",
    "model_1 = gensim.models.doc2vec.Doc2Vec(dm=0, dbow_words=1, size=100, alpha=0.025, min_alpha=0.025, min_count=0, workers=multiprocessing.cpu_count(), iter = 50)\n",
    "model_1.build_vocab(docs_1)\n",
    "\n",
    "for epoch in range(100):\n",
    "    if epoch % 10 == 0:\n",
    "        print ('Now training epoch %s'%epoch)\n",
    "    model_1.train(docs, total_examples = words_count, epochs = model.iter)\n",
    "    model_1.alpha -= 0.002  # decrease the learning rate\n",
    "    model_1.min_alpha = model.alpha  # fix the learning rate, no decay"
   ]
  },
  {
   "cell_type": "code",
   "execution_count": 95,
   "metadata": {},
   "outputs": [
    {
     "name": "stdout",
     "output_type": "stream",
     "text": [
      "[('hpv', 0.9193835854530334), ('...', 0.9155786633491516), ('prevent', 0.914875864982605), ('on', 0.9136378765106201), ('how', 0.9131883382797241), ('for', 0.9126969575881958), ('gardasil', 0.9106822609901428), ('an', 0.9084890484809875), ('japan', 0.9073395729064941), ('rt', 0.907110333442688)]\n",
      "\n",
      "[ 0.14842507  0.12082995  1.05221498  0.33384553  0.69298142  0.1518153\n",
      " -0.06987447 -0.42861989  0.15084557  1.83809054 -0.29634374  1.61741209\n",
      "  0.40982625  0.68114412  1.62130857 -0.00614449  0.22143015  0.76318103\n",
      " -0.87167609 -0.1135737   0.56196189 -0.06929655  0.84938121  0.12623297\n",
      "  0.61328274  0.03627477  1.02752554  0.12261541 -0.25614911 -0.35393363\n",
      " -0.24924704  0.55768597  0.2414221   1.00235426 -0.13558559  0.19496635\n",
      " -0.8374896  -1.28433609  0.11568487 -0.78347546  0.72523242  0.19256008\n",
      "  0.49237818 -0.88311279  0.37306106  0.81254292 -2.28756976 -0.46370482\n",
      " -0.20897618  0.52372319  1.20068955  1.03341687 -0.86554331 -0.19607796\n",
      "  0.72531003 -0.07576013  1.20754457  1.02712882 -0.77692086  0.02915056\n",
      " -0.88797694 -0.84471482 -1.27136242 -1.18471062 -1.56989861  0.01466468\n",
      " -1.3414669   0.97344446  1.89290524  1.75252187  0.9860673   0.33107173\n",
      " -1.15375996 -1.50870085  0.20048606  0.59757686 -0.55402398 -0.1490522\n",
      " -0.97983253  0.17231478 -0.30281001  0.33572102 -2.75575733  0.30099472\n",
      "  0.50021482 -0.28402233 -0.80023837 -0.40509465  0.4101834  -1.83873463\n",
      "  0.98410219  1.30364251 -0.84807992  0.19305524  1.03197312 -0.48276788\n",
      " -0.47999248 -0.77926099  0.87343079 -1.00530005]\n",
      "\n",
      "\n",
      "[ -2.92990031e-03  -4.12593549e-03  -1.91885943e-03  -3.80985439e-03\n",
      "  -4.93652979e-03   2.69401236e-04  -2.43904069e-03  -2.92198989e-03\n",
      "  -4.38535027e-03   2.23353389e-03   3.52302659e-03  -1.07585092e-03\n",
      "  -3.27371946e-03  -3.91080556e-03   2.20897119e-03   7.64010299e-04\n",
      "  -7.61904812e-04   2.41400325e-04  -6.81528007e-04  -1.48885825e-03\n",
      "   6.48709829e-04   2.26985477e-03  -2.72652623e-03   1.25340675e-03\n",
      "  -4.12972551e-03  -1.67127396e-03   9.78326541e-04  -3.82938329e-03\n",
      "  -3.29651078e-03   1.66453328e-03   3.11966450e-03   4.47030831e-03\n",
      "   4.23602015e-03   2.48342147e-03  -2.51845893e-04  -1.36944163e-03\n",
      "   4.34219185e-03   6.56516699e-04  -4.40491829e-03   3.74035770e-03\n",
      "  -5.46962801e-05   4.31016181e-03   1.22850796e-03  -2.17555603e-03\n",
      "   1.68539444e-03   1.50642043e-03  -1.22291560e-03  -4.97833593e-03\n",
      "  -4.02881205e-03   4.60304832e-03  -1.06328086e-03   3.03969975e-03\n",
      "  -2.88433256e-03  -2.19671451e-03   4.13898379e-03  -1.16960448e-03\n",
      "   4.75190440e-03  -3.38731939e-03   4.98186424e-03   9.53118841e-04\n",
      "   7.49990402e-04  -5.09934442e-04   2.71069119e-03  -1.03407190e-03\n",
      "  -2.87825288e-03  -2.42301170e-03   3.33057891e-04   1.01681810e-03\n",
      "   1.37814030e-03  -3.86071089e-03   3.16477986e-03  -3.82604310e-04\n",
      "  -2.53018178e-03  -2.39752932e-03  -4.42651007e-03  -3.50390864e-03\n",
      "   1.17898674e-03  -3.61800077e-03   4.38364316e-03   8.54540267e-04\n",
      "  -2.24881014e-03   4.54991171e-03   2.54586409e-03  -3.80401895e-03\n",
      "  -6.63233164e-04  -4.47236001e-03   6.49976952e-04   3.03255091e-03\n",
      "  -3.27728433e-03   4.99990443e-03  -2.00515520e-03   6.76953176e-04\n",
      "   4.58361907e-03   1.82897586e-03   3.09869298e-03   2.59633362e-03\n",
      "  -2.61089392e-03  -5.72447490e-04  -1.18054659e-03   4.32346202e-03]\n"
     ]
    }
   ],
   "source": [
    "# shows the similar words\n",
    "print (model_1.wv.most_similar('vaccine'))\n",
    "print() \n",
    "# shows the learnt embedding\n",
    "print (model_1.wv['cancer'])\n",
    "print() \n",
    "# print (model_1.docvecs.most_similar(\"vaccine\"))\n",
    "# print (model_1.docvecs.most_similar(\"vaccination\"))\n",
    "# print (model_1.docvecs.most_similar(\"vaccines\"))\n",
    "print() \n",
    "#hashtag embeddings\n",
    "print(model_1.docvecs['hpv'])"
   ]
  },
  {
   "cell_type": "code",
   "execution_count": 92,
   "metadata": {},
   "outputs": [
    {
     "name": "stdout",
     "output_type": "stream",
     "text": [
      "tweet >> \n",
      " rt : tune in to a live stream @4:30 est to hear  addressing questions regarding hpv vaccine safety.\n",
      "hashtags of tweet >>\n",
      " ['hpv', 'vaccin']\n",
      "predicated hashtags based on tweet >>\n",
      " [('scotu', 0.39072296023368835), ('toxin', 0.3800101578235626), ('cancercannot', 0.35010913014411926), ('ldconf', 0.3358132243156433), ('activebeat', 0.33009272813796997)]\n",
      "the top 5 second level infer hashtags >>\n",
      " [('mommyproblem', 0.37642332911491394), ('ye', 0.34130701422691345), ('notrust', 0.33203554153442383), ('naturalmedicin', 0.314901202917099), ('verruciformi', 0.31052085757255554)]\n",
      "\n",
      "tweet >> \n",
      " rt : . . . stop the medical mandates! children are dying! hpv kills. showupday\n",
      "hashtags of tweet >>\n",
      " ['showupday']\n",
      "predicated hashtags based on tweet >>\n",
      " [('zimbabw', 0.4156832695007324), ('womenshealthca', 0.3363494873046875), ('scotland', 0.32562756538391113), ('vaccinateyourfamili', 0.32155245542526245), ('team', 0.30946558713912964)]\n",
      "the top 5 second level infer hashtags >>\n",
      " [('hcihealthequ', 0.3699355125427246), ('cbpoli', 0.3630019426345825), ('survivorship', 0.3566749691963196), ('nvic', 0.35510045289993286), ('notjustforgirl', 0.348016619682312)]\n",
      "\n",
      "tweet >> \n",
      " hpv can cause cancer in both men and women. so everyone  not just girls  should get the hpv vaccine.\n",
      "hashtags of tweet >>\n",
      " ['hpv', 'vaccin']\n",
      "predicated hashtags based on tweet >>\n",
      " [('dmc', 0.36018848419189453), ('cervivalhealthmonth', 0.34470483660697937), ('vaccinesaredeadli', 0.33565419912338257), ('thankgodforinovio', 0.3231852352619171), ('autoimmuneenceph', 0.31453147530555725)]\n",
      "the top 5 second level infer hashtags >>\n",
      " [('help', 0.3978010416030884), ('sociolog', 0.3517754375934601), ('teen', 0.34955739974975586), ('cancerco', 0.33796021342277527), ('kidcar', 0.3350301682949066)]\n",
      "\n",
      "tweet >> \n",
      " rt : gardasil vaccine given without consent & ruins life of 14 year old girl  learntherisk\n",
      "hashtags of tweet >>\n",
      " ['gardasil', 'vaccin', 'learntherisk']\n",
      "predicated hashtags based on tweet >>\n",
      " [('forcedvaccin', 0.40379446744918823), ('cy', 0.3251996636390686), ('reprojustic', 0.32224029302597046), ('curcumin', 0.3119197189807892), ('joke', 0.3097999095916748)]\n",
      "the top 5 second level infer hashtags >>\n",
      " [('cancersu', 0.36983388662338257), ('menstruat', 0.3495306372642517), ('kgnsnew', 0.34160247445106506), ('luhs4mom', 0.33567631244659424), ('scientist', 0.327129065990448)]\n",
      "\n",
      "tweet >> \n",
      " rt : imagine a future without cancer. the hpv vaccine is the best protection against hpv cancers like bill's. endcancer htt\n",
      "hashtags of tweet >>\n",
      " ['endcanc']\n",
      "predicated hashtags based on tweet >>\n",
      " [('cervivalhealthmonth', 0.36867547035217285), ('dmc', 0.32677870988845825), ('edv', 0.32676175236701965), ('fruitfli', 0.32002270221710205), ('reacheverychild', 0.3066863715648651)]\n",
      "the top 5 second level infer hashtags >>\n",
      " [('savel', 0.3689323663711548), ('humanpapillomavirushpv', 0.34085386991500854), ('servicememb', 0.33417755365371704), ('healthbehavior', 0.31481730937957764), ('cdcwhistl', 0.31377100944519043)]\n",
      "\n",
      "tweet >> \n",
      " klout ranks me among the top 0.1% of people talking about womenshealth essure morcellator mesh gardasil\n",
      "hashtags of tweet >>\n",
      " ['womenshealth', 'essur', 'morcel', 'mesh', 'gardasil']\n",
      "predicated hashtags based on tweet >>\n",
      " [('li', 0.3155885338783264), ('concordia', 0.31470856070518494), ('fkingclassi', 0.3097679018974304), ('datamanipul', 0.30615589022636414), ('monster', 0.30006343126296997)]\n",
      "the top 5 second level infer hashtags >>\n",
      " [('ameliaferguson', 0.36535584926605225), ('taboo', 0.3621121048927307), ('healthworkerscount', 0.3273531198501587), ('wbw', 0.32118549942970276), ('greatest', 0.3114718794822693)]\n",
      "\n",
      "tweet >> \n",
      " parents + healthcare professionals are key to protecting adolescents from hpv-associated cancers (h / t )\n",
      "hashtags of tweet >>\n",
      " ['hpv']\n",
      "predicated hashtags based on tweet >>\n",
      " [('glutenfre', 0.3658508360385895), ('deliverforgood', 0.3502791225910187), ('ppag', 0.3288588225841522), ('cervicalheath', 0.3259817361831665), ('victori', 0.3132166266441345)]\n",
      "the top 5 second level infer hashtags >>\n",
      " [('educateyourself', 0.34572097659111023), ('cannabidiol', 0.3388129472732544), ('stdprevent', 0.3239774703979492), ('cugh2017', 0.3184937536716461), ('guy2guy', 0.30894702672958374)]\n",
      "\n",
      "tweet >> \n",
      " update acip says those starting hpv vaccination between ages 9 and 14 can get 2 doses of vaccine instead of 3. mor\n",
      "hashtags of tweet >>\n",
      " ['acip']\n",
      "predicated hashtags based on tweet >>\n",
      " [('tag42mil', 0.3659780025482178), ('lol', 0.32207056879997253), ('richadeshpand', 0.31667760014533997), ('almostkilledm', 0.29995959997177124), ('brail', 0.29716870188713074)]\n",
      "the top 5 second level infer hashtags >>\n",
      " [('cancerrisk', 0.3840577006340027), ('french', 0.3702022433280945), ('southafrica', 0.322878897190094), ('concordia17', 0.32280027866363525), ('ny', 0.3120127320289612)]\n",
      "\n",
      "tweet >> \n",
      " rt : zara, 13, was left in wheelchair after reaction to hpv vaccine  vaccineinjury gardasil\n",
      "hashtags of tweet >>\n",
      " ['hpv', 'vaccin', 'vaccineinjuri', 'gardasil']\n",
      "predicated hashtags based on tweet >>\n",
      " [('reprojustic', 0.3563697040081024), ('scandal', 0.3393103778362274), ('sick', 0.33127427101135254), ('prayer', 0.32799383997917175), ('cervivalhealthmonth', 0.3211821913719177)]\n",
      "the top 5 second level infer hashtags >>\n",
      " [('toolkit', 0.3765287399291992), ('mountsinainew', 0.363887757062912), ('agddentistsrock', 0.34264206886291504), ('stoptrump', 0.34080448746681213), ('midtown', 0.3311074674129486)]\n",
      "\n",
      "tweet >> \n",
      " hpv news: cross-sectional study about primary health care professionals views on the inclusion ... pathogenposse\n",
      "hashtags of tweet >>\n",
      " ['pathogenposs']\n",
      "predicated hashtags based on tweet >>\n",
      " [('haiti', 0.3827241063117981), ('cervivalhealthmonth', 0.3694874942302704), ('kstate', 0.35429486632347107), ('joslynneld', 0.3246158957481384), ('type1diabet', 0.3173578083515167)]\n",
      "the top 5 second level infer hashtags >>\n",
      " [('realorganictruth', 0.3845524191856384), ('mustread', 0.35843774676322937), ('sadpanda', 0.3562031090259552), ('wellpersonvisit', 0.34843072295188904), ('stopavn', 0.34467679262161255)]\n",
      "\n"
     ]
    }
   ],
   "source": [
    "test_set = np.random.choice(train_raw_data, int(len(md_freq_sample['data'])*0.2))\n",
    "\n",
    "for i, each in enumerate(test_set):\n",
    "    if i < 10:\n",
    "        inferred_vec = model_1.infer_vector(each['words'])\n",
    "        print(\"tweet >> \\n {}\".format(each['text']))\n",
    "        print(\"hashtags of tweet >>\\n {}\".format(each['hashtags']))\n",
    "        inferred_res = model_1.docvecs.most_similar([inferred_vec], topn=5)\n",
    "        print(\"predicated hashtags based on tweet >>\\n {}\".format(inferred_res))\n",
    "        print(\"the top 5 second level infer hashtags >>\\n {}\".format(model_1.docvecs.most_similar(inferred_res[0][0], topn=5)))\n",
    "        print()"
   ]
  },
  {
   "cell_type": "code",
   "execution_count": null,
   "metadata": {
    "collapsed": true
   },
   "outputs": [],
   "source": []
  }
 ],
 "metadata": {
  "kernelspec": {
   "display_name": "Python 3",
   "language": "python",
   "name": "python3"
  },
  "language_info": {
   "codemirror_mode": {
    "name": "ipython",
    "version": 3
   },
   "file_extension": ".py",
   "mimetype": "text/x-python",
   "name": "python",
   "nbconvert_exporter": "python",
   "pygments_lexer": "ipython3",
   "version": "3.6.3"
  },
  "toc": {
   "nav_menu": {},
   "number_sections": true,
   "sideBar": true,
   "skip_h1_title": false,
   "toc_cell": false,
   "toc_position": {},
   "toc_section_display": "block",
   "toc_window_display": false
  }
 },
 "nbformat": 4,
 "nbformat_minor": 2
}
