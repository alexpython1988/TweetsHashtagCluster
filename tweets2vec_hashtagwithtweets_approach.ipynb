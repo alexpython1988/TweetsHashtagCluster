{
 "cells": [
  {
   "cell_type": "markdown",
   "metadata": {},
   "source": [
    "#  tweetshashtag2vec"
   ]
  },
  {
   "cell_type": "code",
   "execution_count": 1,
   "metadata": {},
   "outputs": [
    {
     "name": "stdout",
     "output_type": "stream",
     "text": [
      "[name: \"/device:CPU:0\"\n",
      "device_type: \"CPU\"\n",
      "memory_limit: 268435456\n",
      "locality {\n",
      "}\n",
      "incarnation: 17913481044391591244\n",
      "]\n",
      "2.1.2\n",
      "tensorflow\n"
     ]
    },
    {
     "name": "stderr",
     "output_type": "stream",
     "text": [
      "Using TensorFlow backend.\n"
     ]
    }
   ],
   "source": [
    "#import tensorflow backend\n",
    "from tensorflow.python.client import device_lib\n",
    "print(device_lib.list_local_devices())\n",
    "import keras\n",
    "from keras.layers import *\n",
    "from keras.models import Sequential, Model\n",
    "from keras.optimizers import *\n",
    "from keras.preprocessing import sequence\n",
    "print(keras.__version__)\n",
    "print(keras.backend.backend())\n",
    "import numpy as np"
   ]
  },
  {
   "cell_type": "code",
   "execution_count": 2,
   "metadata": {
    "collapsed": true
   },
   "outputs": [],
   "source": [
    "#load data\n",
    "with open(\"temp/neg_sample_data.json\", \"r\", encoding=\"utf-8\") as f:\n",
    "    md_nfreq_sample = json.load(f)\n",
    "    \n",
    "with open(\"temp/tweets4classification.json\", \"r\", encoding=\"utf-8\") as f:\n",
    "    md_freq_sample = json.load(f)"
   ]
  },
  {
   "cell_type": "code",
   "execution_count": 3,
   "metadata": {},
   "outputs": [
    {
     "data": {
      "text/plain": [
       "{'hashtag_label': [],\n",
       " 'hashtags': ['cervicalhealthawarenessmonth', 'obamacar'],\n",
       " 'id': '418769437261455360',\n",
       " 'orignal_hashtags': ['#cervicalhealthawarenessmonth', '#obamacare'],\n",
       " 'raw': 'rt @ppsne: jan. is #cervicalhealthawarenessmonth. thanks to #obamacare, pap tests + the hpv vaccine are covered without a copay. http://t.c…',\n",
       " 'text': 'rt : jan. is cervicalhealthawarenessmonth. thanks to obamacare, pap tests + the hpv vaccine are covered without a copay.',\n",
       " 'words': ['rt',\n",
       "  ':',\n",
       "  'jan.',\n",
       "  'is',\n",
       "  'cervicalhealthawarenessmonth',\n",
       "  '.',\n",
       "  'thanks',\n",
       "  'to',\n",
       "  'obamacare',\n",
       "  ',',\n",
       "  'pap',\n",
       "  'tests',\n",
       "  '+',\n",
       "  'the',\n",
       "  'hpv',\n",
       "  'vaccine',\n",
       "  'are',\n",
       "  'covered',\n",
       "  'without',\n",
       "  'a',\n",
       "  'copay',\n",
       "  '.']}"
      ]
     },
     "execution_count": 3,
     "metadata": {},
     "output_type": "execute_result"
    }
   ],
   "source": [
    "md_nfreq_sample['data'][0]"
   ]
  },
  {
   "cell_type": "code",
   "execution_count": 4,
   "metadata": {},
   "outputs": [
    {
     "data": {
      "text/plain": [
       "{'hashtag_label': [1, 5],\n",
       " 'hashtags': ['hpv', 'vaccin'],\n",
       " 'id': '418263863772327936',\n",
       " 'orignal_hashtags': ['#hpv', '#vaccine'],\n",
       " 'raw': 'rt @cdcstd: #hpv vax coverage could be 93% if doctors gave hpv #vaccine each time a preteen/teen got any other vaccine&gt; http://t.co/xxryga5…',\n",
       " 'text': 'rt : hpv vax coverage could be 93% if doctors gave hpv vaccine each time a preteen / teen got any other vaccine>',\n",
       " 'words': ['rt',\n",
       "  ':',\n",
       "  'hpv',\n",
       "  'vax',\n",
       "  'coverage',\n",
       "  'could',\n",
       "  'be',\n",
       "  '93',\n",
       "  '%',\n",
       "  'if',\n",
       "  'doctors',\n",
       "  'gave',\n",
       "  'hpv',\n",
       "  'vaccine',\n",
       "  'each',\n",
       "  'time',\n",
       "  'a',\n",
       "  'preteen',\n",
       "  '/',\n",
       "  'teen',\n",
       "  'got',\n",
       "  'any',\n",
       "  'other',\n",
       "  'vaccine',\n",
       "  '>']}"
      ]
     },
     "execution_count": 4,
     "metadata": {},
     "output_type": "execute_result"
    }
   ],
   "source": [
    "md_freq_sample['data'][0]"
   ]
  },
  {
   "cell_type": "markdown",
   "metadata": {
    "collapsed": true
   },
   "source": [
    "# gensim implementation of tweetshashtag2vec using doc2vec api"
   ]
  },
  {
   "cell_type": "code",
   "execution_count": 6,
   "metadata": {
    "collapsed": true
   },
   "outputs": [],
   "source": [
    "import gensim"
   ]
  },
  {
   "cell_type": "markdown",
   "metadata": {},
   "source": [
    "## train a doc2vec based on a dataset with all hashtags"
   ]
  },
  {
   "cell_type": "code",
   "execution_count": 96,
   "metadata": {},
   "outputs": [
    {
     "name": "stdout",
     "output_type": "stream",
     "text": [
      "['rt', ':', 'hpv', 'vax', 'coverage', 'could', 'be', '93', '%', 'if', 'doctors', 'gave', 'hpv', 'vaccine', 'each', 'time', 'a', 'preteen', '/', 'teen', 'got', 'any', 'other', 'vaccine', '>']\n",
      "115165\n"
     ]
    },
    {
     "data": {
      "text/plain": [
       "{'hashtag_label': [1, 5],\n",
       " 'hashtags': ['hpv', 'vaccin'],\n",
       " 'id': '418263863772327936',\n",
       " 'orignal_hashtags': ['#hpv', '#vaccine'],\n",
       " 'raw': 'rt @cdcstd: #hpv vax coverage could be 93% if doctors gave hpv #vaccine each time a preteen/teen got any other vaccine&gt; http://t.co/xxryga5…',\n",
       " 'text': 'rt : hpv vax coverage could be 93% if doctors gave hpv vaccine each time a preteen / teen got any other vaccine>',\n",
       " 'words': ['rt',\n",
       "  ':',\n",
       "  'hpv',\n",
       "  'vax',\n",
       "  'coverage',\n",
       "  'could',\n",
       "  'be',\n",
       "  '93',\n",
       "  '%',\n",
       "  'if',\n",
       "  'doctors',\n",
       "  'gave',\n",
       "  'hpv',\n",
       "  'vaccine',\n",
       "  'each',\n",
       "  'time',\n",
       "  'a',\n",
       "  'preteen',\n",
       "  '/',\n",
       "  'teen',\n",
       "  'got',\n",
       "  'any',\n",
       "  'other',\n",
       "  'vaccine',\n",
       "  '>']}"
      ]
     },
     "execution_count": 96,
     "metadata": {},
     "output_type": "execute_result"
    }
   ],
   "source": [
    "#data prepare\n",
    "train_raw_data = md_freq_sample['data'] +  md_nfreq_sample['data']\n",
    "print(train_raw_data[0]['words'])\n",
    "print(len(train_raw_data))\n",
    "train_raw_data[0]"
   ]
  },
  {
   "cell_type": "code",
   "execution_count": 97,
   "metadata": {},
   "outputs": [
    {
     "name": "stdout",
     "output_type": "stream",
     "text": [
      "1960039\n",
      "239984\n"
     ]
    },
    {
     "data": {
      "text/plain": [
       "TaggedDocument(words=['rt', ':', '.', 'talks', 'about', 'supporting', 'breast', '&', 'cervical', 'cancer', 'screenings', 'but', 'supports', 'trumpbudget', '&', 'an', '$', '800b', 'cut', 'to', 'medicaid', '.'], tags=['#trumpbudget'])"
      ]
     },
     "execution_count": 97,
     "metadata": {},
     "output_type": "execute_result"
    }
   ],
   "source": [
    "from gensim.models.doc2vec import TaggedDocument\n",
    "docs = [TaggedDocument(each['words'], each['orignal_hashtags']) for each in train_raw_data]\n",
    "words_count = sum(len(each[0]) for each in docs)\n",
    "tags_count = sum(len(each[1]) for each in docs)\n",
    "print(words_count)\n",
    "print(tags_count)\n",
    "np.random.shuffle(docs)\n",
    "docs[0]"
   ]
  },
  {
   "cell_type": "code",
   "execution_count": 102,
   "metadata": {},
   "outputs": [
    {
     "name": "stdout",
     "output_type": "stream",
     "text": [
      "Now training epoch 0\n",
      "Now training epoch 10\n",
      "Now training epoch 20\n",
      "Now training epoch 30\n",
      "Now training epoch 40\n",
      "Now training epoch 50\n",
      "Now training epoch 60\n",
      "Now training epoch 70\n",
      "Now training epoch 80\n",
      "Now training epoch 90\n",
      "Wall time: 21min\n"
     ]
    }
   ],
   "source": [
    "%%time \n",
    "#training model manully tune alpha\n",
    "import multiprocessing\n",
    "#using PV-DM w/ concatenation - window=5 (both sides) \n",
    "model = gensim.models.doc2vec.Doc2Vec(dm=1, dm_concat=1, size=100, window=5, negative=5, hs=0, alpha=0.025, min_alpha=0.025, workers=multiprocessing.cpu_count(), iter = 5)\n",
    "model.build_vocab(docs)\n",
    "\n",
    "for epoch in range(100):\n",
    "    if epoch % 10 == 0:\n",
    "        print ('Now training epoch %s'%epoch)\n",
    "    model.train(docs, total_examples = words_count, epochs = model.iter)\n",
    "    model.alpha -= 0.002  # decrease the learning rate\n",
    "    model.min_alpha = model.alpha  # fix the learning rate, no decay"
   ]
  },
  {
   "cell_type": "code",
   "execution_count": 100,
   "metadata": {},
   "outputs": [
    {
     "name": "stdout",
     "output_type": "stream",
     "text": [
      "[('vaccination', 0.6498515605926514), ('vacine', 0.6334244608879089), ('vax', 0.6272422075271606), ('vaccines', 0.5875192284584045), ('musical', 0.5415578484535217), ('vaccinations', 0.5082309246063232), ('worstwaystostartaloveletter', 0.5036842226982117), ('jabs', 0.5027507543563843), ('vaccine-', 0.48801249265670776), ('virus', 0.4854571223258972)]\n",
      "\n",
      "[ 0.00742153 -0.12589392  0.09254588 -0.53934532 -0.37409088 -0.49017796\n",
      " -0.48392534  0.30872864  0.07505405 -0.39583573 -0.01200234  0.01792545\n",
      "  0.47690091 -0.08285615 -0.07408908  0.41711783  0.4188571  -0.25587532\n",
      " -0.57685226  0.21157433 -0.19709808  0.23705886  0.4958131  -0.39376715\n",
      "  0.01145776  0.20706977 -0.08154003 -0.05301575  0.41186711 -0.21266128\n",
      "  0.3451131   0.11038587  0.15867655 -0.33747068  0.51296878  0.46035737\n",
      "  0.10456064  0.21894766  0.14575906 -0.09127235 -0.34013075 -0.38483164\n",
      " -0.19459721 -0.68410045 -0.58127201 -0.6700176  -0.2505987   0.46651417\n",
      "  0.59480202  0.11337936 -0.36305392  0.01898085  0.86931616 -0.14384507\n",
      " -0.41327921  0.11327098  0.10572334  0.47075808  0.18698466  0.05513233\n",
      " -0.2105848  -0.29157972 -0.0623931   0.3056449  -0.38283479  0.30320936\n",
      " -0.33048421  0.20975175  0.20040169  0.57120275 -0.30720863  0.22014005\n",
      "  0.77977061 -0.20293447 -0.97563517 -0.46063942  0.43728837 -0.09756074\n",
      " -0.34357315 -0.70545959 -0.17798856  0.09916457 -0.44654432 -0.04149355\n",
      " -0.20865539 -0.14370538 -0.51282513 -0.49716437 -0.09908909  0.33506516\n",
      " -0.51471168 -0.06583079 -0.33220884 -0.73294932  0.2031977  -0.33416674\n",
      "  1.07444453 -0.32293987 -0.3402617   0.60509324]\n",
      "\n",
      "[('#foodworldorder', 0.4760840833187103), ('#4biddenknowledge', 0.44972166419029236), ('#activism', 0.4246358275413513), ('#strange', 0.4045047461986542), ('#sciencehealthclimatenature', 0.4026504158973694), ('#cancerfilmqa', 0.39744842052459717), ('#documentary', 0.3883214294910431), ('#comscicon17', 0.38546139001846313), ('#sott', 0.37846606969833374), ('#green', 0.3777119517326355)]\n",
      "[('#getready', 0.5415766835212708), ('#receiving', 0.5015184879302979), ('#sscauhc17', 0.49768954515457153), ('#armlive', 0.4730326533317566), ('#aprn', 0.46006500720977783), ('#berniestrong', 0.45754480361938477), ('#stopinfect', 0.4518531560897827), ('#wcf', 0.4448358416557312), ('#sciencesuccessstories', 0.432182252407074), ('#mommymonday', 0.43118369579315186)]\n",
      "[('#updatedhealtharticles', 0.5231941938400269), ('#ema', 0.5056462287902832), ('#notinstock', 0.49410319328308105), ('#vaccinesequaldepopulation', 0.4876818358898163), ('#prote', 0.46768397092819214), ('#aap15', 0.4431816637516022), ('#vaccinetruth', 0.43884924054145813), ('#encephalomyelitis', 0.4388126730918884), ('#regulatory', 0.4301498532295227), ('#pateenhealthweek', 0.4125918745994568)]\n",
      "\n",
      "[-0.37488636  0.11128912  0.29776749 -0.45318076 -0.15673509 -0.6047371\n",
      "  0.04300442 -0.24342658 -0.62547714 -0.27701762  1.03147316 -0.9116655\n",
      "  0.10271347 -1.07334125  0.97518575  0.39233422 -0.05732575 -1.1042583\n",
      " -0.17876972  0.24872668  0.06145918  1.03967488  0.38073823 -0.30036202\n",
      "  0.03001785  0.20260996 -0.05765914 -0.6048522  -0.22069539  1.01701057\n",
      " -0.15766399 -0.45037028  0.2207538   0.50986075 -0.90321171 -0.39090505\n",
      " -0.11686511 -0.0262429   0.44828853  0.96645832 -0.05622281  0.47279322\n",
      " -0.29936403  0.06015123 -0.09899426  0.28901276 -0.33046263  0.38867778\n",
      " -0.42414945 -0.3718079  -0.21276011  0.28065959 -0.22296324 -0.61628139\n",
      " -0.18393438  0.40772048 -0.35403776  0.04455114  0.58871782  0.56935304\n",
      " -0.19648483 -0.47339526  0.92889184 -0.25246918  0.03960117 -0.40196446\n",
      "  0.15921862 -0.22524422  0.14909637 -0.19241095  0.27039117 -0.31409714\n",
      " -0.11467486 -1.02286339  0.16232994  0.09549815 -0.76600075  0.31373847\n",
      "  0.21320502 -0.20407495 -0.95965523  1.21210027  0.20778069  0.11828215\n",
      " -0.22072387 -0.15596816  0.33695608 -0.31366155 -0.1380057   0.57191092\n",
      " -1.04646933 -0.25496015 -0.08945226  0.82987624 -0.10988845  0.60118681\n",
      "  0.5282374  -0.30289039  0.20728765  0.59614497]\n"
     ]
    }
   ],
   "source": [
    "# shows the similar words\n",
    "print (model.wv.most_similar('vaccine'))\n",
    "print() \n",
    "# shows the learnt embedding\n",
    "print (model.wv['cancer'])\n",
    "print() \n",
    "# shows the similar docs with tag = #hpv\n",
    "print (model.docvecs.most_similar(\"#vaccine\"))\n",
    "print (model.docvecs.most_similar(\"#vaccination\"))\n",
    "print (model.docvecs.most_similar(\"#vaccines\"))\n",
    "print() \n",
    "#hashtag embeddings\n",
    "print(model.docvecs['#cervical'])"
   ]
  },
  {
   "cell_type": "code",
   "execution_count": 87,
   "metadata": {},
   "outputs": [
    {
     "name": "stderr",
     "output_type": "stream",
     "text": [
      "E:\\conda\\lib\\site-packages\\ipykernel_launcher.py:3: DeprecationWarning: Call to deprecated `most_similar` (Method will be removed in 4.0.0, use self.wv.most_similar() instead).\n",
      "  This is separate from the ipykernel package so we can avoid doing imports until\n"
     ]
    },
    {
     "data": {
      "text/plain": [
       "[('tag', '#nocure', 13.237060546875),\n",
       " ('tag', '#arhp', 13.116081237792969),\n",
       " ('tag', '#actslikecancer', 13.039281845092773),\n",
       " ('word', 'ssmear', 12.815620422363281),\n",
       " ('word', 'agenda-driven', 12.494791984558105),\n",
       " ('word', 'donotmakeexcuses', 11.706401824951172),\n",
       " ('tag', '#canturntocancer', 11.06768798828125),\n",
       " ('word', '122,844', 10.25916862487793),\n",
       " ('word', 'hpvfirst', 10.030200004577637),\n",
       " ('word', 'thinkcurefightscancer', 9.484886169433594),\n",
       " ('word', 'gymsm', 9.359027862548828),\n",
       " ('word', 'billgatesfoundation', 9.23710823059082),\n",
       " ('word', 'hinduwomen', 8.3189697265625),\n",
       " ('tag', '#usnews', 7.730393886566162),\n",
       " ('word', 'gene-editing', 7.472973823547363),\n",
       " ('word', 'rar', 7.298567771911621),\n",
       " ('word', 'repostwhiz', 7.176763534545898),\n",
       " ('tag', '#500pxrtg', 7.152878761291504),\n",
       " ('word', 'ahem', 7.11164665222168),\n",
       " ('word', \"'india\", 5.6226806640625)]"
      ]
     },
     "execution_count": 87,
     "metadata": {},
     "output_type": "execute_result"
    }
   ],
   "source": [
    "#assess model\n",
    "origin = model.docvecs['#hpv'] \n",
    "word_sims = [('word', word, score) for word, score in model.most_similar([origin],topn=20)]\n",
    "tag_sims = [('tag', tag, score) for tag, score in model.docvecs.most_similar([origin],topn=20)]\n",
    "results = sorted((tag_sims + word_sims),key=lambda tup: -tup[2])\n",
    "results[:20]"
   ]
  },
  {
   "cell_type": "code",
   "execution_count": 88,
   "metadata": {},
   "outputs": [
    {
     "name": "stdout",
     "output_type": "stream",
     "text": [
      "[['#acip', '#hpv', '#vaccine', '#vaccin'], ['#gardasil', '#vaccine']]\n",
      "[['rt', ':', 'good', 'news', 'for', 'everyone', ':', 'cdc', 'acip', 'approved', 'a', '2-dose', 'schedule', ',', '6', 'months', 'apart', ',', 'for', 'hpv', 'vaccine', 'for', '9-14', 'year', 'olds', '.', 'vaccin'], ['rt', ':', 'dr.', 'harper', ':', 'gardasil', 'was', 'fast-tracked', 'vaccine', ',', 'so', 'we', 'do', \"n't\", 'know', 'long-term', 'side', 'effects']]\n"
     ]
    }
   ],
   "source": [
    "#another evaluation\n",
    "test_set = np.random.choice(train_raw_data, int(len(train_raw_data)*0.2))\n",
    "test_tag = [each['orignal_hashtags'] for each in test_set]\n",
    "test_seq = [each['words'] for each in test_set]\n",
    "print(test_tag[:2])\n",
    "print(test_seq[:2])"
   ]
  },
  {
   "cell_type": "code",
   "execution_count": 89,
   "metadata": {},
   "outputs": [
    {
     "name": "stdout",
     "output_type": "stream",
     "text": [
      "rt : good news for everyone: cdc acip approved a 2-dose schedule, 6 months apart, for hpv vaccine for 9-14 year olds. vaccin\n",
      "['#acip', '#hpv', '#vaccine', '#vaccin']\n"
     ]
    },
    {
     "data": {
      "text/plain": [
       "[('#actslikecancer', 18.694869995117188),\n",
       " ('#nocure', 16.895462036132812),\n",
       " ('#arhp', 16.645540237426758),\n",
       " ('#canturntocancer', 16.18458366394043),\n",
       " ('#usnews', 10.804193496704102),\n",
       " ('#500pxrtg', 8.893560409545898),\n",
       " ('#terrible', 0.9951874017715454),\n",
       " ('#acip', 0.8571861386299133),\n",
       " ('#sucks', 0.8467624187469482),\n",
       " ('#therebelpatient', 0.8244351148605347)]"
      ]
     },
     "execution_count": 89,
     "metadata": {},
     "output_type": "execute_result"
    }
   ],
   "source": [
    "print(test_set[0]['text'])\n",
    "inferred_vec = model.infer_vector(test_set[0]['words'])\n",
    "print(test_set[0]['orignal_hashtags'])\n",
    "model.docvecs.most_similar([inferred_vec])"
   ]
  },
  {
   "cell_type": "code",
   "execution_count": 90,
   "metadata": {},
   "outputs": [
    {
     "name": "stdout",
     "output_type": "stream",
     "text": [
      "tweet >> \n",
      " rt : good news for everyone: cdc acip approved a 2-dose schedule, 6 months apart, for hpv vaccine for 9-14 year olds. vaccin\n",
      "hashtags of tweet >>\n",
      " ['#acip', '#hpv', '#vaccine', '#vaccin']\n",
      "predicated hashtags based on tweet >>\n",
      " [('#actslikecancer', 18.50225257873535), ('#nocure', 16.6639347076416), ('#arhp', 16.425540924072266), ('#canturntocancer', 15.531455993652344), ('#usnews', 10.321876525878906)]\n",
      "the top 5 second level infer hashtags >>\n",
      " [('#nocure', 27.818897247314453), ('#canturntocancer', 26.703472137451172), ('#arhp', 24.8717041015625), ('#usnews', 15.32882022857666), ('#500pxrtg', 13.759662628173828)]\n",
      "\n",
      "tweet >> \n",
      " rt : dr. harper: gardasil was fast-tracked vaccine, so we don't know long-term side effects\n",
      "hashtags of tweet >>\n",
      " ['#gardasil', '#vaccine']\n",
      "predicated hashtags based on tweet >>\n",
      " [('#actslikecancer', 19.759796142578125), ('#nocure', 19.584598541259766), ('#arhp', 17.96923065185547), ('#canturntocancer', 17.141000747680664), ('#usnews', 9.855619430541992)]\n",
      "the top 5 second level infer hashtags >>\n",
      " [('#nocure', 27.818897247314453), ('#canturntocancer', 26.703472137451172), ('#arhp', 24.8717041015625), ('#usnews', 15.32882022857666), ('#500pxrtg', 13.759662628173828)]\n",
      "\n",
      "tweet >> \n",
      " nearly half of american men and women under 60 are infected with hpv. health womenshealth\n",
      "hashtags of tweet >>\n",
      " ['#health', '#womenshealth']\n",
      "predicated hashtags based on tweet >>\n",
      " [('#actslikecancer', 19.66044807434082), ('#canturntocancer', 19.18215560913086), ('#nocure', 18.96772003173828), ('#arhp', 17.78553009033203), ('#usnews', 11.348215103149414)]\n",
      "the top 5 second level infer hashtags >>\n",
      " [('#nocure', 27.818897247314453), ('#canturntocancer', 26.703472137451172), ('#arhp', 24.8717041015625), ('#usnews', 15.32882022857666), ('#500pxrtg', 13.759662628173828)]\n",
      "\n",
      "tweet >> \n",
      " rt : in just a decade, hpv rates dropped 64% in teen girls: calling all pediatricians  vaccineswork\n",
      "hashtags of tweet >>\n",
      " ['#vaccineswork']\n",
      "predicated hashtags based on tweet >>\n",
      " [('#nocure', 18.965301513671875), ('#arhp', 17.526020050048828), ('#actslikecancer', 16.74285125732422), ('#canturntocancer', 16.561283111572266), ('#usnews', 12.274867057800293)]\n",
      "the top 5 second level infer hashtags >>\n",
      " [('#actslikecancer', 29.583784103393555), ('#canturntocancer', 26.776844024658203), ('#arhp', 25.245407104492188), ('#usnews', 16.216407775878906), ('#500pxrtg', 14.296573638916016)]\n",
      "\n",
      "tweet >> \n",
      " a timely statement on hpv vaccine from  & other cancer centers  vaccines save lives - period!\n",
      "hashtags of tweet >>\n",
      " ['#vaccine', '#cancer']\n",
      "predicated hashtags based on tweet >>\n",
      " [('#actslikecancer', 22.248706817626953), ('#nocure', 21.551776885986328), ('#canturntocancer', 20.075489044189453), ('#arhp', 19.409900665283203), ('#usnews', 12.387545585632324)]\n",
      "the top 5 second level infer hashtags >>\n",
      " [('#nocure', 27.818897247314453), ('#canturntocancer', 26.703472137451172), ('#arhp', 24.8717041015625), ('#usnews', 15.32882022857666), ('#500pxrtg', 13.759662628173828)]\n",
      "\n",
      "tweet >> \n",
      " rt : hpv vaccine is cancer prevention! protect yourself or your kids today<\n",
      "hashtags of tweet >>\n",
      " ['#hpv', '#vaccine', '#cancer']\n",
      "predicated hashtags based on tweet >>\n",
      " [('#actslikecancer', 21.787242889404297), ('#canturntocancer', 20.500919342041016), ('#nocure', 20.293867111206055), ('#arhp', 19.243297576904297), ('#usnews', 11.181862831115723)]\n",
      "the top 5 second level infer hashtags >>\n",
      " [('#nocure', 27.818897247314453), ('#canturntocancer', 26.703472137451172), ('#arhp', 24.8717041015625), ('#usnews', 15.32882022857666), ('#500pxrtg', 13.759662628173828)]\n",
      "\n",
      "tweet >> \n",
      " hpv news: hpv infection rates plummet after vaccine with china the next frontier pathogenposse\n",
      "hashtags of tweet >>\n",
      " ['#pathogenposse']\n",
      "predicated hashtags based on tweet >>\n",
      " [('#canturntocancer', 19.447528839111328), ('#actslikecancer', 19.40757942199707), ('#nocure', 18.99127960205078), ('#arhp', 18.628921508789062), ('#usnews', 12.446096420288086)]\n",
      "the top 5 second level infer hashtags >>\n",
      " [('#actslikecancer', 29.197917938232422), ('#nocure', 27.531490325927734), ('#arhp', 25.06515121459961), ('#usnews', 15.678217887878418), ('#500pxrtg', 13.672446250915527)]\n",
      "\n",
      "tweet >> \n",
      " rt : dyk? cervical cancer is the 3rd most common female cancer. here are some top advances for 2016.\n",
      "hashtags of tweet >>\n",
      " ['#dyk', '#cancer']\n",
      "predicated hashtags based on tweet >>\n",
      " [('#actslikecancer', 23.07777214050293), ('#canturntocancer', 21.213825225830078), ('#nocure', 21.14812469482422), ('#arhp', 19.66202163696289), ('#usnews', 11.033963203430176)]\n",
      "the top 5 second level infer hashtags >>\n",
      " [('#nocure', 27.818897247314453), ('#canturntocancer', 26.703472137451172), ('#arhp', 24.8717041015625), ('#usnews', 15.32882022857666), ('#500pxrtg', 13.759662628173828)]\n",
      "\n",
      "tweet >> \n",
      " rt : hpv vaccine doesn't only protect against cervical cancers. dr. wong explains benefits for head / neck cancers. hncsm h\n",
      "hashtags of tweet >>\n",
      " ['#hpv', '#hncsm']\n",
      "predicated hashtags based on tweet >>\n",
      " [('#actslikecancer', 17.994861602783203), ('#canturntocancer', 17.420883178710938), ('#nocure', 17.344043731689453), ('#arhp', 16.597442626953125), ('#usnews', 10.453754425048828)]\n",
      "the top 5 second level infer hashtags >>\n",
      " [('#nocure', 27.818897247314453), ('#canturntocancer', 26.703472137451172), ('#arhp', 24.8717041015625), ('#usnews', 15.32882022857666), ('#500pxrtg', 13.759662628173828)]\n",
      "\n",
      "tweet >> \n",
      " rt : hpv vaccination could reduce global deaths from cervical cancer by as much as two-thirds. 2shots2stopcancer\n",
      "hashtags of tweet >>\n",
      " ['#2shots2stopcancer']\n",
      "predicated hashtags based on tweet >>\n",
      " [('#actslikecancer', 18.680522918701172), ('#nocure', 18.28388786315918), ('#arhp', 17.58814239501953), ('#canturntocancer', 17.28781509399414), ('#usnews', 11.38102912902832)]\n",
      "the top 5 second level infer hashtags >>\n",
      " [('#nocure', 27.818897247314453), ('#canturntocancer', 26.703472137451172), ('#arhp', 24.8717041015625), ('#usnews', 15.32882022857666), ('#500pxrtg', 13.759662628173828)]\n",
      "\n"
     ]
    }
   ],
   "source": [
    "for i, each in enumerate(test_set):\n",
    "    if i < 10:\n",
    "        inferred_vec = model.infer_vector(each['words'])\n",
    "        print(\"tweet >> \\n {}\".format(each['text']))\n",
    "        print(\"hashtags of tweet >>\\n {}\".format(each['orignal_hashtags']))\n",
    "        inferred_res = model.docvecs.most_similar([inferred_vec], topn=5)\n",
    "        print(\"predicated hashtags based on tweet >>\\n {}\".format(inferred_res))\n",
    "        print(\"the top 5 second level infer hashtags >>\\n {}\".format(model.docvecs.most_similar(inferred_res[0][0], topn=5)))\n",
    "        print()"
   ]
  },
  {
   "cell_type": "markdown",
   "metadata": {},
   "source": [
    "## train a t2v model with a dataset containing only tweets with top 11 freq hashtags and tid"
   ]
  },
  {
   "cell_type": "code",
   "execution_count": 119,
   "metadata": {},
   "outputs": [
    {
     "data": {
      "text/plain": [
       "TaggedDocument(words=['vaccineswork', 'the', 'hpv', 'vaccine', 'it', \"'s\", 'cancer', 'prevention', 'in', 'the', 'hands', 'of', 'physicians', 'and', 'parents'], tags=['vaccineswork', '846524352418004992'])"
      ]
     },
     "execution_count": 119,
     "metadata": {},
     "output_type": "execute_result"
    }
   ],
   "source": [
    "docs_1 = [TaggedDocument(each['words'], each['hashtags']) for each in md_freq_sample['data']]\n",
    "np.random.shuffle(docs_1)\n",
    "docs_1[0]"
   ]
  },
  {
   "cell_type": "code",
   "execution_count": 121,
   "metadata": {},
   "outputs": [
    {
     "name": "stdout",
     "output_type": "stream",
     "text": [
      "Now training epoch 0\n",
      "Now training epoch 10\n",
      "Now training epoch 20\n",
      "Now training epoch 30\n",
      "Now training epoch 40\n",
      "Now training epoch 50\n",
      "Now training epoch 60\n",
      "Now training epoch 70\n",
      "Now training epoch 80\n",
      "Now training epoch 90\n",
      "Wall time: 55min 45s\n"
     ]
    }
   ],
   "source": [
    "%%time\n",
    "#using skip-gram model\n",
    "model_1 = gensim.models.doc2vec.Doc2Vec(dm=0, dbow_words=1, size=100, alpha=0.025, min_alpha=0.025, min_count=0, workers=multiprocessing.cpu_count(), iter = 10)\n",
    "model_1.build_vocab(docs_1)\n",
    "\n",
    "for epoch in range(100):\n",
    "    if epoch % 10 == 0:\n",
    "        print ('Now training epoch %s'%epoch)\n",
    "    model_1.train(docs, total_examples = words_count, epochs = model.iter)\n",
    "    model_1.alpha -= 0.002  # decrease the learning rate\n",
    "    model_1.min_alpha = model.alpha  # fix the learning rate, no decay"
   ]
  },
  {
   "cell_type": "code",
   "execution_count": 122,
   "metadata": {},
   "outputs": [
    {
     "name": "stdout",
     "output_type": "stream",
     "text": [
      "[('hpv', 0.8945080041885376), ('!', 0.8925163745880127), ('10', 0.8894655108451843), ('report', 0.8864502906799316), ('out', 0.8853661417961121), (',', 0.8850535154342651), ('of', 0.8846757411956787), ('with', 0.8832195401191711), ('from', 0.8825470805168152), ('who', 0.8825079202651978)]\n",
      "\n",
      "[-2.33820486  0.48245114  0.14271986 -0.61947644  0.14949125 -0.75954616\n",
      " -0.75303531 -1.0440402  -0.69968951 -0.46689004 -1.11501551  1.84001029\n",
      " -1.32465363  0.42597178  2.15874457 -1.02550423  0.02361116 -1.13783693\n",
      " -1.76253951 -2.7321949   2.33409142  0.88917965  0.92387992 -0.41094562\n",
      " -0.4912841  -1.95612872  1.51078582  1.41663611 -0.56113583  0.906766\n",
      " -1.88180816  0.77339727  0.09722759  1.64448333  0.2642459   0.74397922\n",
      "  0.45687717 -1.05445135 -1.63638735 -1.28904271  2.27400208 -1.37547159\n",
      "  0.34097117 -0.81782961 -0.44842571 -1.06702149 -0.29075247  1.80298615\n",
      " -1.23309886 -1.62950492 -0.21880794 -0.45533019 -2.01157761  0.80548465\n",
      " -0.2964218   1.31826317  0.06735939  0.41151595 -2.47394156 -0.62191427\n",
      " -1.31615341 -1.87321877 -3.06608129 -1.05414665  0.4118697  -0.005961\n",
      " -0.16487145  0.57825631  0.12030065  1.45075703  0.37398851  1.54542017\n",
      " -0.86787093 -1.31070316  0.94070244  1.10272503 -0.45208174 -1.34200811\n",
      " -0.5797897   0.94518983 -1.49515164 -0.93700242 -0.80258387  0.64886862\n",
      " -1.77019238 -0.26297206  0.33849448 -1.56628108 -0.73719943 -1.58572304\n",
      "  1.87938225  0.45400354 -0.55617887  0.09878426  1.08811426 -1.08783126\n",
      " -1.3155421  -3.30152059  1.275841   -0.48331773]\n",
      "\n",
      "\n",
      "[ -2.92990031e-03  -4.12593549e-03  -1.91885943e-03  -3.80985439e-03\n",
      "  -4.93652979e-03   2.69401236e-04  -2.43904069e-03  -2.92198989e-03\n",
      "  -4.38535027e-03   2.23353389e-03   3.52302659e-03  -1.07585092e-03\n",
      "  -3.27371946e-03  -3.91080556e-03   2.20897119e-03   7.64010299e-04\n",
      "  -7.61904812e-04   2.41400325e-04  -6.81528007e-04  -1.48885825e-03\n",
      "   6.48709829e-04   2.26985477e-03  -2.72652623e-03   1.25340675e-03\n",
      "  -4.12972551e-03  -1.67127396e-03   9.78326541e-04  -3.82938329e-03\n",
      "  -3.29651078e-03   1.66453328e-03   3.11966450e-03   4.47030831e-03\n",
      "   4.23602015e-03   2.48342147e-03  -2.51845893e-04  -1.36944163e-03\n",
      "   4.34219185e-03   6.56516699e-04  -4.40491829e-03   3.74035770e-03\n",
      "  -5.46962801e-05   4.31016181e-03   1.22850796e-03  -2.17555603e-03\n",
      "   1.68539444e-03   1.50642043e-03  -1.22291560e-03  -4.97833593e-03\n",
      "  -4.02881205e-03   4.60304832e-03  -1.06328086e-03   3.03969975e-03\n",
      "  -2.88433256e-03  -2.19671451e-03   4.13898379e-03  -1.16960448e-03\n",
      "   4.75190440e-03  -3.38731939e-03   4.98186424e-03   9.53118841e-04\n",
      "   7.49990402e-04  -5.09934442e-04   2.71069119e-03  -1.03407190e-03\n",
      "  -2.87825288e-03  -2.42301170e-03   3.33057891e-04   1.01681810e-03\n",
      "   1.37814030e-03  -3.86071089e-03   3.16477986e-03  -3.82604310e-04\n",
      "  -2.53018178e-03  -2.39752932e-03  -4.42651007e-03  -3.50390864e-03\n",
      "   1.17898674e-03  -3.61800077e-03   4.38364316e-03   8.54540267e-04\n",
      "  -2.24881014e-03   4.54991171e-03   2.54586409e-03  -3.80401895e-03\n",
      "  -6.63233164e-04  -4.47236001e-03   6.49976952e-04   3.03255091e-03\n",
      "  -3.27728433e-03   4.99990443e-03  -2.00515520e-03   6.76953176e-04\n",
      "   4.58361907e-03   1.82897586e-03   3.09869298e-03   2.59633362e-03\n",
      "  -2.61089392e-03  -5.72447490e-04  -1.18054659e-03   4.32346202e-03]\n"
     ]
    }
   ],
   "source": [
    "# shows the similar words\n",
    "print (model_1.wv.most_similar('vaccine'))\n",
    "print() \n",
    "# shows the learnt embedding\n",
    "print (model_1.wv['cancer'])\n",
    "print() \n",
    "# print (model_1.docvecs.most_similar(\"vaccine\"))\n",
    "# print (model_1.docvecs.most_similar(\"vaccination\"))\n",
    "# print (model_1.docvecs.most_similar(\"vaccines\"))\n",
    "print() \n",
    "#hashtag embeddings\n",
    "print(model_1.docvecs['hpv'])"
   ]
  },
  {
   "cell_type": "code",
   "execution_count": 123,
   "metadata": {},
   "outputs": [
    {
     "name": "stdout",
     "output_type": "stream",
     "text": [
      "tweet >> \n",
      " rt : mt : hpv vaccination is cancer prevention. be part of the solution. gyncsm\n",
      "hashtags of tweet >>\n",
      " ['hpv', 'vaccin', 'cancer', 'gyncsm', '657569260365942784']\n",
      "predicated hashtags based on tweet >>\n",
      " [('chile', 0.47245335578918457), ('628044565233037312', 0.4166824221611023), ('767802779717005312', 0.3938097059726715), ('883171981306277888', 0.3748818635940552), ('507164992861659136', 0.3747347593307495)]\n",
      "the top 5 second level infer hashtags >>\n",
      " [('906304552365953026', 0.41449832916259766), ('849624851627343872', 0.407646119594574), ('687684481612967940', 0.40286827087402344), ('907980338475003904', 0.40044668316841125), ('909984795047923712', 0.4002317786216736)]\n",
      "\n",
      "tweet >> \n",
      " free hpv vaccine provider education course available online! earn credit and learn tips\n",
      "hashtags of tweet >>\n",
      " ['hpv', '656548161356451840']\n",
      "predicated hashtags based on tweet >>\n",
      " [('558611813399400448', 0.4195649325847626), ('726168748017762306', 0.39725983142852783), ('741099343931973632', 0.39422643184661865), ('590637446611783680', 0.3926389813423157), ('chile', 0.39236021041870117)]\n",
      "the top 5 second level infer hashtags >>\n",
      " [('509748449474904064', 0.4357457756996155), ('901673187762515968', 0.4237622618675232), ('855861334277271554', 0.40996265411376953), ('748301004655845378', 0.4096670150756836), ('821013035611463683', 0.39997684955596924)]\n",
      "\n",
      "tweet >> \n",
      " rt : gardasil 9 vaccine protects against additional types of hpv: cervicalca hncsm cancer\n",
      "hashtags of tweet >>\n",
      " ['hpv', 'cervicalca', 'hncsm', 'cancer', '572794117371142146']\n",
      "predicated hashtags based on tweet >>\n",
      " [('821496688229679104', 0.4046018123626709), ('825026412276961281', 0.392934650182724), ('692716440000942080', 0.39049696922302246), ('839500991489662977', 0.3819461464881897), ('792889578134855680', 0.37934303283691406)]\n",
      "the top 5 second level infer hashtags >>\n",
      " [('771125710668824576', 0.44745784997940063), ('boy', 0.436242938041687), ('889853052018098176', 0.4080096185207367), ('862048348919955457', 0.407809317111969), ('589095978017382400', 0.4034637212753296)]\n",
      "\n",
      "tweet >> \n",
      " rt : . chapters team up with health departments, coalitions to improve hpv vaccination rates.\n",
      "hashtags of tweet >>\n",
      " ['hpv', '916078106812788736']\n",
      "predicated hashtags based on tweet >>\n",
      " [('chile', 0.45847490429878235), ('701772489656025089', 0.4006154537200928), ('843209176939728899', 0.3983091413974762), ('628044565233037312', 0.3839561343193054), ('552208349702672384', 0.3821668028831482)]\n",
      "the top 5 second level infer hashtags >>\n",
      " [('906304552365953026', 0.41449832916259766), ('849624851627343872', 0.407646119594574), ('687684481612967940', 0.40286827087402344), ('907980338475003904', 0.40044668316841125), ('909984795047923712', 0.4002317786216736)]\n",
      "\n",
      "tweet >> \n",
      " erin andrews' father testifies that she 'doesn't trust anymore' since nude photo scandal erinandrews\n",
      "hashtags of tweet >>\n",
      " ['erinandrew']\n",
      "predicated hashtags based on tweet >>\n",
      " [('827405821881364482', 0.4562506079673767), ('711015793438429184', 0.41971665620803833), ('774066037696323584', 0.37558895349502563), ('687742334155399169', 0.3746488690376282), ('890284636479168512', 0.3693208694458008)]\n",
      "the top 5 second level infer hashtags >>\n",
      " [('592738648329682945', 0.4373704493045807), ('594549132800315392', 0.4021303057670593), ('705572126124843008', 0.38714534044265747), ('848049860104388608', 0.37585872411727905), ('914024088229867520', 0.37061259150505066)]\n",
      "\n",
      "tweet >> \n",
      " rt : . on periscope: hpv painting for charity!!   fucking hilarious. ..\n",
      "hashtags of tweet >>\n",
      " ['periscop']\n",
      "predicated hashtags based on tweet >>\n",
      " [('862850976063131649', 0.40571653842926025), ('421431466376327168', 0.4029207229614258), ('chile', 0.3960154056549072), ('760688074179444741', 0.3956837058067322), ('701772489656025089', 0.3904625177383423)]\n",
      "the top 5 second level infer hashtags >>\n",
      " [('838748628420263936', 0.41235777735710144), ('713402641477472256', 0.4049970507621765), ('431857836767723520', 0.38678425550460815), ('558637538600947714', 0.38325035572052), ('854303721324507137', 0.3801378905773163)]\n",
      "\n",
      "tweet >> \n",
      " you have the powertoprevent cervicalcancer through screening and hpv vaccinations. learn more at\n",
      "hashtags of tweet >>\n",
      " ['powertoprev', 'cervicalcanc', '684162050713612294']\n",
      "predicated hashtags based on tweet >>\n",
      " [('908057220096688128', 0.4349825382232666), ('559707660380274688', 0.39736104011535645), ('532971184309018624', 0.39246442914009094), ('843026952617426945', 0.39001166820526123), ('918197664365281286', 0.3803696036338806)]\n",
      "the top 5 second level infer hashtags >>\n",
      " [('753924627345379328', 0.41751736402511597), ('888304446748278784', 0.4092707335948944), ('788681813543706625', 0.4049094021320343), ('918197664365281286', 0.40059298276901245), ('dhealth', 0.3976516127586365)]\n",
      "\n",
      "tweet >> \n",
      " rt : during cervicalhealthmonth, start the discussion about cervicalcancer screening with the women in your life.\n",
      "hashtags of tweet >>\n",
      " ['cervicalhealthmonth', 'cervicalcanc', '824338692013690880']\n",
      "predicated hashtags based on tweet >>\n",
      " [('763753631023763456', 0.4271731674671173), ('675442929419194369', 0.4101833999156952), ('854303721324507137', 0.4098634123802185), ('841671382429712384', 0.4017944037914276), ('816823835479724032', 0.3961827754974365)]\n",
      "the top 5 second level infer hashtags >>\n",
      " [('821766873004081152', 0.41842231154441833), ('486916577355247616', 0.38302767276763916), ('wheresthemedia', 0.37807825207710266), ('892865782568411137', 0.36676904559135437), ('586872895550263299', 0.3667250871658325)]\n",
      "\n",
      "tweet >> \n",
      " rt : women, clinicians: hpv vaccine & pap tests are crucial to prevent cervical cancer.\n",
      "hashtags of tweet >>\n",
      " ['women', 'clinician', 'hpv', 'cancer', '550748705968914432']\n",
      "predicated hashtags based on tweet >>\n",
      " [('663727778269937664', 0.42116034030914307), ('823980718724354048', 0.3966945707798004), ('745236152156721153', 0.39641880989074707), ('899816601549144065', 0.3766734004020691), ('890284636479168512', 0.37638619542121887)]\n",
      "the top 5 second level infer hashtags >>\n",
      " [('713048294348439552', 0.4207375645637512), ('853111965735976961', 0.4115118086338043), ('822437897483808768', 0.40676599740982056), ('906295181099409408', 0.40411484241485596), ('886401976807837697', 0.39863359928131104)]\n",
      "\n",
      "tweet >> \n",
      " rt : a new study has revealed that hpv increases your risk of head and neck cancer by 70% via https\n",
      "hashtags of tweet >>\n",
      " ['cancer', '705449818999525376']\n",
      "predicated hashtags based on tweet >>\n",
      " [('439934397828333568', 0.40489137172698975), ('558611813399400448', 0.40013477206230164), ('lawrencema', 0.3739511966705322), ('826430306160873472', 0.3729120194911957), ('542782022083547136', 0.37022536993026733)]\n",
      "the top 5 second level infer hashtags >>\n",
      " [('697469371275419648', 0.4624332785606384), ('710118459804393475', 0.3919932246208191), ('880445158789193728', 0.3916410803794861), ('909287126063128576', 0.38088342547416687), ('paradigmshift', 0.3728411793708801)]\n",
      "\n"
     ]
    }
   ],
   "source": [
    "test_set = np.random.choice(train_raw_data, int(len(md_freq_sample['data'])*0.2))\n",
    "\n",
    "for i, each in enumerate(test_set):\n",
    "    if i < 10:\n",
    "        inferred_vec = model_1.infer_vector(each['words'])\n",
    "        print(\"tweet >> \\n {}\".format(each['text']))\n",
    "        print(\"hashtags of tweet >>\\n {}\".format(each['hashtags']))\n",
    "        inferred_res = model_1.docvecs.most_similar([inferred_vec], topn=5)\n",
    "        print(\"predicated hashtags based on tweet >>\\n {}\".format(inferred_res))\n",
    "        print(\"the top 5 second level infer hashtags >>\\n {}\".format(model_1.docvecs.most_similar(inferred_res[0][0], topn=5)))\n",
    "        print()"
   ]
  },
  {
   "cell_type": "markdown",
   "metadata": {},
   "source": [
    "## another model"
   ]
  },
  {
   "cell_type": "code",
   "execution_count": 103,
   "metadata": {},
   "outputs": [
    {
     "name": "stdout",
     "output_type": "stream",
     "text": [
      "Wall time: 1min 6s\n"
     ]
    }
   ],
   "source": [
    "%%time\n",
    "#training model\n",
    "model2 = gensim.models.doc2vec.Doc2Vec(dm=0, dbow_words=1, size=100, alpha=0.025, min_alpha=0.025, min_count=1, workers=multiprocessing.cpu_count(), iter=100, window = 30)\n",
    "model2.build_vocab(docs)\n",
    "model2.train(docs, total_examples = words_count, epochs = model.iter)"
   ]
  },
  {
   "cell_type": "code",
   "execution_count": 104,
   "metadata": {},
   "outputs": [
    {
     "name": "stdout",
     "output_type": "stream",
     "text": [
      "tweet >> \n",
      " nothing is more exciting than new indications! keytruda , taltz, & gardasil\n",
      "hashtags of tweet >>\n",
      " ['keytruda', 'taltz', 'gardasil']\n",
      "predicated hashtags based on tweet >>\n",
      " [('#keytruda', 0.8704658150672913), ('#taltz', 0.8633818626403809), ('#pesticide', 0.7911003232002258), ('#cooncology', 0.7874743938446045), ('#ozone', 0.7840933799743652)]\n",
      "the top 5 second level infer hashtags >>\n",
      " [('#taltz', 0.96110999584198), ('#timelapse', 0.8220064640045166), ('#production', 0.8104546070098877), ('#cooncology', 0.8099256157875061), ('#denveroncology', 0.8096989989280701)]\n",
      "\n",
      "tweet >> \n",
      " we have a vaccine that can eliminate up to 30,000 cancers a year. yet hpv vaccination rates remain low\n",
      "hashtags of tweet >>\n",
      " ['hpv']\n",
      "predicated hashtags based on tweet >>\n",
      " [('#nursepractitioners', 0.7152985334396362), ('#pnp', 0.7023173570632935), ('#fnp', 0.696955144405365), ('#irvinehome', 0.6947712898254395), ('#kansashospitals', 0.6944798231124878)]\n",
      "the top 5 second level infer hashtags >>\n",
      " [('#pnp', 0.9668010473251343), ('#fnp', 0.9530107975006104), ('#uhmed', 0.8605087399482727), ('#gethpvvac', 0.8536864519119263), ('#kansashospitals', 0.8400633931159973)]\n",
      "\n",
      "tweet >> \n",
      " hollywood jessi zazu dead: those darlins guitarist tragically loses cancer battle at 28\n",
      "hashtags of tweet >>\n",
      " ['hollywood']\n",
      "predicated hashtags based on tweet >>\n",
      " [('#za', 0.8134207725524902), ('#zazu', 0.8122522830963135), ('#publicbattle', 0.8035699129104614), ('#fdny', 0.7104200124740601), ('#hollywood', 0.7003861665725708)]\n",
      "the top 5 second level infer hashtags >>\n",
      " [('#publicbattle', 0.981337308883667), ('#zazu', 0.9712122082710266), ('#music', 0.8351909518241882), ('#blessingofhealing', 0.7992168664932251), ('#socialleaf', 0.7973465919494629)]\n",
      "\n",
      "tweet >> \n",
      " the latest mujeres against cervical cancer! thanks to    cancer health\n",
      "hashtags of tweet >>\n",
      " ['cancer', 'health']\n",
      "predicated hashtags based on tweet >>\n",
      " [('#cáncer', 0.8911211490631104), ('#braintumor', 0.8784826993942261), ('#ncri2016', 0.8490544557571411), ('#selfportrait', 0.8350231647491455), ('#advocates', 0.8310496807098389)]\n",
      "the top 5 second level infer hashtags >>\n",
      " [('#braintumor', 0.9444084763526917), ('#crunchies', 0.8664769530296326), ('#massage', 0.8558367490768433), ('#bloodcancersawarenessmonth', 0.8557164072990417), ('#mujeres', 0.8554753065109253)]\n",
      "\n",
      "tweet >> \n",
      " rt : after less than 9 years of hpv vaccination programs we may be seeing the beginning of the end of cervical cancer\n",
      "hashtags of tweet >>\n",
      " ['hpv']\n",
      "predicated hashtags based on tweet >>\n",
      " [('#cdctellthetruth', 0.7141496539115906), ('#weekendu', 0.7118514776229858), ('#learntherisks', 0.6780558228492737), ('#nyhealth', 0.6658838987350464), ('#sanofi', 0.6600854992866516)]\n",
      "the top 5 second level infer hashtags >>\n",
      " [('#sanofi', 0.8375850915908813), ('#conquercancer', 0.8205708861351013), ('#millennialflirting', 0.8047888875007629), ('#relationshipgoals', 0.803744912147522), ('#thewestwing', 0.8017630577087402)]\n",
      "\n",
      "tweet >> \n",
      " did you know about the connection between hpv and oralcancer? did you know that hpv affects both males and females\n",
      "hashtags of tweet >>\n",
      " ['oralcanc']\n",
      "predicated hashtags based on tweet >>\n",
      " [('#healthymonday', 0.7067042589187622), ('#healthde', 0.7054442167282104), ('#get_thrive', 0.7013098001480103), ('#papsmearexam', 0.7002462148666382), ('#stayhealthyblfd', 0.6978826522827148)]\n",
      "the top 5 second level infer hashtags >>\n",
      " [('#stayhealthyblfd', 0.9736707806587219), ('#healthymond', 0.9519118666648865), ('#saf', 0.9045844674110413), ('#learnabouthpv', 0.8982973098754883), ('#fhcn', 0.8966714143753052)]\n",
      "\n",
      "tweet >> \n",
      " rt : why boys need protecting from hpv too\n",
      "hashtags of tweet >>\n",
      " ['hpv']\n",
      "predicated hashtags based on tweet >>\n",
      " [('#teamingupagainstcancer', 0.788596510887146), ('#umnsph', 0.7867908477783203), ('#oz4g', 0.7831255197525024), ('#northwestplanoobgyn', 0.7744496464729309), ('#ktve', 0.7706341743469238)]\n",
      "the top 5 second level infer hashtags >>\n",
      " [('#debunkingmyths', 0.8823170065879822), ('#equality', 0.8647865653038025), ('#apothecarygulch', 0.8632608652114868), ('#trustme', 0.8558075428009033), ('#ganurses', 0.8526115417480469)]\n",
      "\n",
      "tweet >> \n",
      " rt : any cervicalcancer peeps out there? looking for a source for a story on the hpv vaccine. holler if u'd like to talk!\n",
      "hashtags of tweet >>\n",
      " ['cervicalcanc', 'hpv']\n",
      "predicated hashtags based on tweet >>\n",
      " [('#courage', 0.781018078327179), ('#pickuplinerhymes', 0.7432429790496826), ('#patientzero', 0.7402031421661377), ('#bekindtooneanother', 0.7379326820373535), ('#lemec', 0.7337629795074463)]\n",
      "the top 5 second level infer hashtags >>\n",
      " [('#mmqb', 0.8331529498100281), ('#cervicalcancerawarnessmonth', 0.8266262412071228), ('#onscong', 0.8211951851844788), ('#sistersurrogate', 0.8211182951927185), ('#pickuplinerhymes', 0.8199601769447327)]\n",
      "\n",
      "tweet >> \n",
      " here's what hpv really is: sex medical\n",
      "hashtags of tweet >>\n",
      " ['sex', 'medic']\n",
      "predicated hashtags based on tweet >>\n",
      " [('#watchmen', 0.7576569318771362), ('#cicciolina', 0.7543736696243286), ('#cynthia', 0.750136137008667), ('#teenvogue', 0.7448708415031433), ('#features', 0.7437250018119812)]\n",
      "the top 5 second level infer hashtags >>\n",
      " [('#chubby', 0.9060660600662231), ('#teeengirlsexcom', 0.8872643709182739), ('#cicciolina', 0.8861773014068604), ('#shannon', 0.8831656575202942), ('#cynthia', 0.8824856877326965)]\n",
      "\n",
      "tweet >> \n",
      " rt : at 1pm et today! looking forward to saludtues chat about cervicalcancer hosted by  w /   &\n",
      "hashtags of tweet >>\n",
      " ['saludtu', 'cervicalcanc']\n",
      "predicated hashtags based on tweet >>\n",
      " [('#gigem', 0.7871898412704468), ('#headache', 0.7633771896362305), ('#sharing', 0.7601690292358398), ('#breastcancerscreening', 0.746267557144165), ('#startamovement', 0.7458914518356323)]\n",
      "the top 5 second level infer hashtags >>\n",
      " [('#thankyounoteday', 0.8321727514266968), ('#mmqb', 0.8315867185592651), ('#breastcancerjourney', 0.8198347687721252), ('#wltz', 0.808205246925354), ('#humanissue', 0.8043560981750488)]\n",
      "\n"
     ]
    }
   ],
   "source": [
    "test_set = np.random.choice(train_raw_data, int(len(md_freq_sample['data'])*0.2))\n",
    "\n",
    "for i, each in enumerate(test_set):\n",
    "    if i < 10:\n",
    "        inferred_vec = model2.infer_vector(each['words'])\n",
    "        print(\"tweet >> \\n {}\".format(each['text']))\n",
    "        print(\"hashtags of tweet >>\\n {}\".format(each['hashtags']))\n",
    "        inferred_res = model2.docvecs.most_similar([inferred_vec], topn=5)\n",
    "        print(\"predicated hashtags based on tweet >>\\n {}\".format(inferred_res))\n",
    "        print(\"the top 5 second level infer hashtags >>\\n {}\".format(model2.docvecs.most_similar(inferred_res[0][0], topn=5)))\n",
    "        print()"
   ]
  },
  {
   "cell_type": "markdown",
   "metadata": {},
   "source": [
    "## model with only tweets id"
   ]
  },
  {
   "cell_type": "code",
   "execution_count": null,
   "metadata": {
    "collapsed": true
   },
   "outputs": [],
   "source": []
  },
  {
   "cell_type": "code",
   "execution_count": null,
   "metadata": {},
   "outputs": [],
   "source": []
  },
  {
   "cell_type": "code",
   "execution_count": null,
   "metadata": {},
   "outputs": [],
   "source": []
  }
 ],
 "metadata": {
  "kernelspec": {
   "display_name": "Python 3",
   "language": "python",
   "name": "python3"
  },
  "language_info": {
   "codemirror_mode": {
    "name": "ipython",
    "version": 3
   },
   "file_extension": ".py",
   "mimetype": "text/x-python",
   "name": "python",
   "nbconvert_exporter": "python",
   "pygments_lexer": "ipython3",
   "version": "3.6.3"
  },
  "toc": {
   "nav_menu": {},
   "number_sections": true,
   "sideBar": true,
   "skip_h1_title": false,
   "toc_cell": false,
   "toc_position": {},
   "toc_section_display": "block",
   "toc_window_display": false
  }
 },
 "nbformat": 4,
 "nbformat_minor": 2
}
