{
 "cells": [
  {
   "cell_type": "markdown",
   "metadata": {},
   "source": [
    "# Keras generic implementation of tweetshashtag2vec"
   ]
  },
  {
   "cell_type": "code",
   "execution_count": 1,
   "metadata": {},
   "outputs": [
    {
     "name": "stdout",
     "output_type": "stream",
     "text": [
      "[name: \"/device:CPU:0\"\n",
      "device_type: \"CPU\"\n",
      "memory_limit: 268435456\n",
      "locality {\n",
      "}\n",
      "incarnation: 17913481044391591244\n",
      "]\n",
      "2.1.2\n",
      "tensorflow\n"
     ]
    },
    {
     "name": "stderr",
     "output_type": "stream",
     "text": [
      "Using TensorFlow backend.\n"
     ]
    }
   ],
   "source": [
    "#import tensorflow backend\n",
    "from tensorflow.python.client import device_lib\n",
    "print(device_lib.list_local_devices())\n",
    "import keras\n",
    "from keras.layers import *\n",
    "from keras.models import Sequential, Model\n",
    "from keras.optimizers import *\n",
    "from keras.preprocessing import sequence\n",
    "print(keras.__version__)\n",
    "print(keras.backend.backend())\n",
    "import numpy as np"
   ]
  },
  {
   "cell_type": "code",
   "execution_count": 2,
   "metadata": {
    "collapsed": true
   },
   "outputs": [],
   "source": [
    "#load data\n",
    "with open(\"temp/neg_sample_data.json\", \"r\", encoding=\"utf-8\") as f:\n",
    "    md_nfreq_sample = json.load(f)\n",
    "    \n",
    "with open(\"temp/tweets4classification.json\", \"r\", encoding=\"utf-8\") as f:\n",
    "    md_freq_sample = json.load(f)"
   ]
  },
  {
   "cell_type": "code",
   "execution_count": 3,
   "metadata": {},
   "outputs": [
    {
     "data": {
      "text/plain": [
       "{'hashtag_label': [],\n",
       " 'hashtags': ['cervicalhealthawarenessmonth', 'obamacar'],\n",
       " 'id': '418769437261455360',\n",
       " 'orignal_hashtags': ['#cervicalhealthawarenessmonth', '#obamacare'],\n",
       " 'raw': 'rt @ppsne: jan. is #cervicalhealthawarenessmonth. thanks to #obamacare, pap tests + the hpv vaccine are covered without a copay. http://t.c…',\n",
       " 'text': 'rt : jan. is cervicalhealthawarenessmonth. thanks to obamacare, pap tests + the hpv vaccine are covered without a copay.',\n",
       " 'words': ['rt',\n",
       "  ':',\n",
       "  'jan.',\n",
       "  'is',\n",
       "  'cervicalhealthawarenessmonth',\n",
       "  '.',\n",
       "  'thanks',\n",
       "  'to',\n",
       "  'obamacare',\n",
       "  ',',\n",
       "  'pap',\n",
       "  'tests',\n",
       "  '+',\n",
       "  'the',\n",
       "  'hpv',\n",
       "  'vaccine',\n",
       "  'are',\n",
       "  'covered',\n",
       "  'without',\n",
       "  'a',\n",
       "  'copay',\n",
       "  '.']}"
      ]
     },
     "execution_count": 3,
     "metadata": {},
     "output_type": "execute_result"
    }
   ],
   "source": [
    "md_nfreq_sample['data'][0]"
   ]
  },
  {
   "cell_type": "code",
   "execution_count": 4,
   "metadata": {},
   "outputs": [
    {
     "data": {
      "text/plain": [
       "{'hashtag_label': [1, 5],\n",
       " 'hashtags': ['hpv', 'vaccin'],\n",
       " 'id': '418263863772327936',\n",
       " 'orignal_hashtags': ['#hpv', '#vaccine'],\n",
       " 'raw': 'rt @cdcstd: #hpv vax coverage could be 93% if doctors gave hpv #vaccine each time a preteen/teen got any other vaccine&gt; http://t.co/xxryga5…',\n",
       " 'text': 'rt : hpv vax coverage could be 93% if doctors gave hpv vaccine each time a preteen / teen got any other vaccine>',\n",
       " 'words': ['rt',\n",
       "  ':',\n",
       "  'hpv',\n",
       "  'vax',\n",
       "  'coverage',\n",
       "  'could',\n",
       "  'be',\n",
       "  '93',\n",
       "  '%',\n",
       "  'if',\n",
       "  'doctors',\n",
       "  'gave',\n",
       "  'hpv',\n",
       "  'vaccine',\n",
       "  'each',\n",
       "  'time',\n",
       "  'a',\n",
       "  'preteen',\n",
       "  '/',\n",
       "  'teen',\n",
       "  'got',\n",
       "  'any',\n",
       "  'other',\n",
       "  'vaccine',\n",
       "  '>']}"
      ]
     },
     "execution_count": 4,
     "metadata": {},
     "output_type": "execute_result"
    }
   ],
   "source": [
    "md_freq_sample['data'][0]"
   ]
  },
  {
   "cell_type": "markdown",
   "metadata": {
    "collapsed": true
   },
   "source": [
    "# gensim implementation of tweetshashtag2vec using doc2vec api"
   ]
  },
  {
   "cell_type": "code",
   "execution_count": 6,
   "metadata": {},
   "outputs": [],
   "source": [
    "import gensim"
   ]
  },
  {
   "cell_type": "code",
   "execution_count": 7,
   "metadata": {},
   "outputs": [
    {
     "name": "stdout",
     "output_type": "stream",
     "text": [
      "['rt', ':', 'hpv', 'vax', 'coverage', 'could', 'be', '93', '%', 'if', 'doctors', 'gave', 'hpv', 'vaccine', 'each', 'time', 'a', 'preteen', '/', 'teen', 'got', 'any', 'other', 'vaccine', '>']\n",
      "115165\n"
     ]
    },
    {
     "data": {
      "text/plain": [
       "{'hashtag_label': [1, 5],\n",
       " 'hashtags': ['hpv', 'vaccin'],\n",
       " 'id': '418263863772327936',\n",
       " 'orignal_hashtags': ['#hpv', '#vaccine'],\n",
       " 'raw': 'rt @cdcstd: #hpv vax coverage could be 93% if doctors gave hpv #vaccine each time a preteen/teen got any other vaccine&gt; http://t.co/xxryga5…',\n",
       " 'text': 'rt : hpv vax coverage could be 93% if doctors gave hpv vaccine each time a preteen / teen got any other vaccine>',\n",
       " 'words': ['rt',\n",
       "  ':',\n",
       "  'hpv',\n",
       "  'vax',\n",
       "  'coverage',\n",
       "  'could',\n",
       "  'be',\n",
       "  '93',\n",
       "  '%',\n",
       "  'if',\n",
       "  'doctors',\n",
       "  'gave',\n",
       "  'hpv',\n",
       "  'vaccine',\n",
       "  'each',\n",
       "  'time',\n",
       "  'a',\n",
       "  'preteen',\n",
       "  '/',\n",
       "  'teen',\n",
       "  'got',\n",
       "  'any',\n",
       "  'other',\n",
       "  'vaccine',\n",
       "  '>']}"
      ]
     },
     "execution_count": 7,
     "metadata": {},
     "output_type": "execute_result"
    }
   ],
   "source": [
    "#data prepare\n",
    "train_raw_data = md_freq_sample['data'] +  md_nfreq_sample['data']\n",
    "print(train_raw_data[0]['words'])\n",
    "print(len(train_raw_data))\n",
    "train_raw_data[0]"
   ]
  },
  {
   "cell_type": "code",
   "execution_count": 8,
   "metadata": {},
   "outputs": [
    {
     "name": "stdout",
     "output_type": "stream",
     "text": [
      "1960039\n",
      "239984\n"
     ]
    },
    {
     "data": {
      "text/plain": [
       "TaggedDocument(words=['rt', ':', 'hpv', 'vax', 'coverage', 'could', 'be', '93', '%', 'if', 'doctors', 'gave', 'hpv', 'vaccine', 'each', 'time', 'a', 'preteen', '/', 'teen', 'got', 'any', 'other', 'vaccine', '>'], tags=['#hpv', '#vaccine'])"
      ]
     },
     "execution_count": 8,
     "metadata": {},
     "output_type": "execute_result"
    }
   ],
   "source": [
    "from gensim.models.doc2vec import TaggedDocument\n",
    "docs = [TaggedDocument(each['words'], each['orignal_hashtags']) for each in train_raw_data]\n",
    "words_count = sum(len(each[0]) for each in docs)\n",
    "tags_count = sum(len(each[1]) for each in docs)\n",
    "print(words_count)\n",
    "print(tags_count)\n",
    "docs[0]"
   ]
  },
  {
   "cell_type": "code",
   "execution_count": 11,
   "metadata": {},
   "outputs": [
    {
     "name": "stdout",
     "output_type": "stream",
     "text": [
      "Now training epoch 0\n",
      "Now training epoch 1\n",
      "Now training epoch 2\n",
      "Now training epoch 3\n",
      "Now training epoch 4\n",
      "Now training epoch 5\n",
      "Now training epoch 6\n",
      "Now training epoch 7\n",
      "Now training epoch 8\n",
      "Now training epoch 9\n",
      "Now training epoch 10\n",
      "Now training epoch 11\n",
      "Now training epoch 12\n",
      "Now training epoch 13\n",
      "Now training epoch 14\n",
      "Now training epoch 15\n",
      "Now training epoch 16\n",
      "Now training epoch 17\n",
      "Now training epoch 18\n",
      "Now training epoch 19\n",
      "Now training epoch 20\n",
      "Now training epoch 21\n",
      "Now training epoch 22\n",
      "Now training epoch 23\n",
      "Now training epoch 24\n",
      "Now training epoch 25\n",
      "Now training epoch 26\n",
      "Now training epoch 27\n",
      "Now training epoch 28\n",
      "Now training epoch 29\n",
      "Now training epoch 30\n",
      "Now training epoch 31\n",
      "Now training epoch 32\n",
      "Now training epoch 33\n",
      "Now training epoch 34\n",
      "Now training epoch 35\n",
      "Now training epoch 36\n",
      "Now training epoch 37\n",
      "Now training epoch 38\n",
      "Now training epoch 39\n",
      "Now training epoch 40\n",
      "Now training epoch 41\n",
      "Now training epoch 42\n",
      "Now training epoch 43\n",
      "Now training epoch 44\n",
      "Now training epoch 45\n",
      "Now training epoch 46\n",
      "Now training epoch 47\n",
      "Now training epoch 48\n",
      "Now training epoch 49\n",
      "Now training epoch 50\n",
      "Now training epoch 51\n",
      "Now training epoch 52\n",
      "Now training epoch 53\n",
      "Now training epoch 54\n",
      "Now training epoch 55\n",
      "Now training epoch 56\n",
      "Now training epoch 57\n",
      "Now training epoch 58\n",
      "Now training epoch 59\n",
      "Now training epoch 60\n",
      "Now training epoch 61\n",
      "Now training epoch 62\n",
      "Now training epoch 63\n",
      "Now training epoch 64\n",
      "Now training epoch 65\n",
      "Now training epoch 66\n",
      "Now training epoch 67\n",
      "Now training epoch 68\n",
      "Now training epoch 69\n",
      "Now training epoch 70\n",
      "Now training epoch 71\n",
      "Now training epoch 72\n",
      "Now training epoch 73\n",
      "Now training epoch 74\n",
      "Now training epoch 75\n",
      "Now training epoch 76\n",
      "Now training epoch 77\n",
      "Now training epoch 78\n",
      "Now training epoch 79\n",
      "Now training epoch 80\n",
      "Now training epoch 81\n",
      "Now training epoch 82\n",
      "Now training epoch 83\n",
      "Now training epoch 84\n",
      "Now training epoch 85\n",
      "Now training epoch 86\n",
      "Now training epoch 87\n",
      "Now training epoch 88\n",
      "Now training epoch 89\n",
      "Now training epoch 90\n",
      "Now training epoch 91\n",
      "Now training epoch 92\n",
      "Now training epoch 93\n",
      "Now training epoch 94\n",
      "Now training epoch 95\n",
      "Now training epoch 96\n",
      "Now training epoch 97\n",
      "Now training epoch 98\n",
      "Now training epoch 99\n",
      "Wall time: 36min 36s\n"
     ]
    }
   ],
   "source": [
    "%%time \n",
    "#training model manully tune alpha\n",
    "import multiprocessing\n",
    "model = gensim.models.doc2vec.Doc2Vec(dm=0, dbow_words=1, size=100, alpha=0.025, min_alpha=0.025, min_count=1, workers=multiprocessing.cpu_count())\n",
    "model.build_vocab(docs)\n",
    "\n",
    "for epoch in range(100):\n",
    "    print ('Now training epoch %s'%epoch)\n",
    "    model.train(docs, total_examples = words_count, epochs = model.iter)\n",
    "    model.alpha -= 0.002  # decrease the learning rate\n",
    "    model.min_alpha = model.alpha  # fix the learning rate, no decay"
   ]
  },
  {
   "cell_type": "code",
   "execution_count": 15,
   "metadata": {},
   "outputs": [
    {
     "name": "stdout",
     "output_type": "stream",
     "text": [
      "Wall time: 14min 35s\n"
     ]
    }
   ],
   "source": [
    "%%time\n",
    "# this seems a better model than the one above\n",
    "#auto update alpha\n",
    "#training model\n",
    "import multiprocessing\n",
    "model = gensim.models.doc2vec.Doc2Vec(dm=0, dbow_words=1, size=100, alpha=0.025, min_alpha=0.025, min_count=1, workers=multiprocessing.cpu_count(), iter=100, window = 30)\n",
    "model.build_vocab(docs)\n",
    "model.train(docs, total_examples = words_count, epochs = model.iter)"
   ]
  },
  {
   "cell_type": "code",
   "execution_count": 17,
   "metadata": {},
   "outputs": [
    {
     "name": "stdout",
     "output_type": "stream",
     "text": [
      "[('cervical', 0.7103636860847473), (':', 0.5652252435684204), ('hpv', 0.5650304555892944), ('for', 0.5563048124313354), ('cancers', 0.5442872047424316), ('and', 0.5355117321014404), ('screening', 0.5271674394607544), ('prevent', 0.52569580078125), ('pathogenposse', 0.5254772901535034), ('rt', 0.5195286273956299)]\n",
      "\n",
      "[-0.01450148 -0.4765738  -0.27967104 -0.21792474  0.20908529  0.26640809\n",
      "  0.47182855  0.44003326  0.16612442  0.06861772 -0.2064383   0.63898283\n",
      "  0.23104607 -0.21566872  0.42022917 -0.02735193  0.29281154  0.03050879\n",
      "  0.03291376  0.27262101  0.33217353  0.07228537 -0.10965021 -0.1724453\n",
      "  0.4806695   0.04843138 -0.48427922  0.27168617 -0.10165881  0.17472968\n",
      " -0.55431938  0.35294515  0.44892219 -0.20762593  0.01711269 -0.03736882\n",
      "  0.17307073  0.5755471  -0.12753339  0.20625421 -0.02579602 -0.05845352\n",
      "  0.52650571 -0.00497864  0.11514082 -0.21894194 -0.1525425   0.07640699\n",
      " -0.24041913  0.71906883  0.32044071  0.29416862 -0.11677121 -0.00918423\n",
      "  0.44369221 -0.32470855 -0.36076689  0.20527688  0.63262641 -0.20689653\n",
      "  0.37475526  0.00604974 -0.04219745 -0.57347566  0.50339991  0.4043296\n",
      "  0.46131325  0.01410409 -0.60244    -0.17162029 -0.25887322  0.58592445\n",
      "  0.29668784 -0.17337364 -0.02841163 -0.260748   -0.29863235 -0.35696238\n",
      "  0.25828752  0.09192889 -0.61048877  0.33736432 -0.06741162 -0.4129006\n",
      " -0.35065976  0.34009159  0.31631476 -0.38063321 -0.20778947 -0.12381903\n",
      " -0.23944192 -0.28437731  0.16210115  0.76795566  0.33540818 -0.22399496\n",
      "  0.27255824 -0.06511324  0.03850529 -0.04642039]\n",
      "\n",
      "[('#cancer', 0.48357513546943665), ('#tissue', 0.4309648871421814), ('#acthiv', 0.41599318385124207), ('#kyga14', 0.4104223847389221), ('#preventioniskey', 0.4068813621997833), ('#chemoradiation', 0.40521693229675293), ('#cervicalcancer', 0.4007536470890045), ('#epidemic', 0.398858904838562), ('#hpv32', 0.3931184411048889), ('#ibmwatson', 0.39250117540359497)]\n",
      "\n",
      "[ 0.15975524  0.06770599  0.22128788 -0.26469186  0.54054892 -0.38395095\n",
      "  0.39121515  0.02938213 -0.52852923  0.44393289 -0.90121895  0.11136047\n",
      "  0.35892591  0.15539426  0.75596541  0.57350975  0.38518593 -0.28751105\n",
      "  0.00200346 -0.49201459  0.39110005  0.02155803  0.28069401  0.21086529\n",
      "  0.55490977  0.54919517 -0.45125186  0.01718452 -0.08727083 -0.2047774\n",
      "  0.18154904  0.18564892  0.38366112  0.33858496  0.09158663 -0.02178653\n",
      " -0.40158376  0.24801648 -0.21336687  0.28570995  0.33184496 -0.0014401\n",
      "  0.66394967 -0.42958328 -0.05111945 -0.05264792 -0.29871768 -0.01231948\n",
      "  0.00251633  0.18881455  0.34063914  0.02388967  0.44664985 -0.48718643\n",
      " -0.07983518  0.19234473  0.19615453 -0.19334498  0.55346262 -0.75411779\n",
      "  0.47967291  0.08068752 -0.2132934  -0.4108018   0.24247858  0.57732171\n",
      "  0.18563361 -0.36550719  0.21252792 -0.06526038 -0.23537616  0.62271929\n",
      "  0.09838923 -0.23367237 -0.31525773  0.13129427  0.0545306  -0.18864827\n",
      " -0.15361392  0.30389053  0.14672883  0.50584805 -0.26582927  0.08789679\n",
      " -0.23154674  0.38239741  0.12887305 -0.11677119 -0.3950983  -0.42865238\n",
      "  0.07585306  0.22536695  0.97101754  0.18547155 -0.07084072 -0.68588185\n",
      "  0.17262867 -0.02878164 -0.59394157  0.19329345]\n"
     ]
    }
   ],
   "source": [
    "# shows the similar words\n",
    "print (model.wv.most_similar('cancer'))\n",
    "print() \n",
    "# shows the learnt embedding\n",
    "print (model.wv['cancer'])\n",
    "print() \n",
    "# shows the similar docs with tag = #hpv\n",
    "print (model.docvecs.most_similar(\"#hpv\"))\n",
    "print() \n",
    "#hashtag embeddings\n",
    "print(model.docvecs['#cervical'])"
   ]
  },
  {
   "cell_type": "code",
   "execution_count": 16,
   "metadata": {},
   "outputs": [
    {
     "name": "stderr",
     "output_type": "stream",
     "text": [
      "E:\\conda\\lib\\site-packages\\ipykernel_launcher.py:3: DeprecationWarning: Call to deprecated `most_similar` (Method will be removed in 4.0.0, use self.wv.most_similar() instead).\n",
      "  This is separate from the ipykernel package so we can avoid doing imports until\n"
     ]
    },
    {
     "data": {
      "text/plain": [
       "[('tag', '#hpv', 0.9999999403953552),\n",
       " ('tag', '#cancer', 0.48357513546943665),\n",
       " ('word', 'kyga14', 0.45989274978637695),\n",
       " ('word', 'hpg', 0.4580444395542145),\n",
       " ('word', 'airway', 0.4499026834964752),\n",
       " ('word', 'ucriverside', 0.4479418098926544),\n",
       " ('word', 'steer', 0.43955087661743164),\n",
       " ('word', 'dawn', 0.4394335150718689),\n",
       " ('tag', '#tissue', 0.4309648871421814),\n",
       " ('word', 'riskawaresexed', 0.43005794286727905),\n",
       " ('word', 'teenaged', 0.4226871728897095),\n",
       " ('word', 'foot', 0.4179244339466095),\n",
       " ('word', 'hns', 0.4167706370353699),\n",
       " ('word', 'startre', 0.4166020452976227),\n",
       " ('word', 'slpeeps', 0.4163530468940735),\n",
       " ('tag', '#acthiv', 0.41599318385124207),\n",
       " ('word', 'proficiency', 0.4132997989654541),\n",
       " ('word', 'womencomments', 0.4129256010055542),\n",
       " ('word', 'johannesburg', 0.41246163845062256),\n",
       " ('word', 'geteducatedoncancerprevention', 0.41180163621902466)]"
      ]
     },
     "execution_count": 16,
     "metadata": {},
     "output_type": "execute_result"
    }
   ],
   "source": [
    "#assess model\n",
    "origin = model.docvecs['#hpv'] \n",
    "word_sims = [('word', word, score) for word, score in model.most_similar([origin],topn=20)]\n",
    "tag_sims = [('tag', tag, score) for tag, score in model.docvecs.most_similar([origin],topn=20)]\n",
    "results = sorted((tag_sims + word_sims),key=lambda tup: -tup[2])\n",
    "results[:20]"
   ]
  },
  {
   "cell_type": "code",
   "execution_count": null,
   "metadata": {
    "collapsed": true
   },
   "outputs": [],
   "source": [
    "#what we can do with the doc2vec model?\n"
   ]
  },
  {
   "cell_type": "code",
   "execution_count": null,
   "metadata": {
    "collapsed": true
   },
   "outputs": [],
   "source": []
  }
 ],
 "metadata": {
  "kernelspec": {
   "display_name": "Python 3",
   "language": "python",
   "name": "python3"
  },
  "language_info": {
   "codemirror_mode": {
    "name": "ipython",
    "version": 3
   },
   "file_extension": ".py",
   "mimetype": "text/x-python",
   "name": "python",
   "nbconvert_exporter": "python",
   "pygments_lexer": "ipython3",
   "version": "3.6.3"
  },
  "toc": {
   "nav_menu": {},
   "number_sections": true,
   "sideBar": true,
   "skip_h1_title": false,
   "toc_cell": false,
   "toc_position": {},
   "toc_section_display": "block",
   "toc_window_display": false
  }
 },
 "nbformat": 4,
 "nbformat_minor": 2
}
