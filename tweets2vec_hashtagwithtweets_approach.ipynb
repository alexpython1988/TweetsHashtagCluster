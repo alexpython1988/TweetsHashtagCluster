{
 "cells": [
  {
   "cell_type": "markdown",
   "metadata": {},
   "source": [
    "# Keras generic implementation of tweetshashtag2vec"
   ]
  },
  {
   "cell_type": "code",
   "execution_count": 7,
   "metadata": {},
   "outputs": [
    {
     "name": "stdout",
     "output_type": "stream",
     "text": [
      "[name: \"/device:CPU:0\"\n",
      "device_type: \"CPU\"\n",
      "memory_limit: 268435456\n",
      "locality {\n",
      "}\n",
      "incarnation: 7388235101743159890\n",
      "]\n"
     ]
    },
    {
     "name": "stderr",
     "output_type": "stream",
     "text": [
      "Using TensorFlow backend.\n"
     ]
    },
    {
     "name": "stdout",
     "output_type": "stream",
     "text": [
      "2.1.2\n",
      "tensorflow\n"
     ]
    }
   ],
   "source": [
    "#import tensorflow backend\n",
    "from tensorflow.python.client import device_lib\n",
    "print(device_lib.list_local_devices())\n",
    "import keras\n",
    "from keras.layers import *\n",
    "from keras.models import Sequential, Model\n",
    "from keras.optimizers import *\n",
    "from keras.preprocessing import sequence\n",
    "print(keras.__version__)\n",
    "print(keras.backend.backend())\n",
    "import numpy as np"
   ]
  },
  {
   "cell_type": "code",
   "execution_count": 3,
   "metadata": {
    "collapsed": true
   },
   "outputs": [],
   "source": [
    "#load data\n",
    "with open(\"temp/neg_sample_data.json\", \"r\", encoding=\"utf-8\") as f:\n",
    "    md_nfreq_sample = json.load(f)\n",
    "    \n",
    "with open(\"temp/tweets4classification.json\", \"r\", encoding=\"utf-8\") as f:\n",
    "    md_freq_sample = json.load(f)"
   ]
  },
  {
   "cell_type": "code",
   "execution_count": 5,
   "metadata": {},
   "outputs": [
    {
     "data": {
      "text/plain": [
       "{'hashtag_label': [],\n",
       " 'hashtags': ['cervicalhealthawarenessmonth', 'obamacar'],\n",
       " 'id': '418769437261455360',\n",
       " 'orignal_hashtags': ['#cervicalhealthawarenessmonth', '#obamacare'],\n",
       " 'raw': 'rt @ppsne: jan. is #cervicalhealthawarenessmonth. thanks to #obamacare, pap tests + the hpv vaccine are covered without a copay. http://t.c…',\n",
       " 'text': 'rt : jan. is cervicalhealthawarenessmonth. thanks to obamacare, pap tests + the hpv vaccine are covered without a copay.',\n",
       " 'words': ['rt',\n",
       "  ':',\n",
       "  'jan.',\n",
       "  'is',\n",
       "  'cervicalhealthawarenessmonth',\n",
       "  '.',\n",
       "  'thanks',\n",
       "  'to',\n",
       "  'obamacare',\n",
       "  ',',\n",
       "  'pap',\n",
       "  'tests',\n",
       "  '+',\n",
       "  'the',\n",
       "  'hpv',\n",
       "  'vaccine',\n",
       "  'are',\n",
       "  'covered',\n",
       "  'without',\n",
       "  'a',\n",
       "  'copay',\n",
       "  '.']}"
      ]
     },
     "execution_count": 5,
     "metadata": {},
     "output_type": "execute_result"
    }
   ],
   "source": [
    "md_nfreq_sample['data'][0]"
   ]
  },
  {
   "cell_type": "code",
   "execution_count": 6,
   "metadata": {},
   "outputs": [
    {
     "data": {
      "text/plain": [
       "{'hashtag_label': [1, 5],\n",
       " 'hashtags': ['hpv', 'vaccin'],\n",
       " 'id': '418263863772327936',\n",
       " 'orignal_hashtags': ['#hpv', '#vaccine'],\n",
       " 'raw': 'rt @cdcstd: #hpv vax coverage could be 93% if doctors gave hpv #vaccine each time a preteen/teen got any other vaccine&gt; http://t.co/xxryga5…',\n",
       " 'text': 'rt : hpv vax coverage could be 93% if doctors gave hpv vaccine each time a preteen / teen got any other vaccine>',\n",
       " 'words': ['rt',\n",
       "  ':',\n",
       "  'hpv',\n",
       "  'vax',\n",
       "  'coverage',\n",
       "  'could',\n",
       "  'be',\n",
       "  '93',\n",
       "  '%',\n",
       "  'if',\n",
       "  'doctors',\n",
       "  'gave',\n",
       "  'hpv',\n",
       "  'vaccine',\n",
       "  'each',\n",
       "  'time',\n",
       "  'a',\n",
       "  'preteen',\n",
       "  '/',\n",
       "  'teen',\n",
       "  'got',\n",
       "  'any',\n",
       "  'other',\n",
       "  'vaccine',\n",
       "  '>']}"
      ]
     },
     "execution_count": 6,
     "metadata": {},
     "output_type": "execute_result"
    }
   ],
   "source": [
    "md_freq_sample['data'][0]"
   ]
  },
  {
   "cell_type": "code",
   "execution_count": null,
   "metadata": {
    "collapsed": true
   },
   "outputs": [],
   "source": []
  },
  {
   "cell_type": "markdown",
   "metadata": {
    "collapsed": true
   },
   "source": [
    "# gensim implementation of tweetshashtag2vec using doc2vec api"
   ]
  },
  {
   "cell_type": "code",
   "execution_count": 1,
   "metadata": {},
   "outputs": [
    {
     "name": "stderr",
     "output_type": "stream",
     "text": [
      "E:\\conda\\lib\\site-packages\\gensim\\utils.py:860: UserWarning: detected Windows; aliasing chunkize to chunkize_serial\n",
      "  warnings.warn(\"detected Windows; aliasing chunkize to chunkize_serial\")\n"
     ]
    }
   ],
   "source": [
    "import gensim"
   ]
  },
  {
   "cell_type": "code",
   "execution_count": 16,
   "metadata": {},
   "outputs": [
    {
     "name": "stdout",
     "output_type": "stream",
     "text": [
      "1960039\n",
      "115165\n"
     ]
    },
    {
     "data": {
      "text/plain": [
       "{'hashtag_label': [1, 5],\n",
       " 'hashtags': ['hpv', 'vaccin'],\n",
       " 'id': '418263863772327936',\n",
       " 'orignal_hashtags': ['#hpv', '#vaccine'],\n",
       " 'raw': 'rt @cdcstd: #hpv vax coverage could be 93% if doctors gave hpv #vaccine each time a preteen/teen got any other vaccine&gt; http://t.co/xxryga5…',\n",
       " 'text': 'rt : hpv vax coverage could be 93% if doctors gave hpv vaccine each time a preteen / teen got any other vaccine>',\n",
       " 'words': ['rt',\n",
       "  ':',\n",
       "  'hpv',\n",
       "  'vax',\n",
       "  'coverage',\n",
       "  'could',\n",
       "  'be',\n",
       "  '93',\n",
       "  '%',\n",
       "  'if',\n",
       "  'doctors',\n",
       "  'gave',\n",
       "  'hpv',\n",
       "  'vaccine',\n",
       "  'each',\n",
       "  'time',\n",
       "  'a',\n",
       "  'preteen',\n",
       "  '/',\n",
       "  'teen',\n",
       "  'got',\n",
       "  'any',\n",
       "  'other',\n",
       "  'vaccine',\n",
       "  '>']}"
      ]
     },
     "execution_count": 16,
     "metadata": {},
     "output_type": "execute_result"
    }
   ],
   "source": [
    "#data prepare\n",
    "train_raw_data = md_freq_sample['data'] +  md_nfreq_sample['data']\n",
    "token_count = sum(len(each['words']) for each in train_raw_data)\n",
    "print(token_count)\n",
    "print(len(train_raw_data))\n",
    "train_raw_data[0]"
   ]
  },
  {
   "cell_type": "code",
   "execution_count": 17,
   "metadata": {},
   "outputs": [
    {
     "data": {
      "text/plain": [
       "TaggedDocument(words=['rt', ':', 'hpv', 'vax', 'coverage', 'could', 'be', '93', '%', 'if', 'doctors', 'gave', 'hpv', 'vaccine', 'each', 'time', 'a', 'preteen', '/', 'teen', 'got', 'any', 'other', 'vaccine', '>'], tags=['#hpv', '#vaccine'])"
      ]
     },
     "execution_count": 17,
     "metadata": {},
     "output_type": "execute_result"
    }
   ],
   "source": [
    "from gensim.models.doc2vec import TaggedDocument\n",
    "docs = [TaggedDocument(each['words'], each['orignal_hashtags']) for each in train_raw_data]\n",
    "docs[0]"
   ]
  },
  {
   "cell_type": "code",
   "execution_count": 20,
   "metadata": {},
   "outputs": [
    {
     "name": "stdout",
     "output_type": "stream",
     "text": [
      "Now training epoch 0\n",
      "Now training epoch 20\n",
      "Now training epoch 40\n",
      "Now training epoch 60\n",
      "Now training epoch 80\n"
     ]
    }
   ],
   "source": [
    "#training model\n",
    "model = gensim.models.Doc2Vec(docs, dm=1, size=200, alpha=0.025, min_alpha=0.025, min_count=1)\n",
    "\n",
    "for epoch in range(100):\n",
    "    if epoch % 20 == 0:\n",
    "        print ('Now training epoch %s'%epoch)\n",
    "    model.train(docs, total_examples = token_count, epochs = model.iter)\n",
    "    model.alpha -= 0.002  # decrease the learning rate\n",
    "    model.min_alpha = model.alpha  # fix the learning rate, no decay"
   ]
  },
  {
   "cell_type": "code",
   "execution_count": 35,
   "metadata": {},
   "outputs": [
    {
     "name": "stdout",
     "output_type": "stream",
     "text": [
      "[('liverhealth', 0.3523634374141693), ('hillarys', 0.35067397356033325), ('usfbulls', 0.3452232778072357), ('screenis', 0.3431748151779175), ('meckbocc', 0.3351533114910126), ('linda', 0.33509790897369385), ('reliably', 0.3346606194972992), ('opposehb', 0.3339211046695709), ('curran', 0.3336401581764221), ('heath', 0.33256030082702637)]\n",
      "\n",
      "[ -3.93741485e-03  -1.98754738e-03  -2.70795985e-03   2.24512909e-03\n",
      "   3.73278628e-03  -2.55319849e-03   4.50297352e-03  -2.68983818e-03\n",
      "  -4.09605261e-03   1.00099901e-03   3.14083928e-03  -4.35443129e-03\n",
      "   3.29009513e-03   1.52686203e-03   3.23361019e-03   5.49465534e-04\n",
      "   4.65575280e-03  -2.86946818e-03  -2.41307425e-03  -4.73104045e-03\n",
      "  -1.65909692e-03  -1.75934541e-03   3.03406874e-03   4.34236415e-03\n",
      "   2.77704652e-03   3.93071445e-03   1.71775371e-03   4.69600409e-03\n",
      "   1.46136095e-03   3.92845552e-03  -1.66990375e-03  -3.22868675e-03\n",
      "   1.73513603e-03  -3.32616572e-03   3.40629416e-03   4.16628597e-03\n",
      "   4.51601576e-03   2.02062516e-03  -9.87849562e-05   3.30456044e-03\n",
      "  -1.92995055e-03  -9.24507971e-04   4.92575346e-04   4.79039969e-04\n",
      "   6.92064059e-04   3.90620669e-03  -4.44846833e-03  -2.14869785e-03\n",
      "   1.79951603e-03  -4.40964708e-03  -2.46526208e-03   2.19681906e-03\n",
      "   2.29029334e-03   2.20038393e-03   3.90760833e-03  -2.26566033e-03\n",
      "  -2.43355846e-03   4.87190485e-03   4.03859001e-03   2.64357054e-03\n",
      "  -3.59396869e-03   3.75780714e-04  -3.30117019e-03   8.87410890e-04\n",
      "   3.10455309e-03   4.96099424e-03   1.25278078e-03   4.84981621e-03\n",
      "   2.25004880e-03  -1.45077950e-03  -1.38203974e-03   3.43256141e-03\n",
      "   3.65587464e-03   4.64908918e-03   1.71041035e-03  -3.05091869e-03\n",
      "   5.39650733e-04  -3.03806551e-03   3.60747357e-03  -1.42495125e-03\n",
      "   1.13375147e-03   3.74110881e-03   1.31885102e-03   2.81472108e-03\n",
      "   1.79927985e-04  -4.12478624e-03  -4.41380730e-03   1.23112067e-03\n",
      "  -4.31186473e-03  -4.34572250e-03  -2.24605761e-03  -7.04453269e-04\n",
      "  -4.57748538e-03   3.40830465e-03  -2.03754380e-03  -3.34257446e-03\n",
      "   2.32248800e-03   2.28502136e-03  -3.56890116e-04  -1.56358362e-03]\n",
      "\n",
      "[('#hpv', 0.9062203168869019), ('#health', 0.9038466811180115), ('#vaccineswork', 0.896809458732605), ('#vaccinate', 0.8895232081413269), ('#clinicians', 0.8877155780792236), ('#cervicalcancer', 0.8868218064308167), ('#vaccines', 0.8862229585647583), ('#cancers', 0.8846848011016846), ('#saludtues', 0.8844485282897949), ('#ptsafety', 0.8843538761138916)]\n",
      "\n",
      "[ 0.28104159  0.63884437  1.72598827 -2.76319242 -0.75168878 -0.72370946\n",
      "  2.24505496  1.25446522 -1.25815415 -0.77018023  0.71203148 -0.20113742\n",
      "  0.86577916 -0.01543708  3.68488407  2.33376026 -1.12663317 -1.77068412\n",
      "  0.40865117  1.95940042  0.76050782  2.93629956  1.05119133 -1.61995173\n",
      "  2.35653329 -2.2089324   1.93256533  0.24153385  2.38325381 -2.83914948\n",
      "  0.32124436  1.07072639 -3.61155725 -0.8474645  -0.38216275 -1.17280567\n",
      "  2.33717465 -2.49874735 -0.6332534   1.32543862 -0.54613554  0.55279034\n",
      "  1.29607224 -0.94176203 -2.39310312 -1.24895179  0.95596039 -0.09738056\n",
      " -1.48181403 -2.17534232  2.02416945  0.61203545 -2.20027709 -3.07487369\n",
      " -2.14399481  2.47063351  0.63739264 -1.98050416 -0.53370506 -1.33727407\n",
      "  1.17077494  2.28198624  2.26225495  0.95006371 -0.02437195  1.28788328\n",
      "  0.51596296 -0.04445048 -0.95876259  0.8077566   0.98620081 -3.13222766\n",
      " -0.36513525  1.79642546  2.28247762  0.12672788  2.60566235  2.3552146\n",
      "  0.95216119 -1.62949741 -0.21798283 -3.03539515  0.29492316 -0.49724972\n",
      "  0.25300491  2.52058005  0.16137394 -2.23945618  4.18071032 -2.55749583\n",
      " -1.51167309 -0.11110041 -1.41529417  1.94733775  0.1968555  -1.92928398\n",
      "  0.38250878 -0.30035126  2.20706701  1.60526657]\n"
     ]
    }
   ],
   "source": [
    "# shows the similar words\n",
    "print (model.wv.most_similar('hpv'))\n",
    "print() \n",
    "# shows the learnt embedding\n",
    "print (model.wv['hpv'])\n",
    "print() \n",
    "# shows the similar docs with tag = #hpv\n",
    "print (model.docvecs.most_similar(\"#cancer\"))\n",
    "print() \n",
    "#hashtag embeddings\n",
    "print(model.docvecs['#cervical'])"
   ]
  },
  {
   "cell_type": "code",
   "execution_count": null,
   "metadata": {
    "collapsed": true
   },
   "outputs": [],
   "source": []
  }
 ],
 "metadata": {
  "kernelspec": {
   "display_name": "Python 3",
   "language": "python",
   "name": "python3"
  },
  "language_info": {
   "codemirror_mode": {
    "name": "ipython",
    "version": 3
   },
   "file_extension": ".py",
   "mimetype": "text/x-python",
   "name": "python",
   "nbconvert_exporter": "python",
   "pygments_lexer": "ipython3",
   "version": "3.6.3"
  },
  "toc": {
   "nav_menu": {},
   "number_sections": true,
   "sideBar": true,
   "skip_h1_title": false,
   "toc_cell": false,
   "toc_position": {},
   "toc_section_display": "block",
   "toc_window_display": false
  }
 },
 "nbformat": 4,
 "nbformat_minor": 2
}
