{
 "cells": [
  {
   "cell_type": "markdown",
   "metadata": {},
   "source": [
    "# Tweets classification by its hashtags and no labeled tweets hashtag predication\n",
    "\n",
    "> Using top n hashtags as label to build a supervised model for tweets classification and hashtag predication"
   ]
  },
  {
   "cell_type": "code",
   "execution_count": 1,
   "metadata": {},
   "outputs": [
    {
     "name": "stdout",
     "output_type": "stream",
     "text": [
      "[name: \"/device:CPU:0\"\n",
      "device_type: \"CPU\"\n",
      "memory_limit: 268435456\n",
      "locality {\n",
      "}\n",
      "incarnation: 12178098609830036301\n",
      "]\n"
     ]
    }
   ],
   "source": [
    "#import tensorflow backend\n",
    "from tensorflow.python.client import device_lib\n",
    "print(device_lib.list_local_devices())"
   ]
  },
  {
   "cell_type": "code",
   "execution_count": 2,
   "metadata": {},
   "outputs": [
    {
     "name": "stderr",
     "output_type": "stream",
     "text": [
      "Using TensorFlow backend.\n"
     ]
    },
    {
     "name": "stdout",
     "output_type": "stream",
     "text": [
      "2.0.8\n",
      "tensorflow\n"
     ]
    }
   ],
   "source": [
    "import keras\n",
    "from keras.layers import *\n",
    "from keras.models import Sequential, Model\n",
    "from keras.optimizers import *\n",
    "from keras.preprocessing import sequence\n",
    "\n",
    "print(keras.__version__)\n",
    "print(keras.backend.backend())"
   ]
  },
  {
   "cell_type": "code",
   "execution_count": 3,
   "metadata": {
    "collapsed": true
   },
   "outputs": [],
   "source": [
    "import pandas as pd\n",
    "import numpy as np\n",
    "import bcolz\n",
    "import pickle\n",
    "\n",
    "def save_array(fname, arr):\n",
    "    c=bcolz.carray(arr, rootdir=fname, mode='w')\n",
    "    c.flush()\n",
    "    \n",
    "def load_array(fname):\n",
    "    return bcolz.open(fname)[:]\n",
    "\n",
    "def save_dict(fname, dictionary):\n",
    "    with open(fname, 'wb') as f:\n",
    "        pickle.dump(dictionary, f)\n",
    "\n",
    "def load_dict(fname):\n",
    "    with open(fname, 'rb') as f:\n",
    "        return pickle.load(f)"
   ]
  },
  {
   "cell_type": "code",
   "execution_count": 4,
   "metadata": {
    "collapsed": true
   },
   "outputs": [],
   "source": [
    "#load processed word enbeddings\n",
    "path = 'wordsenbeddings/'\n",
    "res_path = path + 'results/'\n",
    "\n",
    "def load_vectors(name):\n",
    "    loc = res_path + name\n",
    "    return (load_array(loc+'.dat'),\n",
    "        pickle.load(open(loc+'_words.pkl','rb')),\n",
    "        pickle.load(open(loc+'_idx.pkl','rb')))"
   ]
  },
  {
   "cell_type": "code",
   "execution_count": 5,
   "metadata": {},
   "outputs": [
    {
     "data": {
      "text/html": [
       "<div>\n",
       "<style>\n",
       "    .dataframe thead tr:only-child th {\n",
       "        text-align: right;\n",
       "    }\n",
       "\n",
       "    .dataframe thead th {\n",
       "        text-align: left;\n",
       "    }\n",
       "\n",
       "    .dataframe tbody tr th {\n",
       "        vertical-align: top;\n",
       "    }\n",
       "</style>\n",
       "<table border=\"1\" class=\"dataframe\">\n",
       "  <thead>\n",
       "    <tr style=\"text-align: right;\">\n",
       "      <th></th>\n",
       "      <th>id</th>\n",
       "      <th>text</th>\n",
       "      <th>raw</th>\n",
       "      <th>orignal_hashtags</th>\n",
       "      <th>hashtags</th>\n",
       "      <th>words</th>\n",
       "    </tr>\n",
       "  </thead>\n",
       "  <tbody>\n",
       "    <tr>\n",
       "      <th>0</th>\n",
       "      <td>418263863772327936</td>\n",
       "      <td>rt : hpv vax coverage could be 93% if doctors ...</td>\n",
       "      <td>rt @cdcstd: #hpv vax coverage could be 93% if ...</td>\n",
       "      <td>['#hpv', '#vaccine']</td>\n",
       "      <td>['hpv', 'vaccin']</td>\n",
       "      <td>['rt', ':', 'hpv', 'vax', 'coverage', 'could',...</td>\n",
       "    </tr>\n",
       "    <tr>\n",
       "      <th>1</th>\n",
       "      <td>418263863772327936</td>\n",
       "      <td>rt : hpv vax coverage could be 93% if doctors ...</td>\n",
       "      <td>rt @cdcstd: #hpv vax coverage could be 93% if ...</td>\n",
       "      <td>['#hpv', '#vaccine']</td>\n",
       "      <td>['hpv', 'vaccin']</td>\n",
       "      <td>['rt', ':', 'hpv', 'vax', 'coverage', 'could',...</td>\n",
       "    </tr>\n",
       "    <tr>\n",
       "      <th>2</th>\n",
       "      <td>418194978310209536</td>\n",
       "      <td>rt : hpv vax coverage could be 93% if doctors ...</td>\n",
       "      <td>rt @cdcstd: #hpv vax coverage could be 93% if ...</td>\n",
       "      <td>['#hpv', '#vaccine']</td>\n",
       "      <td>['hpv', 'vaccin']</td>\n",
       "      <td>['rt', ':', 'hpv', 'vax', 'coverage', 'could',...</td>\n",
       "    </tr>\n",
       "    <tr>\n",
       "      <th>3</th>\n",
       "      <td>418194978310209536</td>\n",
       "      <td>rt : hpv vax coverage could be 93% if doctors ...</td>\n",
       "      <td>rt @cdcstd: #hpv vax coverage could be 93% if ...</td>\n",
       "      <td>['#hpv', '#vaccine']</td>\n",
       "      <td>['hpv', 'vaccin']</td>\n",
       "      <td>['rt', ':', 'hpv', 'vax', 'coverage', 'could',...</td>\n",
       "    </tr>\n",
       "    <tr>\n",
       "      <th>4</th>\n",
       "      <td>418216659690991616</td>\n",
       "      <td>rt : hpv vax coverage could be 93% if doctors ...</td>\n",
       "      <td>rt @cdcstd: #hpv vax coverage could be 93% if ...</td>\n",
       "      <td>['#hpv', '#vaccine']</td>\n",
       "      <td>['hpv', 'vaccin']</td>\n",
       "      <td>['rt', ':', 'hpv', 'vax', 'coverage', 'could',...</td>\n",
       "    </tr>\n",
       "  </tbody>\n",
       "</table>\n",
       "</div>"
      ],
      "text/plain": [
       "                   id                                               text  \\\n",
       "0  418263863772327936  rt : hpv vax coverage could be 93% if doctors ...   \n",
       "1  418263863772327936  rt : hpv vax coverage could be 93% if doctors ...   \n",
       "2  418194978310209536  rt : hpv vax coverage could be 93% if doctors ...   \n",
       "3  418194978310209536  rt : hpv vax coverage could be 93% if doctors ...   \n",
       "4  418216659690991616  rt : hpv vax coverage could be 93% if doctors ...   \n",
       "\n",
       "                                                 raw      orignal_hashtags  \\\n",
       "0  rt @cdcstd: #hpv vax coverage could be 93% if ...  ['#hpv', '#vaccine']   \n",
       "1  rt @cdcstd: #hpv vax coverage could be 93% if ...  ['#hpv', '#vaccine']   \n",
       "2  rt @cdcstd: #hpv vax coverage could be 93% if ...  ['#hpv', '#vaccine']   \n",
       "3  rt @cdcstd: #hpv vax coverage could be 93% if ...  ['#hpv', '#vaccine']   \n",
       "4  rt @cdcstd: #hpv vax coverage could be 93% if ...  ['#hpv', '#vaccine']   \n",
       "\n",
       "            hashtags                                              words  \n",
       "0  ['hpv', 'vaccin']  ['rt', ':', 'hpv', 'vax', 'coverage', 'could',...  \n",
       "1  ['hpv', 'vaccin']  ['rt', ':', 'hpv', 'vax', 'coverage', 'could',...  \n",
       "2  ['hpv', 'vaccin']  ['rt', ':', 'hpv', 'vax', 'coverage', 'could',...  \n",
       "3  ['hpv', 'vaccin']  ['rt', ':', 'hpv', 'vax', 'coverage', 'could',...  \n",
       "4  ['hpv', 'vaccin']  ['rt', ':', 'hpv', 'vax', 'coverage', 'could',...  "
      ]
     },
     "execution_count": 5,
     "metadata": {},
     "output_type": "execute_result"
    }
   ],
   "source": [
    "#load tweets data\n",
    "tweets_file = \"temp/tweets4classification.csv\"\n",
    "preprocessed_tweets = pd.read_csv(tweets_file)\n",
    "preprocessed_tweets.head(5)"
   ]
  },
  {
   "cell_type": "code",
   "execution_count": null,
   "metadata": {
    "collapsed": true
   },
   "outputs": [],
   "source": []
  }
 ],
 "metadata": {
  "kernelspec": {
   "display_name": "Python 3",
   "language": "python",
   "name": "python3"
  },
  "language_info": {
   "codemirror_mode": {
    "name": "ipython",
    "version": 3
   },
   "file_extension": ".py",
   "mimetype": "text/x-python",
   "name": "python",
   "nbconvert_exporter": "python",
   "pygments_lexer": "ipython3",
   "version": "3.6.2"
  },
  "toc": {
   "nav_menu": {},
   "number_sections": true,
   "sideBar": true,
   "skip_h1_title": false,
   "toc_cell": false,
   "toc_position": {},
   "toc_section_display": "block",
   "toc_window_display": false
  },
  "varInspector": {
   "cols": {
    "lenName": 16,
    "lenType": 16,
    "lenVar": 40
   },
   "kernels_config": {
    "python": {
     "delete_cmd_postfix": "",
     "delete_cmd_prefix": "del ",
     "library": "var_list.py",
     "varRefreshCmd": "print(var_dic_list())"
    },
    "r": {
     "delete_cmd_postfix": ") ",
     "delete_cmd_prefix": "rm(",
     "library": "var_list.r",
     "varRefreshCmd": "cat(var_dic_list()) "
    }
   },
   "types_to_exclude": [
    "module",
    "function",
    "builtin_function_or_method",
    "instance",
    "_Feature"
   ],
   "window_display": false
  }
 },
 "nbformat": 4,
 "nbformat_minor": 2
}
