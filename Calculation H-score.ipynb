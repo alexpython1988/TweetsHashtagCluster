{
 "cells": [
  {
   "cell_type": "code",
   "execution_count": 1,
   "metadata": {
    "collapsed": true
   },
   "outputs": [],
   "source": [
    "import numpy as np\n",
    "import matplotlib.pyplot as plt\n",
    "from sklearn.manifold import TSNE\n",
    "import pandas as pd\n",
    "import pickle"
   ]
  },
  {
   "cell_type": "code",
   "execution_count": 2,
   "metadata": {
    "collapsed": true
   },
   "outputs": [],
   "source": [
    "cw_map = {'cancer': 4,\n",
    " 'cervicalcanc': 6,\n",
    " 'gardasil': 2,\n",
    " 'health': 0,\n",
    " 'hpv': 9,\n",
    " 'hpvvaccin': 3,\n",
    " 'learntherisk': 8,\n",
    " 'studi': 7,\n",
    " 'vaccin': 5,\n",
    " 'vaccineswork': 10,\n",
    " 'vax': 1}\n",
    "\n",
    "idx2ht = {v: k for k, v in cw_map.items()}"
   ]
  },
  {
   "cell_type": "code",
   "execution_count": 3,
   "metadata": {},
   "outputs": [
    {
     "data": {
      "text/html": [
       "<div>\n",
       "<style scoped>\n",
       "    .dataframe tbody tr th:only-of-type {\n",
       "        vertical-align: middle;\n",
       "    }\n",
       "\n",
       "    .dataframe tbody tr th {\n",
       "        vertical-align: top;\n",
       "    }\n",
       "\n",
       "    .dataframe thead th {\n",
       "        text-align: right;\n",
       "    }\n",
       "</style>\n",
       "<table border=\"1\" class=\"dataframe\">\n",
       "  <thead>\n",
       "    <tr style=\"text-align: right;\">\n",
       "      <th></th>\n",
       "      <th>tweet_text</th>\n",
       "      <th>true_label</th>\n",
       "      <th>health</th>\n",
       "      <th>vax</th>\n",
       "      <th>gardasil</th>\n",
       "      <th>hpvvaccin</th>\n",
       "      <th>cancer</th>\n",
       "      <th>vaccin</th>\n",
       "      <th>cervicalcanc</th>\n",
       "      <th>studi</th>\n",
       "      <th>learntherisk</th>\n",
       "      <th>hpv</th>\n",
       "      <th>vaccineswork</th>\n",
       "    </tr>\n",
       "  </thead>\n",
       "  <tbody>\n",
       "    <tr>\n",
       "      <th>0</th>\n",
       "      <td>vaccine cuts teen girls ' hpv rates by two-thi...</td>\n",
       "      <td>health</td>\n",
       "      <td>0.997747</td>\n",
       "      <td>0.001123</td>\n",
       "      <td>6.564490e-07</td>\n",
       "      <td>2.698930e-07</td>\n",
       "      <td>3.316900e-07</td>\n",
       "      <td>0.001125</td>\n",
       "      <td>6.192670e-07</td>\n",
       "      <td>1.152250e-06</td>\n",
       "      <td>4.404900e-07</td>\n",
       "      <td>8.083010e-07</td>\n",
       "      <td>1.055320e-07</td>\n",
       "    </tr>\n",
       "    <tr>\n",
       "      <th>1</th>\n",
       "      <td>rt : . vaxxed update ! gardasil tragedy , lead...</td>\n",
       "      <td>hpv</td>\n",
       "      <td>0.000021</td>\n",
       "      <td>0.000244</td>\n",
       "      <td>5.348350e-01</td>\n",
       "      <td>2.528250e-05</td>\n",
       "      <td>7.599710e-06</td>\n",
       "      <td>0.000062</td>\n",
       "      <td>6.075810e-06</td>\n",
       "      <td>1.809800e-08</td>\n",
       "      <td>7.034950e-06</td>\n",
       "      <td>4.647920e-01</td>\n",
       "      <td>7.421230e-07</td>\n",
       "    </tr>\n",
       "    <tr>\n",
       "      <th>2</th>\n",
       "      <td>rt : are you another gardasil pusherman ?</td>\n",
       "      <td>gardasil</td>\n",
       "      <td>0.000124</td>\n",
       "      <td>0.000863</td>\n",
       "      <td>9.986260e-01</td>\n",
       "      <td>5.476730e-05</td>\n",
       "      <td>3.448030e-05</td>\n",
       "      <td>0.000057</td>\n",
       "      <td>3.026150e-05</td>\n",
       "      <td>3.472100e-06</td>\n",
       "      <td>2.307380e-05</td>\n",
       "      <td>1.556260e-04</td>\n",
       "      <td>2.886010e-05</td>\n",
       "    </tr>\n",
       "    <tr>\n",
       "      <th>3</th>\n",
       "      <td>hpv vaccination rates highest among hispanic g...</td>\n",
       "      <td>vax, vaccin</td>\n",
       "      <td>0.000151</td>\n",
       "      <td>0.576814</td>\n",
       "      <td>1.727790e-04</td>\n",
       "      <td>1.593560e-04</td>\n",
       "      <td>2.323190e-05</td>\n",
       "      <td>0.422348</td>\n",
       "      <td>4.732910e-05</td>\n",
       "      <td>4.744580e-05</td>\n",
       "      <td>2.285810e-04</td>\n",
       "      <td>1.357940e-06</td>\n",
       "      <td>6.817710e-06</td>\n",
       "    </tr>\n",
       "    <tr>\n",
       "      <th>4</th>\n",
       "      <td>rt : online : integrated genomic and molecular...</td>\n",
       "      <td>cervicalcanc</td>\n",
       "      <td>0.000022</td>\n",
       "      <td>0.000391</td>\n",
       "      <td>9.919180e-06</td>\n",
       "      <td>2.330830e-05</td>\n",
       "      <td>3.723770e-05</td>\n",
       "      <td>0.000001</td>\n",
       "      <td>9.993910e-01</td>\n",
       "      <td>1.153040e-04</td>\n",
       "      <td>9.099290e-07</td>\n",
       "      <td>2.238840e-06</td>\n",
       "      <td>4.609420e-06</td>\n",
       "    </tr>\n",
       "  </tbody>\n",
       "</table>\n",
       "</div>"
      ],
      "text/plain": [
       "                                          tweet_text    true_label    health  \\\n",
       "0  vaccine cuts teen girls ' hpv rates by two-thi...        health  0.997747   \n",
       "1  rt : . vaxxed update ! gardasil tragedy , lead...           hpv  0.000021   \n",
       "2          rt : are you another gardasil pusherman ?      gardasil  0.000124   \n",
       "3  hpv vaccination rates highest among hispanic g...   vax, vaccin  0.000151   \n",
       "4  rt : online : integrated genomic and molecular...  cervicalcanc  0.000022   \n",
       "\n",
       "        vax      gardasil     hpvvaccin        cancer    vaccin  cervicalcanc  \\\n",
       "0  0.001123  6.564490e-07  2.698930e-07  3.316900e-07  0.001125  6.192670e-07   \n",
       "1  0.000244  5.348350e-01  2.528250e-05  7.599710e-06  0.000062  6.075810e-06   \n",
       "2  0.000863  9.986260e-01  5.476730e-05  3.448030e-05  0.000057  3.026150e-05   \n",
       "3  0.576814  1.727790e-04  1.593560e-04  2.323190e-05  0.422348  4.732910e-05   \n",
       "4  0.000391  9.919180e-06  2.330830e-05  3.723770e-05  0.000001  9.993910e-01   \n",
       "\n",
       "          studi  learntherisk           hpv  vaccineswork  \n",
       "0  1.152250e-06  4.404900e-07  8.083010e-07  1.055320e-07  \n",
       "1  1.809800e-08  7.034950e-06  4.647920e-01  7.421230e-07  \n",
       "2  3.472100e-06  2.307380e-05  1.556260e-04  2.886010e-05  \n",
       "3  4.744580e-05  2.285810e-04  1.357940e-06  6.817710e-06  \n",
       "4  1.153040e-04  9.099290e-07  2.238840e-06  4.609420e-06  "
      ]
     },
     "execution_count": 3,
     "metadata": {},
     "output_type": "execute_result"
    }
   ],
   "source": [
    "file = \"predict_results_1biLSTM\"\n",
    "df = pd.read_csv(\"predict_res/\"+file+\".csv\")\n",
    "df.head(5)"
   ]
  },
  {
   "cell_type": "code",
   "execution_count": 4,
   "metadata": {},
   "outputs": [
    {
     "data": {
      "text/html": [
       "<div>\n",
       "<style scoped>\n",
       "    .dataframe tbody tr th:only-of-type {\n",
       "        vertical-align: middle;\n",
       "    }\n",
       "\n",
       "    .dataframe tbody tr th {\n",
       "        vertical-align: top;\n",
       "    }\n",
       "\n",
       "    .dataframe thead th {\n",
       "        text-align: right;\n",
       "    }\n",
       "</style>\n",
       "<table border=\"1\" class=\"dataframe\">\n",
       "  <thead>\n",
       "    <tr style=\"text-align: right;\">\n",
       "      <th></th>\n",
       "      <th>tweet_text</th>\n",
       "      <th>true_label</th>\n",
       "      <th>health</th>\n",
       "      <th>vax</th>\n",
       "      <th>gardasil</th>\n",
       "      <th>hpvvaccin</th>\n",
       "      <th>cancer</th>\n",
       "      <th>vaccin</th>\n",
       "      <th>cervicalcanc</th>\n",
       "      <th>studi</th>\n",
       "      <th>learntherisk</th>\n",
       "      <th>hpv</th>\n",
       "      <th>vaccineswork</th>\n",
       "      <th>p</th>\n",
       "    </tr>\n",
       "  </thead>\n",
       "  <tbody>\n",
       "    <tr>\n",
       "      <th>0</th>\n",
       "      <td>vaccine cuts teen girls ' hpv rates by two-thi...</td>\n",
       "      <td>health</td>\n",
       "      <td>0.997747</td>\n",
       "      <td>0.001123</td>\n",
       "      <td>6.564490e-07</td>\n",
       "      <td>2.698930e-07</td>\n",
       "      <td>3.316900e-07</td>\n",
       "      <td>0.001125</td>\n",
       "      <td>6.192670e-07</td>\n",
       "      <td>1.152250e-06</td>\n",
       "      <td>4.404900e-07</td>\n",
       "      <td>8.083010e-07</td>\n",
       "      <td>1.055320e-07</td>\n",
       "      <td>[0.9977469999999999, 0.00112323, 6.56449000000...</td>\n",
       "    </tr>\n",
       "    <tr>\n",
       "      <th>1</th>\n",
       "      <td>rt : . vaxxed update ! gardasil tragedy , lead...</td>\n",
       "      <td>hpv</td>\n",
       "      <td>0.000021</td>\n",
       "      <td>0.000244</td>\n",
       "      <td>5.348350e-01</td>\n",
       "      <td>2.528250e-05</td>\n",
       "      <td>7.599710e-06</td>\n",
       "      <td>0.000062</td>\n",
       "      <td>6.075810e-06</td>\n",
       "      <td>1.809800e-08</td>\n",
       "      <td>7.034950e-06</td>\n",
       "      <td>4.647920e-01</td>\n",
       "      <td>7.421230e-07</td>\n",
       "      <td>[2.05549e-05, 0.000243562, 0.5348350000000001,...</td>\n",
       "    </tr>\n",
       "    <tr>\n",
       "      <th>2</th>\n",
       "      <td>rt : are you another gardasil pusherman ?</td>\n",
       "      <td>gardasil</td>\n",
       "      <td>0.000124</td>\n",
       "      <td>0.000863</td>\n",
       "      <td>9.986260e-01</td>\n",
       "      <td>5.476730e-05</td>\n",
       "      <td>3.448030e-05</td>\n",
       "      <td>0.000057</td>\n",
       "      <td>3.026150e-05</td>\n",
       "      <td>3.472100e-06</td>\n",
       "      <td>2.307380e-05</td>\n",
       "      <td>1.556260e-04</td>\n",
       "      <td>2.886010e-05</td>\n",
       "      <td>[0.00012371799999999998, 0.0008626560000000001...</td>\n",
       "    </tr>\n",
       "    <tr>\n",
       "      <th>3</th>\n",
       "      <td>hpv vaccination rates highest among hispanic g...</td>\n",
       "      <td>vax, vaccin</td>\n",
       "      <td>0.000151</td>\n",
       "      <td>0.576814</td>\n",
       "      <td>1.727790e-04</td>\n",
       "      <td>1.593560e-04</td>\n",
       "      <td>2.323190e-05</td>\n",
       "      <td>0.422348</td>\n",
       "      <td>4.732910e-05</td>\n",
       "      <td>4.744580e-05</td>\n",
       "      <td>2.285810e-04</td>\n",
       "      <td>1.357940e-06</td>\n",
       "      <td>6.817710e-06</td>\n",
       "      <td>[0.000150698, 0.576814, 0.00017277900000000002...</td>\n",
       "    </tr>\n",
       "    <tr>\n",
       "      <th>4</th>\n",
       "      <td>rt : online : integrated genomic and molecular...</td>\n",
       "      <td>cervicalcanc</td>\n",
       "      <td>0.000022</td>\n",
       "      <td>0.000391</td>\n",
       "      <td>9.919180e-06</td>\n",
       "      <td>2.330830e-05</td>\n",
       "      <td>3.723770e-05</td>\n",
       "      <td>0.000001</td>\n",
       "      <td>9.993910e-01</td>\n",
       "      <td>1.153040e-04</td>\n",
       "      <td>9.099290e-07</td>\n",
       "      <td>2.238840e-06</td>\n",
       "      <td>4.609420e-06</td>\n",
       "      <td>[2.24698e-05, 0.00039149800000000005, 9.91918e...</td>\n",
       "    </tr>\n",
       "  </tbody>\n",
       "</table>\n",
       "</div>"
      ],
      "text/plain": [
       "                                          tweet_text    true_label    health  \\\n",
       "0  vaccine cuts teen girls ' hpv rates by two-thi...        health  0.997747   \n",
       "1  rt : . vaxxed update ! gardasil tragedy , lead...           hpv  0.000021   \n",
       "2          rt : are you another gardasil pusherman ?      gardasil  0.000124   \n",
       "3  hpv vaccination rates highest among hispanic g...   vax, vaccin  0.000151   \n",
       "4  rt : online : integrated genomic and molecular...  cervicalcanc  0.000022   \n",
       "\n",
       "        vax      gardasil     hpvvaccin        cancer    vaccin  cervicalcanc  \\\n",
       "0  0.001123  6.564490e-07  2.698930e-07  3.316900e-07  0.001125  6.192670e-07   \n",
       "1  0.000244  5.348350e-01  2.528250e-05  7.599710e-06  0.000062  6.075810e-06   \n",
       "2  0.000863  9.986260e-01  5.476730e-05  3.448030e-05  0.000057  3.026150e-05   \n",
       "3  0.576814  1.727790e-04  1.593560e-04  2.323190e-05  0.422348  4.732910e-05   \n",
       "4  0.000391  9.919180e-06  2.330830e-05  3.723770e-05  0.000001  9.993910e-01   \n",
       "\n",
       "          studi  learntherisk           hpv  vaccineswork  \\\n",
       "0  1.152250e-06  4.404900e-07  8.083010e-07  1.055320e-07   \n",
       "1  1.809800e-08  7.034950e-06  4.647920e-01  7.421230e-07   \n",
       "2  3.472100e-06  2.307380e-05  1.556260e-04  2.886010e-05   \n",
       "3  4.744580e-05  2.285810e-04  1.357940e-06  6.817710e-06   \n",
       "4  1.153040e-04  9.099290e-07  2.238840e-06  4.609420e-06   \n",
       "\n",
       "                                                   p  \n",
       "0  [0.9977469999999999, 0.00112323, 6.56449000000...  \n",
       "1  [2.05549e-05, 0.000243562, 0.5348350000000001,...  \n",
       "2  [0.00012371799999999998, 0.0008626560000000001...  \n",
       "3  [0.000150698, 0.576814, 0.00017277900000000002...  \n",
       "4  [2.24698e-05, 0.00039149800000000005, 9.91918e...  "
      ]
     },
     "execution_count": 4,
     "metadata": {},
     "output_type": "execute_result"
    }
   ],
   "source": [
    "#add a columen with a list of combining all the probabilities\n",
    "fields = list(df)[2:]\n",
    "l = []\n",
    "for i, row in df.iterrows():\n",
    "    l.append(list(row[h] for h in fields))\n",
    "df['p'] = pd.Series(l).values\n",
    "df.head(5)"
   ]
  },
  {
   "cell_type": "code",
   "execution_count": 5,
   "metadata": {},
   "outputs": [
    {
     "data": {
      "text/plain": [
       "array([list([0.9977469999999999, 0.00112323, 6.564490000000001e-07, 2.69893e-07, 3.3169000000000003e-07, 0.00112508, 6.19267e-07, 1.1522499999999999e-06, 4.4049e-07, 8.08301e-07, 1.0553200000000001e-07]),\n",
       "       list([2.05549e-05, 0.000243562, 0.5348350000000001, 2.52825e-05, 7.59971e-06, 6.17787e-05, 6.07581e-06, 1.8098e-08, 7.03495e-06, 0.464792, 7.42123e-07]),\n",
       "       list([0.00012371799999999998, 0.0008626560000000001, 0.998626, 5.476729999999999e-05, 3.44803e-05, 5.70348e-05, 3.02615e-05, 3.4720999999999998e-06, 2.3073800000000003e-05, 0.000155626, 2.8860100000000002e-05]),\n",
       "       list([0.000150698, 0.576814, 0.00017277900000000002, 0.000159356, 2.32319e-05, 0.42234799999999995, 4.73291e-05, 4.74458e-05, 0.00022858099999999997, 1.3579399999999998e-06, 6.817710000000001e-06]),\n",
       "       list([2.24698e-05, 0.00039149800000000005, 9.91918e-06, 2.33083e-05, 3.72377e-05, 1.4365100000000002e-06, 0.999391, 0.00011530399999999999, 9.09929e-07, 2.2388400000000003e-06, 4.609419999999999e-06])],\n",
       "      dtype=object)"
      ]
     },
     "execution_count": 5,
     "metadata": {},
     "output_type": "execute_result"
    }
   ],
   "source": [
    "probs = np.array(df['p'])\n",
    "probs[:5]"
   ]
  },
  {
   "cell_type": "code",
   "execution_count": 6,
   "metadata": {
    "collapsed": true
   },
   "outputs": [],
   "source": [
    "#separate data into groups\n",
    "def get_groups(data, num_gp):\n",
    "    groups = {k: [] for k in range(num_gp)}\n",
    "    for each in data:\n",
    "        fmax = -1\n",
    "        tag = -1\n",
    "        for i, prob in enumerate(each):\n",
    "            if prob > fmax:\n",
    "                tag = i\n",
    "                fmax = prob\n",
    "        groups[tag].append(each)\n",
    "    return groups\n",
    "\n",
    "gps = get_groups(probs, 11)        "
   ]
  },
  {
   "cell_type": "code",
   "execution_count": 7,
   "metadata": {},
   "outputs": [
    {
     "name": "stdout",
     "output_type": "stream",
     "text": [
      "Group 0: health\n",
      "Total elements: 96\n",
      "Group 1: vax\n",
      "Total elements: 1418\n",
      "Group 2: gardasil\n",
      "Total elements: 301\n",
      "Group 3: hpvvaccin\n",
      "Total elements: 58\n",
      "Group 4: cancer\n",
      "Total elements: 88\n",
      "Group 5: vaccin\n",
      "Total elements: 374\n",
      "Group 6: cervicalcanc\n",
      "Total elements: 275\n",
      "Group 7: studi\n",
      "Total elements: 1\n",
      "Group 8: learntherisk\n",
      "Total elements: 488\n",
      "Group 9: hpv\n",
      "Total elements: 57\n",
      "Group 10: vaccineswork\n",
      "Total elements: 86\n"
     ]
    }
   ],
   "source": [
    "#clusters basic information\n",
    "for k, v in gps.items():\n",
    "    print(\"Group {}: {}\".format(k, idx2ht[k]))\n",
    "    print(\"Total elements: {}\".format(len(v)))"
   ]
  },
  {
   "cell_type": "code",
   "execution_count": 8,
   "metadata": {
    "collapsed": true
   },
   "outputs": [],
   "source": [
    "from scipy import stats\n",
    "def dis(di, dj):\n",
    "    di = np.asarray(di, dtype = np.float)\n",
    "    dj = np.asarray(dj, dtype = np.float)\n",
    "    m = 0.5 * (di + dj)\n",
    "    k_l_l = stats.entropy(di, m)\n",
    "    k_l_r = stats.entropy(dj, m)  # k_l_1 = np.sum(np.where(di != 0, di * np.log(di / dj), 0))\n",
    "    dis = 0.5 * (k_l_l + k_l_r)\n",
    "    return dis"
   ]
  },
  {
   "cell_type": "code",
   "execution_count": 22,
   "metadata": {},
   "outputs": [
    {
     "data": {
      "text/plain": [
       "29382.837931627433"
      ]
     },
     "execution_count": 22,
     "metadata": {},
     "output_type": "execute_result"
    }
   ],
   "source": [
    "#intra distance\n",
    "cluster_num = 11\n",
    "total_intra = 0\n",
    "for i in range(cluster_num):\n",
    "    cluster_sum = 0\n",
    "    current_cluster = gps[i]\n",
    "    element_num = len(current_cluster)\n",
    "    for i in range(element_num):\n",
    "        for j in range(i+1, element_num):\n",
    "            cluster_sum += (2*dis(current_cluster[i], current_cluster[j]) / element_num * (element_num - 1))\n",
    "    total_intra += (1/cluster_num)*cluster_sum\n",
    "\n",
    "total_intra"
   ]
  },
  {
   "cell_type": "code",
   "execution_count": 20,
   "metadata": {},
   "outputs": [
    {
     "data": {
      "text/plain": [
       "126372.58930412814"
      ]
     },
     "execution_count": 20,
     "metadata": {},
     "output_type": "execute_result"
    }
   ],
   "source": [
    "#inter distance\n",
    "cluster_num = 11\n",
    "total_inter = 0\n",
    "\n",
    "for k1 in range(cluster_num):\n",
    "    cluster_sum = 0\n",
    "    for k2 in range(cluster_num):\n",
    "        if k1 != k2:\n",
    "            current_cluster1 = gps[k1]\n",
    "            current_cluster2 = gps[k2]\n",
    "            for i in range(len(current_cluster1)):\n",
    "                for j in range(len(current_cluster2)):\n",
    "                    cluster_sum += (dis(current_cluster1[i], current_cluster2[j]) / len(current_cluster1) * len(current_cluster2))\n",
    "    total_inter += (1/(cluster_num*(cluster_num - 1))) * cluster_sum\n",
    "\n",
    "total_inter"
   ]
  },
  {
   "cell_type": "code",
   "execution_count": 21,
   "metadata": {},
   "outputs": [
    {
     "data": {
      "text/plain": [
       "0.23250958212872197"
      ]
     },
     "execution_count": 21,
     "metadata": {},
     "output_type": "execute_result"
    }
   ],
   "source": [
    "#H score\n",
    "H = total_intra / total_inter\n",
    "\n",
    "H"
   ]
  },
  {
   "cell_type": "code",
   "execution_count": 9,
   "metadata": {
    "collapsed": true
   },
   "outputs": [],
   "source": [
    "#on large data set\n",
    "file = \"predict_results_on_no_label_sample1biLSTM\"\n",
    "df1 = pd.read_csv(\"predict_res/\"+file+\".csv\")\n",
    "file = \"predict_results_1biLSTM\"\n",
    "df = pd.read_csv(\"predict_res/\"+file+\".csv\")\n",
    "df2 = pd.concat([df, df1])\n",
    "\n",
    "fields = list(df2)[2:]\n",
    "l = []\n",
    "\n",
    "for i, row in df2.iterrows():\n",
    "    l.append(list(row[h] for h in fields))\n",
    "df2['p'] = pd.Series(l).values\n",
    "\n",
    "probs = np.array(df2['p'])\n",
    "gps = get_groups(probs, 11)  "
   ]
  },
  {
   "cell_type": "code",
   "execution_count": 10,
   "metadata": {},
   "outputs": [
    {
     "name": "stdout",
     "output_type": "stream",
     "text": [
      "Group 0: health\n",
      "Total elements: 1890\n",
      "Group 1: vax\n",
      "Total elements: 87624\n",
      "Group 2: gardasil\n",
      "Total elements: 14226\n",
      "Group 3: hpvvaccin\n",
      "Total elements: 61\n",
      "Group 4: cancer\n",
      "Total elements: 249\n",
      "Group 5: vaccin\n",
      "Total elements: 13228\n",
      "Group 6: cervicalcanc\n",
      "Total elements: 40215\n",
      "Group 7: studi\n",
      "Total elements: 206\n",
      "Group 8: learntherisk\n",
      "Total elements: 1613\n",
      "Group 9: hpv\n",
      "Total elements: 200\n",
      "Group 10: vaccineswork\n",
      "Total elements: 98\n"
     ]
    }
   ],
   "source": [
    "for k, v in gps.items():\n",
    "    print(\"Group {}: {}\".format(k, idx2ht[k]))\n",
    "    print(\"Total elements: {}\".format(len(v)))"
   ]
  },
  {
   "cell_type": "code",
   "execution_count": 11,
   "metadata": {},
   "outputs": [
    {
     "name": "stdout",
     "output_type": "stream",
     "text": [
      "Group 0: health\n",
      "Total elements: 200\n",
      "Group 1: vax\n",
      "Total elements: 200\n",
      "Group 2: gardasil\n",
      "Total elements: 200\n",
      "Group 3: hpvvaccin\n",
      "Total elements: 61\n",
      "Group 4: cancer\n",
      "Total elements: 200\n",
      "Group 5: vaccin\n",
      "Total elements: 200\n",
      "Group 6: cervicalcanc\n",
      "Total elements: 200\n",
      "Group 7: studi\n",
      "Total elements: 200\n",
      "Group 8: learntherisk\n",
      "Total elements: 200\n",
      "Group 9: hpv\n",
      "Total elements: 200\n",
      "Group 10: vaccineswork\n",
      "Total elements: 98\n"
     ]
    }
   ],
   "source": [
    "# random select 200 from each group\n",
    "new_gps = dict()\n",
    "for k, v in gps.items():\n",
    "    np.random.shuffle(v)\n",
    "    new_gps[k] = v[:200]\n",
    "\n",
    "for k, v in new_gps.items():\n",
    "    print(\"Group {}: {}\".format(k, idx2ht[k]))\n",
    "    print(\"Total elements: {}\".format(len(v)))"
   ]
  },
  {
   "cell_type": "code",
   "execution_count": null,
   "metadata": {},
   "outputs": [],
   "source": [
    "%%time\n",
    "cluster_num = 11\n",
    "total_inter = 0\n",
    "total_intra = 0\n",
    "\n",
    "for i in range(cluster_num):\n",
    "    cluster_sum = 0\n",
    "    current_cluster = gps[i]\n",
    "    element_num = len(current_cluster)\n",
    "    for i in range(element_num):\n",
    "        for j in range(i+1, element_num):\n",
    "            cluster_sum += (2*dis(current_cluster[i], current_cluster[j]) / element_num * (element_num - 1))\n",
    "    total_intra += (1/cluster_num)*cluster_sum\n",
    "\n",
    "for k1 in range(cluster_num):\n",
    "    cluster_sum = 0\n",
    "    for k2 in range(cluster_num):\n",
    "        if k1 != k2:\n",
    "            current_cluster1 = gps[k1]\n",
    "            current_cluster2 = gps[k2]\n",
    "            for i in range(len(current_cluster1)):\n",
    "                for j in range(len(current_cluster2)):\n",
    "                    cluster_sum += (dis(current_cluster1[i], current_cluster2[j]) / len(current_cluster1) * len(current_cluster2))\n",
    "    total_inter += (1/(cluster_num*(cluster_num - 1))) * cluster_sum\n",
    "\n",
    "H = total_intra / total_inter\n",
    "H"
   ]
  }
 ],
 "metadata": {
  "kernelspec": {
   "display_name": "Python 3",
   "language": "python",
   "name": "python3"
  },
  "language_info": {
   "codemirror_mode": {
    "name": "ipython",
    "version": 3
   },
   "file_extension": ".py",
   "mimetype": "text/x-python",
   "name": "python",
   "nbconvert_exporter": "python",
   "pygments_lexer": "ipython3",
   "version": "3.6.3"
  },
  "toc": {
   "nav_menu": {},
   "number_sections": true,
   "sideBar": true,
   "skip_h1_title": false,
   "toc_cell": false,
   "toc_position": {},
   "toc_section_display": "block",
   "toc_window_display": false
  }
 },
 "nbformat": 4,
 "nbformat_minor": 2
}
