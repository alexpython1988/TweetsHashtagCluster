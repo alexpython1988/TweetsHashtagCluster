{
 "cells": [
  {
   "cell_type": "code",
   "execution_count": 1,
   "metadata": {},
   "outputs": [],
   "source": [
    "import builtins\n",
    "from IPython.lib import deepreload\n",
    "builtins.reload = deepreload.reload\n",
    "import json\n",
    "\n",
    "%load_ext autoreload\n",
    "%autoreload 2"
   ]
  },
  {
   "cell_type": "code",
   "execution_count": 2,
   "metadata": {},
   "outputs": [
    {
     "name": "stdout",
     "output_type": "stream",
     "text": [
      "['id', 'text', 'clean_text', 'place', 'user_location', 'us_state', 'created_at', 'username', 'user_id', 'class', 'is_quote_status']\n"
     ]
    },
    {
     "data": {
      "text/plain": [
       "[{'hashtags': [],\n",
       "  'id': '418175306319421440',\n",
       "  'orignal_hashtags': [],\n",
       "  'raw': 'over half a million gardasil vaccines recalled due to glass particle contamination - http://t.co/knuerlgxnl',\n",
       "  'text': 'over half a million gardasil vaccines recalled due to glass particle contamination -'},\n",
       " {'hashtags': [],\n",
       "  'id': '418188525217923072',\n",
       "  'orignal_hashtags': [],\n",
       "  'raw': 'oh, and the hpv vaccine will make you sterile. promise.',\n",
       "  'text': 'oh, and the hpv vaccine will make you sterile. promise.'},\n",
       " {'hashtags': ['hpv', 'vaccin'],\n",
       "  'id': '418263863772327936',\n",
       "  'orignal_hashtags': ['#hpv', '#vaccine'],\n",
       "  'raw': 'rt @cdcstd: #hpv vax coverage could be 93% if doctors gave hpv #vaccine each time a preteen/teen got any other vaccine&gt; http://t.co/xxryga5…',\n",
       "  'text': 'rt : hpv vax coverage could be 93% if doctors gave hpv vaccine each time a preteen / teen got any other vaccine>'},\n",
       " {'hashtags': ['hpv', 'vaccin'],\n",
       "  'id': '418194978310209536',\n",
       "  'orignal_hashtags': ['#hpv', '#vaccine'],\n",
       "  'raw': 'rt @cdcstd: #hpv vax coverage could be 93% if doctors gave hpv #vaccine each time a preteen/teen got any other vaccine....',\n",
       "  'text': 'rt : hpv vax coverage could be 93% if doctors gave hpv vaccine each time a preteen / teen got any other vaccine....'},\n",
       " {'hashtags': ['hpv', 'vaccin'],\n",
       "  'id': '418216659690991616',\n",
       "  'orignal_hashtags': ['#hpv', '#vaccine'],\n",
       "  'raw': 'rt @cdcstd: #hpv vax coverage could be 93% if doctors gave hpv #vaccine each time a preteen/teen got any other vaccine&lt; http://t.co/xxryga5…',\n",
       "  'text': 'rt : hpv vax coverage could be 93% if doctors gave hpv vaccine each time a preteen / teen got any other vaccine<'},\n",
       " {'hashtags': ['hpv', 'vaccin'],\n",
       "  'id': '418266707271368704',\n",
       "  'orignal_hashtags': ['#hpv', '#vaccine'],\n",
       "  'raw': 'rt @cdcstd: #hpv vax coverage could be 93% if doctors gave hpv #vaccine each time a preteen/teen got any other vaccine&gt; http://t.co/xxryga5…',\n",
       "  'text': 'rt : hpv vax coverage could be 93% if doctors gave hpv vaccine each time a preteen / teen got any other vaccine>'},\n",
       " {'hashtags': [],\n",
       "  'id': '418206348958896130',\n",
       "  'orignal_hashtags': [],\n",
       "  'raw': 'rt @realalexjones: merck recalls over half a million gardasil vaccines due to glass particle contamination http://t.co/fga00mtjps http://t.…',\n",
       "  'text': 'rt : merck recalls over half a million gardasil vaccines due to glass particle contamination'},\n",
       " {'hashtags': [],\n",
       "  'id': '418229886952542208',\n",
       "  'orignal_hashtags': [],\n",
       "  'raw': 'rt @endtimeheadline: over half a million gardasil vaccines recalled due to glass particle contamination http://t.co/fvlf9a0i3t',\n",
       "  'text': 'rt : over half a million gardasil vaccines recalled due to glass particle contamination'},\n",
       " {'hashtags': [],\n",
       "  'id': '418177336966930432',\n",
       "  'orignal_hashtags': [],\n",
       "  'raw': 'sanofi sued in france over gardasil vaccine – could this be the beginning of the end for gardasil? http://t.co/hqqfggjdsw',\n",
       "  'text': 'sanofi sued in france over gardasil vaccine  could this be the beginning of the end for gardasil?'},\n",
       " {'hashtags': ['sanofi', 'franc', 'gardasil', 'vaccin'],\n",
       "  'id': '418186356775321600',\n",
       "  'orignal_hashtags': ['#sanofi', '#france', '#gardasil', '#vaccine'],\n",
       "  'raw': 'rt @drbloem: rt @nvicloedown #sanofi sued in #france over #gardasil #vaccine –could this be the beginning of the end for gardasil? http://t…',\n",
       "  'text': 'rt : rt  sanofi sued in france over gardasil vaccine could this be the beginning of the end for gardasil?'}]"
      ]
     },
     "execution_count": 2,
     "metadata": {},
     "output_type": "execute_result"
    }
   ],
   "source": [
    "#group clean text, id and hashtags from tweets\n",
    "from tweeta.text import extract_hashtags\n",
    "from nltk.stem import PorterStemmer\n",
    "import csv\n",
    "\n",
    "grouped_data = []\n",
    "\n",
    "ps = PorterStemmer()\n",
    "\n",
    "with open(\"data/classified_hpv.csv\", \"r\", encoding=\"utf-8\") as f:\n",
    "    reader = csv.DictReader(f)\n",
    "    print(reader.fieldnames)\n",
    "    for each in reader:\n",
    "        d = dict()\n",
    "        d['id'] = str(each['id'])\n",
    "        d['text'] = each['clean_text'].lower()\n",
    "        d['raw'] = each['text'].lower()\n",
    "        d['orignal_hashtags'] = extract_hashtags(each[\"text\"].lower())\n",
    "        d['hashtags'] = [\n",
    "            ps.stem(ht[1:]) for ht in extract_hashtags(each[\"text\"].lower())\n",
    "        ]\n",
    "        grouped_data.append(d)\n",
    "\n",
    "grouped_data[:10]"
   ]
  },
  {
   "cell_type": "code",
   "execution_count": 4,
   "metadata": {},
   "outputs": [
    {
     "name": "stdout",
     "output_type": "stream",
     "text": [
      "total number of distinct hashtags: 12644\n",
      "total number of tweets: 271533\n",
      "total number of tweets with hashtags: 115165\n",
      "['hpv', 'vaccin', 'gardasil', 'ffrnn', 'wakingup']\n",
      "after filtered the results with cut-off=100, the left number of hashtags is 200\n",
      "top 20 hashtags: \n"
     ]
    },
    {
     "data": {
      "text/plain": [
       "[('hpv', 52454),\n",
       " ('vaccin', 20715),\n",
       " ('gardasil', 14558),\n",
       " ('cervicalcanc', 13457),\n",
       " ('cancer', 12978),\n",
       " ('learntherisk', 3738),\n",
       " ('health', 2939),\n",
       " ('hpvvaccin', 2724),\n",
       " ('studi', 2458),\n",
       " ('vax', 2368),\n",
       " ('vaccineswork', 2196),\n",
       " ('cervicalhealthmonth', 1797),\n",
       " ('vaccineinjuri', 1760),\n",
       " ('pathogenposs', 1389),\n",
       " ('endcanc', 1309),\n",
       " ('gyncsm', 1285),\n",
       " ('cdcwhistleblow', 1187),\n",
       " ('clinician', 1009),\n",
       " ('cervic', 941),\n",
       " ('women', 879)]"
      ]
     },
     "execution_count": 4,
     "metadata": {},
     "output_type": "execute_result"
    }
   ],
   "source": [
    "#count how many distinct hashtags in the data\n",
    "import collections\n",
    "import operator\n",
    "\n",
    "help = []\n",
    "\n",
    "for each_group in grouped_data:\n",
    "    help.extend(each_group['hashtags'])\n",
    "\n",
    "counter = collections.Counter(help)\n",
    "print(\"total number of distinct hashtags: {}\".format(len(counter)))\n",
    "print(\"total number of tweets: {}\".format(len(grouped_data)))\n",
    "\n",
    "ene = 0\n",
    "for each_group in grouped_data:\n",
    "    ene += sum([1 if each_group['hashtags'] else 0])\n",
    "print(\"total number of tweets with hashtags: {}\".format(ene))\n",
    "\n",
    "cut_off = 100\n",
    "filtered_res = []\n",
    "for k, v in counter.items():\n",
    "    if v >= cut_off:\n",
    "        filtered_res.append(k)\n",
    "\n",
    "print(filtered_res[:5])\n",
    "print(\n",
    "    \"after filtered the results with cut-off={}, the left number of hashtags is {}\".\n",
    "    format(cut_off, len(filtered_res)))\n",
    "\n",
    "sorted_hashtags_freq = sorted(\n",
    "    counter.items(), key=operator.itemgetter(1), reverse=True)\n",
    "print(\"top 20 hashtags: \")\n",
    "sorted_hashtags_freq[:20]"
   ]
  },
  {
   "cell_type": "code",
   "execution_count": 5,
   "metadata": {},
   "outputs": [
    {
     "data": {
      "text/plain": [
       "{'cancer',\n",
       " 'cervicalcanc',\n",
       " 'gardasil',\n",
       " 'health',\n",
       " 'hpv',\n",
       " 'hpvvaccin',\n",
       " 'learntherisk',\n",
       " 'studi',\n",
       " 'vaccin',\n",
       " 'vaccineswork',\n",
       " 'vax'}"
      ]
     },
     "execution_count": 5,
     "metadata": {},
     "output_type": "execute_result"
    }
   ],
   "source": [
    "#obtain a set of hashtags with freq larger than 1000\n",
    "top_hashtags = set()\n",
    "for each in sorted_hashtags_freq:\n",
    "    if each[1] > 2000:\n",
    "        top_hashtags.add(each[0])\n",
    "top_hashtags"
   ]
  },
  {
   "cell_type": "code",
   "execution_count": 6,
   "metadata": {},
   "outputs": [
    {
     "name": "stdout",
     "output_type": "stream",
     "text": [
      "271533\n"
     ]
    },
    {
     "data": {
      "text/plain": [
       "[{'hashtags': [],\n",
       "  'id': '418175306319421440',\n",
       "  'orignal_hashtags': [],\n",
       "  'raw': 'over half a million gardasil vaccines recalled due to glass particle contamination - http://t.co/knuerlgxnl',\n",
       "  'text': 'over half a million gardasil vaccines recalled due to glass particle contamination -',\n",
       "  'words': ['over',\n",
       "   'half',\n",
       "   'a',\n",
       "   'million',\n",
       "   'gardasil',\n",
       "   'vaccines',\n",
       "   'recalled',\n",
       "   'due',\n",
       "   'to',\n",
       "   'glass',\n",
       "   'particle',\n",
       "   'contamination',\n",
       "   '-']},\n",
       " {'hashtags': [],\n",
       "  'id': '418188525217923072',\n",
       "  'orignal_hashtags': [],\n",
       "  'raw': 'oh, and the hpv vaccine will make you sterile. promise.',\n",
       "  'text': 'oh, and the hpv vaccine will make you sterile. promise.',\n",
       "  'words': ['oh',\n",
       "   ',',\n",
       "   'and',\n",
       "   'the',\n",
       "   'hpv',\n",
       "   'vaccine',\n",
       "   'will',\n",
       "   'make',\n",
       "   'you',\n",
       "   'sterile',\n",
       "   '.',\n",
       "   'promise',\n",
       "   '.']},\n",
       " {'hashtags': ['hpv', 'vaccin'],\n",
       "  'id': '418263863772327936',\n",
       "  'orignal_hashtags': ['#hpv', '#vaccine'],\n",
       "  'raw': 'rt @cdcstd: #hpv vax coverage could be 93% if doctors gave hpv #vaccine each time a preteen/teen got any other vaccine&gt; http://t.co/xxryga5…',\n",
       "  'text': 'rt : hpv vax coverage could be 93% if doctors gave hpv vaccine each time a preteen / teen got any other vaccine>',\n",
       "  'words': ['rt',\n",
       "   ':',\n",
       "   'hpv',\n",
       "   'vax',\n",
       "   'coverage',\n",
       "   'could',\n",
       "   'be',\n",
       "   '93',\n",
       "   '%',\n",
       "   'if',\n",
       "   'doctors',\n",
       "   'gave',\n",
       "   'hpv',\n",
       "   'vaccine',\n",
       "   'each',\n",
       "   'time',\n",
       "   'a',\n",
       "   'preteen',\n",
       "   '/',\n",
       "   'teen',\n",
       "   'got',\n",
       "   'any',\n",
       "   'other',\n",
       "   'vaccine',\n",
       "   '>']},\n",
       " {'hashtags': ['hpv', 'vaccin'],\n",
       "  'id': '418194978310209536',\n",
       "  'orignal_hashtags': ['#hpv', '#vaccine'],\n",
       "  'raw': 'rt @cdcstd: #hpv vax coverage could be 93% if doctors gave hpv #vaccine each time a preteen/teen got any other vaccine....',\n",
       "  'text': 'rt : hpv vax coverage could be 93% if doctors gave hpv vaccine each time a preteen / teen got any other vaccine....',\n",
       "  'words': ['rt',\n",
       "   ':',\n",
       "   'hpv',\n",
       "   'vax',\n",
       "   'coverage',\n",
       "   'could',\n",
       "   'be',\n",
       "   '93',\n",
       "   '%',\n",
       "   'if',\n",
       "   'doctors',\n",
       "   'gave',\n",
       "   'hpv',\n",
       "   'vaccine',\n",
       "   'each',\n",
       "   'time',\n",
       "   'a',\n",
       "   'preteen',\n",
       "   '/',\n",
       "   'teen',\n",
       "   'got',\n",
       "   'any',\n",
       "   'other',\n",
       "   'vaccine',\n",
       "   '...',\n",
       "   '.']},\n",
       " {'hashtags': ['hpv', 'vaccin'],\n",
       "  'id': '418216659690991616',\n",
       "  'orignal_hashtags': ['#hpv', '#vaccine'],\n",
       "  'raw': 'rt @cdcstd: #hpv vax coverage could be 93% if doctors gave hpv #vaccine each time a preteen/teen got any other vaccine&lt; http://t.co/xxryga5…',\n",
       "  'text': 'rt : hpv vax coverage could be 93% if doctors gave hpv vaccine each time a preteen / teen got any other vaccine<',\n",
       "  'words': ['rt',\n",
       "   ':',\n",
       "   'hpv',\n",
       "   'vax',\n",
       "   'coverage',\n",
       "   'could',\n",
       "   'be',\n",
       "   '93',\n",
       "   '%',\n",
       "   'if',\n",
       "   'doctors',\n",
       "   'gave',\n",
       "   'hpv',\n",
       "   'vaccine',\n",
       "   'each',\n",
       "   'time',\n",
       "   'a',\n",
       "   'preteen',\n",
       "   '/',\n",
       "   'teen',\n",
       "   'got',\n",
       "   'any',\n",
       "   'other',\n",
       "   'vaccine',\n",
       "   '<']}]"
      ]
     },
     "execution_count": 6,
     "metadata": {},
     "output_type": "execute_result"
    }
   ],
   "source": [
    "#load general stop words\n",
    "from nltk.corpus import stopwords\n",
    "import string\n",
    "stopWords = set(stopwords.words('english'))\n",
    "punc = [each for each in string.punctuation] + [\"...\", \"....\"]\n",
    "\n",
    "#get word freq\n",
    "flag = 0 #use flag to control if we need to keep the stop words in the twitter\n",
    "from nltk.tokenize import word_tokenize\n",
    "for each in grouped_data:  \n",
    "    #filter off stop words and punctuation and hashtags\n",
    "    if flag == 2:\n",
    "        each['words'] = [\n",
    "            w\n",
    "            for w in\n",
    "            map(lambda word: word if word not in stopWords and word not in punc and word not in hashtag_list else \"\",\n",
    "                [word for word in word_tokenize(each['text'])]) if w\n",
    "        ]\n",
    "    #filter off hashtags and punctuation\n",
    "    elif flag == 1:\n",
    "        each['words'] = [\n",
    "            w\n",
    "            for w in\n",
    "            map(lambda word: word if word not in punc and word not in hashtag_list else \"\",\n",
    "                [word for word in word_tokenize(each['text'])]) if w\n",
    "        ]\n",
    "    #keep everyting\n",
    "    elif flag == 0:\n",
    "        each['words'] = [word for word in word_tokenize(each['text'])]\n",
    "        \n",
    "\n",
    "print(len(grouped_data))\n",
    "grouped_data[:5]\n",
    "\n",
    "#might not need to filter the stopwords\n",
    "#provide three types of data set"
   ]
  },
  {
   "cell_type": "code",
   "execution_count": 7,
   "metadata": {},
   "outputs": [
    {
     "data": {
      "text/plain": [
       "115165"
      ]
     },
     "execution_count": 7,
     "metadata": {},
     "output_type": "execute_result"
    }
   ],
   "source": [
    "#splite the data into two sets, one contains the tweets with labels, one contains tweets without labels\n",
    "tw_labeled = []\n",
    "tw_no_label = []\n",
    "\n",
    "for each in grouped_data:\n",
    "    if each['hashtags']:\n",
    "        tw_labeled.append(each)\n",
    "    else:\n",
    "        tw_no_label.append(each) \n",
    "\n",
    "len(tw_labeled)"
   ]
  },
  {
   "cell_type": "code",
   "execution_count": 92,
   "metadata": {
    "collapsed": true
   },
   "outputs": [],
   "source": [
    "#output to json respectively\n",
    "file_labeled = \"temp/labeled_tweets.csv\"\n",
    "file_noLabeled = \"temp/not_labeled_tweets.csv\"\n",
    "\n",
    "def save2csv(data, file):\n",
    "    headers = data[0].keys()\n",
    "    with open(file, \"w\", newline=\"\", encoding=\"utf-8\") as fw:\n",
    "        writer = csv.DictWriter(fw, fieldnames=headers)\n",
    "        writer.writeheader()\n",
    "        for each in data:\n",
    "            writer.writerow(each)\n",
    "            \n",
    "save2csv(tw_labeled, file_labeled)\n",
    "save2csv(tw_no_label, file_noLabeled)"
   ]
  },
  {
   "cell_type": "code",
   "execution_count": 93,
   "metadata": {},
   "outputs": [
    {
     "data": {
      "text/plain": [
       "[{'hashtags': ['hpv', 'vaccin'],\n",
       "  'id': '418263863772327936',\n",
       "  'orignal_hashtags': ['#hpv', '#vaccine'],\n",
       "  'raw': 'rt @cdcstd: #hpv vax coverage could be 93% if doctors gave hpv #vaccine each time a preteen/teen got any other vaccine&gt; http://t.co/xxryga5…',\n",
       "  'text': 'rt : hpv vax coverage could be 93% if doctors gave hpv vaccine each time a preteen / teen got any other vaccine>',\n",
       "  'words': ['rt',\n",
       "   ':',\n",
       "   'hpv',\n",
       "   'vax',\n",
       "   'coverage',\n",
       "   'could',\n",
       "   'be',\n",
       "   '93',\n",
       "   '%',\n",
       "   'if',\n",
       "   'doctors',\n",
       "   'gave',\n",
       "   'hpv',\n",
       "   'vaccine',\n",
       "   'each',\n",
       "   'time',\n",
       "   'a',\n",
       "   'preteen',\n",
       "   '/',\n",
       "   'teen',\n",
       "   'got',\n",
       "   'any',\n",
       "   'other',\n",
       "   'vaccine',\n",
       "   '>']},\n",
       " {'hashtags': ['hpv', 'vaccin'],\n",
       "  'id': '418194978310209536',\n",
       "  'orignal_hashtags': ['#hpv', '#vaccine'],\n",
       "  'raw': 'rt @cdcstd: #hpv vax coverage could be 93% if doctors gave hpv #vaccine each time a preteen/teen got any other vaccine....',\n",
       "  'text': 'rt : hpv vax coverage could be 93% if doctors gave hpv vaccine each time a preteen / teen got any other vaccine....',\n",
       "  'words': ['rt',\n",
       "   ':',\n",
       "   'hpv',\n",
       "   'vax',\n",
       "   'coverage',\n",
       "   'could',\n",
       "   'be',\n",
       "   '93',\n",
       "   '%',\n",
       "   'if',\n",
       "   'doctors',\n",
       "   'gave',\n",
       "   'hpv',\n",
       "   'vaccine',\n",
       "   'each',\n",
       "   'time',\n",
       "   'a',\n",
       "   'preteen',\n",
       "   '/',\n",
       "   'teen',\n",
       "   'got',\n",
       "   'any',\n",
       "   'other',\n",
       "   'vaccine',\n",
       "   '...',\n",
       "   '.']}]"
      ]
     },
     "execution_count": 93,
     "metadata": {},
     "output_type": "execute_result"
    }
   ],
   "source": [
    "tw_labeled[:2]"
   ]
  },
  {
   "cell_type": "code",
   "execution_count": 8,
   "metadata": {},
   "outputs": [
    {
     "data": {
      "text/plain": [
       "[{'hashtag_label': [2, 5],\n",
       "  'hashtags': ['hpv', 'vaccin'],\n",
       "  'id': '418263863772327936',\n",
       "  'orignal_hashtags': ['#hpv', '#vaccine'],\n",
       "  'raw': 'rt @cdcstd: #hpv vax coverage could be 93% if doctors gave hpv #vaccine each time a preteen/teen got any other vaccine&gt; http://t.co/xxryga5…',\n",
       "  'text': 'rt : hpv vax coverage could be 93% if doctors gave hpv vaccine each time a preteen / teen got any other vaccine>',\n",
       "  'words': ['rt',\n",
       "   ':',\n",
       "   'hpv',\n",
       "   'vax',\n",
       "   'coverage',\n",
       "   'could',\n",
       "   'be',\n",
       "   '93',\n",
       "   '%',\n",
       "   'if',\n",
       "   'doctors',\n",
       "   'gave',\n",
       "   'hpv',\n",
       "   'vaccine',\n",
       "   'each',\n",
       "   'time',\n",
       "   'a',\n",
       "   'preteen',\n",
       "   '/',\n",
       "   'teen',\n",
       "   'got',\n",
       "   'any',\n",
       "   'other',\n",
       "   'vaccine',\n",
       "   '>']},\n",
       " {'hashtag_label': [2, 5],\n",
       "  'hashtags': ['hpv', 'vaccin'],\n",
       "  'id': '418194978310209536',\n",
       "  'orignal_hashtags': ['#hpv', '#vaccine'],\n",
       "  'raw': 'rt @cdcstd: #hpv vax coverage could be 93% if doctors gave hpv #vaccine each time a preteen/teen got any other vaccine....',\n",
       "  'text': 'rt : hpv vax coverage could be 93% if doctors gave hpv vaccine each time a preteen / teen got any other vaccine....',\n",
       "  'words': ['rt',\n",
       "   ':',\n",
       "   'hpv',\n",
       "   'vax',\n",
       "   'coverage',\n",
       "   'could',\n",
       "   'be',\n",
       "   '93',\n",
       "   '%',\n",
       "   'if',\n",
       "   'doctors',\n",
       "   'gave',\n",
       "   'hpv',\n",
       "   'vaccine',\n",
       "   'each',\n",
       "   'time',\n",
       "   'a',\n",
       "   'preteen',\n",
       "   '/',\n",
       "   'teen',\n",
       "   'got',\n",
       "   'any',\n",
       "   'other',\n",
       "   'vaccine',\n",
       "   '...',\n",
       "   '.']}]"
      ]
     },
     "execution_count": 8,
     "metadata": {},
     "output_type": "execute_result"
    }
   ],
   "source": [
    "#extract the tweets with the tag(s) in the most freq tag list\n",
    "modeling_data = []\n",
    "neg_sample = []\n",
    "\n",
    "top_hashtags_map = dict()\n",
    "for i, each in enumerate(top_hashtags):\n",
    "    top_hashtags_map[each] = i\n",
    "flag = 0\n",
    "for each in tw_labeled:\n",
    "    each['hashtag_label'] = []\n",
    "    for tg in each['hashtags']:\n",
    "        if tg in top_hashtags:\n",
    "            each['hashtag_label'].append(top_hashtags_map[tg])\n",
    "            flag = 1\n",
    "    if flag:\n",
    "        modeling_data.append(each)\n",
    "        flag = 0\n",
    "    else:\n",
    "        neg_sample.append(each)\n",
    "\n",
    "modeling_data[:2]"
   ]
  },
  {
   "cell_type": "code",
   "execution_count": 9,
   "metadata": {},
   "outputs": [
    {
     "data": {
      "text/plain": [
       "{'hashtag_label': [],\n",
       " 'hashtags': ['cervicalhealthawarenessmonth', 'obamacar'],\n",
       " 'id': '418769437261455360',\n",
       " 'orignal_hashtags': ['#cervicalhealthawarenessmonth', '#obamacare'],\n",
       " 'raw': 'rt @ppsne: jan. is #cervicalhealthawarenessmonth. thanks to #obamacare, pap tests + the hpv vaccine are covered without a copay. http://t.c…',\n",
       " 'text': 'rt : jan. is cervicalhealthawarenessmonth. thanks to obamacare, pap tests + the hpv vaccine are covered without a copay.',\n",
       " 'words': ['rt',\n",
       "  ':',\n",
       "  'jan.',\n",
       "  'is',\n",
       "  'cervicalhealthawarenessmonth',\n",
       "  '.',\n",
       "  'thanks',\n",
       "  'to',\n",
       "  'obamacare',\n",
       "  ',',\n",
       "  'pap',\n",
       "  'tests',\n",
       "  '+',\n",
       "  'the',\n",
       "  'hpv',\n",
       "  'vaccine',\n",
       "  'are',\n",
       "  'covered',\n",
       "  'without',\n",
       "  'a',\n",
       "  'copay',\n",
       "  '.']}"
      ]
     },
     "execution_count": 9,
     "metadata": {},
     "output_type": "execute_result"
    }
   ],
   "source": [
    "neg_sample[0]"
   ]
  },
  {
   "cell_type": "code",
   "execution_count": 95,
   "metadata": {},
   "outputs": [
    {
     "name": "stdout",
     "output_type": "stream",
     "text": [
      "The longest tweets has 39 words\n",
      "The shortest tweets has 2 words\n",
      "The averaged tweets has 18.5 words\n",
      "Total number of modeling sample: 81049\n"
     ]
    }
   ],
   "source": [
    "#twitter length\n",
    "tmax = 0\n",
    "tmin = 500\n",
    "for each in modeling_data:\n",
    "    size = len(each['words'])\n",
    "    tmax = max(tmax, size)\n",
    "    tmin = min(tmin, size)\n",
    "    if tmin == 0:\n",
    "        print(each)\n",
    "print(\"The longest tweets has {} words\".format(tmax))\n",
    "print(\"The shortest tweets has {} words\".format(tmin))\n",
    "print(\"The averaged tweets has {} words\".format((tmax - tmin)/2))\n",
    "print(\"Total number of modeling sample: {}\".format(len(modeling_data)))"
   ]
  },
  {
   "cell_type": "code",
   "execution_count": 98,
   "metadata": {},
   "outputs": [
    {
     "name": "stdout",
     "output_type": "stream",
     "text": [
      "81049\n",
      "11\n"
     ]
    },
    {
     "data": {
      "text/plain": [
       "[{'hashtag_label': [1, 5],\n",
       "  'hashtags': ['hpv', 'vaccin'],\n",
       "  'id': '418263863772327936',\n",
       "  'orignal_hashtags': ['#hpv', '#vaccine'],\n",
       "  'raw': 'rt @cdcstd: #hpv vax coverage could be 93% if doctors gave hpv #vaccine each time a preteen/teen got any other vaccine&gt; http://t.co/xxryga5…',\n",
       "  'text': 'rt : hpv vax coverage could be 93% if doctors gave hpv vaccine each time a preteen / teen got any other vaccine>',\n",
       "  'words': ['rt',\n",
       "   ':',\n",
       "   'hpv',\n",
       "   'vax',\n",
       "   'coverage',\n",
       "   'could',\n",
       "   'be',\n",
       "   '93',\n",
       "   '%',\n",
       "   'if',\n",
       "   'doctors',\n",
       "   'gave',\n",
       "   'hpv',\n",
       "   'vaccine',\n",
       "   'each',\n",
       "   'time',\n",
       "   'a',\n",
       "   'preteen',\n",
       "   '/',\n",
       "   'teen',\n",
       "   'got',\n",
       "   'any',\n",
       "   'other',\n",
       "   'vaccine',\n",
       "   '>']}]"
      ]
     },
     "execution_count": 98,
     "metadata": {},
     "output_type": "execute_result"
    }
   ],
   "source": [
    "#save data for modeling\n",
    "file_data4CNN = \"temp/tweets4classification.json\"\n",
    "\n",
    "with open(file_data4CNN, \"w\", encoding=\"utf-8\") as f:\n",
    "    json.dump({'data':modeling_data, 'categorical_num':len(top_hashtags)}, f)\n",
    "\n",
    "with open(file_data4CNN, \"r\", encoding=\"utf-8\") as f:\n",
    "    md = json.load(f)\n",
    "\n",
    "print(len(md['data']))\n",
    "print(md['categorical_num'])\n",
    "md['data'][:1]"
   ]
  },
  {
   "cell_type": "code",
   "execution_count": 11,
   "metadata": {},
   "outputs": [
    {
     "data": {
      "text/plain": [
       "{'hashtags': [],\n",
       " 'id': '418175306319421440',\n",
       " 'orignal_hashtags': [],\n",
       " 'raw': 'over half a million gardasil vaccines recalled due to glass particle contamination - http://t.co/knuerlgxnl',\n",
       " 'text': 'over half a million gardasil vaccines recalled due to glass particle contamination -',\n",
       " 'words': ['over',\n",
       "  'half',\n",
       "  'a',\n",
       "  'million',\n",
       "  'gardasil',\n",
       "  'vaccines',\n",
       "  'recalled',\n",
       "  'due',\n",
       "  'to',\n",
       "  'glass',\n",
       "  'particle',\n",
       "  'contamination',\n",
       "  '-']}"
      ]
     },
     "execution_count": 11,
     "metadata": {},
     "output_type": "execute_result"
    }
   ],
   "source": [
    "# save no labeled data as json\n",
    "with open(\"temp/no_labeled_data.json\", \"w\", encoding=\"utf-8\") as f:\n",
    "    json.dump({'data':tw_no_label}, f)\n",
    "\n",
    "with open(\"temp/no_labeled_data.json\", \"r\", encoding=\"utf-8\") as f:\n",
    "    md = json.load(f)\n",
    "md['data'][0]"
   ]
  },
  {
   "cell_type": "code",
   "execution_count": 12,
   "metadata": {},
   "outputs": [
    {
     "data": {
      "text/plain": [
       "{'hashtag_label': [],\n",
       " 'hashtags': ['cervicalhealthawarenessmonth', 'obamacar'],\n",
       " 'id': '418769437261455360',\n",
       " 'orignal_hashtags': ['#cervicalhealthawarenessmonth', '#obamacare'],\n",
       " 'raw': 'rt @ppsne: jan. is #cervicalhealthawarenessmonth. thanks to #obamacare, pap tests + the hpv vaccine are covered without a copay. http://t.c…',\n",
       " 'text': 'rt : jan. is cervicalhealthawarenessmonth. thanks to obamacare, pap tests + the hpv vaccine are covered without a copay.',\n",
       " 'words': ['rt',\n",
       "  ':',\n",
       "  'jan.',\n",
       "  'is',\n",
       "  'cervicalhealthawarenessmonth',\n",
       "  '.',\n",
       "  'thanks',\n",
       "  'to',\n",
       "  'obamacare',\n",
       "  ',',\n",
       "  'pap',\n",
       "  'tests',\n",
       "  '+',\n",
       "  'the',\n",
       "  'hpv',\n",
       "  'vaccine',\n",
       "  'are',\n",
       "  'covered',\n",
       "  'without',\n",
       "  'a',\n",
       "  'copay',\n",
       "  '.']}"
      ]
     },
     "execution_count": 12,
     "metadata": {},
     "output_type": "execute_result"
    }
   ],
   "source": [
    "# save neg_sample data as json\n",
    "with open(\"temp/neg_sample_data.json\", \"w\", encoding=\"utf-8\") as f:\n",
    "    json.dump({'data':neg_sample}, f)\n",
    "\n",
    "with open(\"temp/neg_sample_data.json\", \"r\", encoding=\"utf-8\") as f:\n",
    "    md = json.load(f)\n",
    "md['data'][0]"
   ]
  },
  {
   "cell_type": "code",
   "execution_count": null,
   "metadata": {
    "collapsed": true
   },
   "outputs": [],
   "source": []
  }
 ],
 "metadata": {
  "kernelspec": {
   "display_name": "Python 3",
   "language": "python",
   "name": "python3"
  },
  "language_info": {
   "codemirror_mode": {
    "name": "ipython",
    "version": 3
   },
   "file_extension": ".py",
   "mimetype": "text/x-python",
   "name": "python",
   "nbconvert_exporter": "python",
   "pygments_lexer": "ipython3",
   "version": "3.6.2"
  },
  "toc": {
   "nav_menu": {},
   "number_sections": true,
   "sideBar": true,
   "skip_h1_title": false,
   "toc_cell": false,
   "toc_position": {},
   "toc_section_display": "block",
   "toc_window_display": false
  },
  "varInspector": {
   "cols": {
    "lenName": 16,
    "lenType": 16,
    "lenVar": 40
   },
   "kernels_config": {
    "python": {
     "delete_cmd_postfix": "",
     "delete_cmd_prefix": "del ",
     "library": "var_list.py",
     "varRefreshCmd": "print(var_dic_list())"
    },
    "r": {
     "delete_cmd_postfix": ") ",
     "delete_cmd_prefix": "rm(",
     "library": "var_list.r",
     "varRefreshCmd": "cat(var_dic_list()) "
    }
   },
   "position": {
    "height": "450px",
    "left": "1318px",
    "right": "20px",
    "top": "118px",
    "width": "463px"
   },
   "types_to_exclude": [
    "module",
    "function",
    "builtin_function_or_method",
    "instance",
    "_Feature"
   ],
   "window_display": false
  }
 },
 "nbformat": 4,
 "nbformat_minor": 2
}
